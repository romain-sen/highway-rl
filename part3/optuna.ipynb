{
 "cells": [
  {
   "cell_type": "code",
   "execution_count": 5,
   "metadata": {},
   "outputs": [],
   "source": [
    "import gymnasium as gym\n",
    "from stable_baselines3 import PPO\n",
    "from config import config\n",
    "from stable_baselines3.common.utils import set_random_seed\n",
    "from stable_baselines3.common.vec_env import DummyVecEnv, SubprocVecEnv\n",
    "from stable_baselines3.common.env_util import make_vec_env\n",
    "from stable_baselines3.common.evaluation import evaluate_policy\n",
    "import optuna\n",
    "from stable_baselines3.common.callbacks import EvalCallback,BaseCallback\n",
    "from config2 import config2\n",
    "env_id = \"intersection-v0\"#\"racetrack-v0\"\n",
    "num_cpu = 4\n",
    "\n",
    "# env = make_vec_env(env_id, n_envs=num_cpu)\n",
    "# env = gym.make(env_id, render_mode=\"rgb_array\", config=config\n",
    "            #    )\n",
    "# env.unwrapped.configure(config)"
   ]
  },
  {
   "cell_type": "code",
   "execution_count": 6,
   "metadata": {},
   "outputs": [
    {
     "data": {
      "text/plain": [
       "{'observation': {'type': 'GrayscaleObservation',\n",
       "  'observation_shape': (64, 64),\n",
       "  'stack_size': 4,\n",
       "  'weights': [0.2989, 0.587, 0.114],\n",
       "  'scaling': 1.75},\n",
       " 'action': {'type': 'ContinuousAction', 'longitudinal': True, 'lateral': True},\n",
       " 'duration': 13,\n",
       " 'destination': 'o1',\n",
       " 'initial_vehicle_count': 150,\n",
       " 'spawn_probability': 0.7,\n",
       " 'screen_width': 600,\n",
       " 'screen_height': 600,\n",
       " 'centering_position': [0.5, 0.5],\n",
       " 'scaling': 7.15,\n",
       " 'collision_reward': -5,\n",
       " 'high_speed_reward': 0,\n",
       " 'arrived_reward': 3,\n",
       " 'normalize_reward': False,\n",
       " 'simulation_frequency': 15,\n",
       " 'policy_frequency': 5,\n",
       " 'offroad_terminal': False}"
      ]
     },
     "execution_count": 6,
     "metadata": {},
     "output_type": "execute_result"
    }
   ],
   "source": [
    "config"
   ]
  },
  {
   "cell_type": "code",
   "execution_count": 7,
   "metadata": {},
   "outputs": [],
   "source": [
    "model = PPO.load(\"models/optuna_last_chance_130000.zip\")\n",
    "eval_env = gym.make(env_id, render_mode=\"rgb_array\", config=config)\n",
    "# eval_env = gym.make(\"highway-fast-v0\", render_mode=\"rgb_array\", config=config)"
   ]
  },
  {
   "cell_type": "code",
   "execution_count": 8,
   "metadata": {},
   "outputs": [
    {
     "ename": "AttributeError",
     "evalue": "'NoneType' object has no attribute 'get_image'",
     "output_type": "error",
     "traceback": [
      "\u001b[1;31m---------------------------------------------------------------------------\u001b[0m",
      "\u001b[1;31mAttributeError\u001b[0m                            Traceback (most recent call last)",
      "Cell \u001b[1;32mIn[8], line 6\u001b[0m\n\u001b[0;32m      4\u001b[0m \u001b[38;5;28;01mwhile\u001b[39;00m \u001b[38;5;129;01mnot\u001b[39;00m (done \u001b[38;5;129;01mor\u001b[39;00m truncated):\n\u001b[0;32m      5\u001b[0m   action, _states \u001b[38;5;241m=\u001b[39m model\u001b[38;5;241m.\u001b[39mpredict(obs, deterministic\u001b[38;5;241m=\u001b[39m\u001b[38;5;28;01mTrue\u001b[39;00m)\n\u001b[1;32m----> 6\u001b[0m   obs, reward, done, truncated, info \u001b[38;5;241m=\u001b[39m \u001b[43meval_env\u001b[49m\u001b[38;5;241;43m.\u001b[39;49m\u001b[43mstep\u001b[49m\u001b[43m(\u001b[49m\u001b[43maction\u001b[49m\u001b[43m)\u001b[49m\n\u001b[0;32m      7\u001b[0m   eval_env\u001b[38;5;241m.\u001b[39mrender()\n",
      "File \u001b[1;32mc:\\Users\\matth\\AppData\\Local\\Programs\\Python\\Python311\\Lib\\site-packages\\gymnasium\\wrappers\\order_enforcing.py:56\u001b[0m, in \u001b[0;36mOrderEnforcing.step\u001b[1;34m(self, action)\u001b[0m\n\u001b[0;32m     54\u001b[0m \u001b[38;5;28;01mif\u001b[39;00m \u001b[38;5;129;01mnot\u001b[39;00m \u001b[38;5;28mself\u001b[39m\u001b[38;5;241m.\u001b[39m_has_reset:\n\u001b[0;32m     55\u001b[0m     \u001b[38;5;28;01mraise\u001b[39;00m ResetNeeded(\u001b[38;5;124m\"\u001b[39m\u001b[38;5;124mCannot call env.step() before calling env.reset()\u001b[39m\u001b[38;5;124m\"\u001b[39m)\n\u001b[1;32m---> 56\u001b[0m \u001b[38;5;28;01mreturn\u001b[39;00m \u001b[38;5;28;43mself\u001b[39;49m\u001b[38;5;241;43m.\u001b[39;49m\u001b[43menv\u001b[49m\u001b[38;5;241;43m.\u001b[39;49m\u001b[43mstep\u001b[49m\u001b[43m(\u001b[49m\u001b[43maction\u001b[49m\u001b[43m)\u001b[49m\n",
      "File \u001b[1;32mc:\\Users\\matth\\AppData\\Local\\Programs\\Python\\Python311\\Lib\\site-packages\\gymnasium\\wrappers\\env_checker.py:51\u001b[0m, in \u001b[0;36mPassiveEnvChecker.step\u001b[1;34m(self, action)\u001b[0m\n\u001b[0;32m     49\u001b[0m     \u001b[38;5;28;01mreturn\u001b[39;00m env_step_passive_checker(\u001b[38;5;28mself\u001b[39m\u001b[38;5;241m.\u001b[39menv, action)\n\u001b[0;32m     50\u001b[0m \u001b[38;5;28;01melse\u001b[39;00m:\n\u001b[1;32m---> 51\u001b[0m     \u001b[38;5;28;01mreturn\u001b[39;00m \u001b[38;5;28;43mself\u001b[39;49m\u001b[38;5;241;43m.\u001b[39;49m\u001b[43menv\u001b[49m\u001b[38;5;241;43m.\u001b[39;49m\u001b[43mstep\u001b[49m\u001b[43m(\u001b[49m\u001b[43maction\u001b[49m\u001b[43m)\u001b[49m\n",
      "File \u001b[1;32mc:\\Users\\matth\\AppData\\Local\\Programs\\Python\\Python311\\Lib\\site-packages\\highway_env\\envs\\intersection_env.py:123\u001b[0m, in \u001b[0;36mIntersectionEnv.step\u001b[1;34m(self, action)\u001b[0m\n\u001b[0;32m    122\u001b[0m \u001b[38;5;28;01mdef\u001b[39;00m \u001b[38;5;21mstep\u001b[39m(\u001b[38;5;28mself\u001b[39m, action: \u001b[38;5;28mint\u001b[39m) \u001b[38;5;241m-\u001b[39m\u001b[38;5;241m>\u001b[39m Tuple[np\u001b[38;5;241m.\u001b[39mndarray, \u001b[38;5;28mfloat\u001b[39m, \u001b[38;5;28mbool\u001b[39m, \u001b[38;5;28mbool\u001b[39m, \u001b[38;5;28mdict\u001b[39m]:\n\u001b[1;32m--> 123\u001b[0m     obs, reward, terminated, truncated, info \u001b[38;5;241m=\u001b[39m \u001b[38;5;28;43msuper\u001b[39;49m\u001b[43m(\u001b[49m\u001b[43m)\u001b[49m\u001b[38;5;241;43m.\u001b[39;49m\u001b[43mstep\u001b[49m\u001b[43m(\u001b[49m\u001b[43maction\u001b[49m\u001b[43m)\u001b[49m\n\u001b[0;32m    124\u001b[0m     \u001b[38;5;28mself\u001b[39m\u001b[38;5;241m.\u001b[39m_clear_vehicles()\n\u001b[0;32m    125\u001b[0m     \u001b[38;5;28mself\u001b[39m\u001b[38;5;241m.\u001b[39m_spawn_vehicle(spawn_probability\u001b[38;5;241m=\u001b[39m\u001b[38;5;28mself\u001b[39m\u001b[38;5;241m.\u001b[39mconfig[\u001b[38;5;124m\"\u001b[39m\u001b[38;5;124mspawn_probability\u001b[39m\u001b[38;5;124m\"\u001b[39m])\n",
      "File \u001b[1;32mc:\\Users\\matth\\AppData\\Local\\Programs\\Python\\Python311\\Lib\\site-packages\\highway_env\\envs\\common\\abstract.py:235\u001b[0m, in \u001b[0;36mAbstractEnv.step\u001b[1;34m(self, action)\u001b[0m\n\u001b[0;32m    232\u001b[0m     \u001b[38;5;28;01mraise\u001b[39;00m \u001b[38;5;167;01mNotImplementedError\u001b[39;00m(\u001b[38;5;124m\"\u001b[39m\u001b[38;5;124mThe road and vehicle must be initialized in the environment implementation\u001b[39m\u001b[38;5;124m\"\u001b[39m)\n\u001b[0;32m    234\u001b[0m \u001b[38;5;28mself\u001b[39m\u001b[38;5;241m.\u001b[39mtime \u001b[38;5;241m+\u001b[39m\u001b[38;5;241m=\u001b[39m \u001b[38;5;241m1\u001b[39m \u001b[38;5;241m/\u001b[39m \u001b[38;5;28mself\u001b[39m\u001b[38;5;241m.\u001b[39mconfig[\u001b[38;5;124m\"\u001b[39m\u001b[38;5;124mpolicy_frequency\u001b[39m\u001b[38;5;124m\"\u001b[39m]\n\u001b[1;32m--> 235\u001b[0m \u001b[38;5;28;43mself\u001b[39;49m\u001b[38;5;241;43m.\u001b[39;49m\u001b[43m_simulate\u001b[49m\u001b[43m(\u001b[49m\u001b[43maction\u001b[49m\u001b[43m)\u001b[49m\n\u001b[0;32m    237\u001b[0m obs \u001b[38;5;241m=\u001b[39m \u001b[38;5;28mself\u001b[39m\u001b[38;5;241m.\u001b[39mobservation_type\u001b[38;5;241m.\u001b[39mobserve()\n\u001b[0;32m    238\u001b[0m reward \u001b[38;5;241m=\u001b[39m \u001b[38;5;28mself\u001b[39m\u001b[38;5;241m.\u001b[39m_reward(action)\n",
      "File \u001b[1;32mc:\\Users\\matth\\AppData\\Local\\Programs\\Python\\Python311\\Lib\\site-packages\\highway_env\\envs\\common\\abstract.py:264\u001b[0m, in \u001b[0;36mAbstractEnv._simulate\u001b[1;34m(self, action)\u001b[0m\n\u001b[0;32m    261\u001b[0m     \u001b[38;5;66;03m# Automatically render intermediate simulation steps if a viewer has been launched\u001b[39;00m\n\u001b[0;32m    262\u001b[0m     \u001b[38;5;66;03m# Ignored if the rendering is done offscreen\u001b[39;00m\n\u001b[0;32m    263\u001b[0m     \u001b[38;5;28;01mif\u001b[39;00m frame \u001b[38;5;241m<\u001b[39m frames \u001b[38;5;241m-\u001b[39m \u001b[38;5;241m1\u001b[39m:  \u001b[38;5;66;03m# Last frame will be rendered through env.render() as usual\u001b[39;00m\n\u001b[1;32m--> 264\u001b[0m         \u001b[38;5;28;43mself\u001b[39;49m\u001b[38;5;241;43m.\u001b[39;49m\u001b[43m_automatic_rendering\u001b[49m\u001b[43m(\u001b[49m\u001b[43m)\u001b[49m\n\u001b[0;32m    266\u001b[0m \u001b[38;5;28mself\u001b[39m\u001b[38;5;241m.\u001b[39menable_auto_render \u001b[38;5;241m=\u001b[39m \u001b[38;5;28;01mFalse\u001b[39;00m\n",
      "File \u001b[1;32mc:\\Users\\matth\\AppData\\Local\\Programs\\Python\\Python311\\Lib\\site-packages\\highway_env\\envs\\common\\abstract.py:325\u001b[0m, in \u001b[0;36mAbstractEnv._automatic_rendering\u001b[1;34m(self)\u001b[0m\n\u001b[0;32m    323\u001b[0m     \u001b[38;5;28mself\u001b[39m\u001b[38;5;241m.\u001b[39m_record_video_wrapper\u001b[38;5;241m.\u001b[39mvideo_recorder\u001b[38;5;241m.\u001b[39mcapture_frame()\n\u001b[0;32m    324\u001b[0m \u001b[38;5;28;01melse\u001b[39;00m:\n\u001b[1;32m--> 325\u001b[0m     \u001b[38;5;28;43mself\u001b[39;49m\u001b[38;5;241;43m.\u001b[39;49m\u001b[43mrender\u001b[49m\u001b[43m(\u001b[49m\u001b[43m)\u001b[49m\n",
      "File \u001b[1;32mc:\\Users\\matth\\AppData\\Local\\Programs\\Python\\Python311\\Lib\\site-packages\\highway_env\\envs\\common\\abstract.py:292\u001b[0m, in \u001b[0;36mAbstractEnv.render\u001b[1;34m(self)\u001b[0m\n\u001b[0;32m    290\u001b[0m     \u001b[38;5;28mself\u001b[39m\u001b[38;5;241m.\u001b[39mviewer\u001b[38;5;241m.\u001b[39mhandle_events()\n\u001b[0;32m    291\u001b[0m \u001b[38;5;28;01mif\u001b[39;00m \u001b[38;5;28mself\u001b[39m\u001b[38;5;241m.\u001b[39mrender_mode \u001b[38;5;241m==\u001b[39m \u001b[38;5;124m'\u001b[39m\u001b[38;5;124mrgb_array\u001b[39m\u001b[38;5;124m'\u001b[39m:\n\u001b[1;32m--> 292\u001b[0m     image \u001b[38;5;241m=\u001b[39m \u001b[38;5;28;43mself\u001b[39;49m\u001b[38;5;241;43m.\u001b[39;49m\u001b[43mviewer\u001b[49m\u001b[38;5;241;43m.\u001b[39;49m\u001b[43mget_image\u001b[49m()\n\u001b[0;32m    293\u001b[0m     \u001b[38;5;28;01mreturn\u001b[39;00m image\n",
      "\u001b[1;31mAttributeError\u001b[0m: 'NoneType' object has no attribute 'get_image'"
     ]
    }
   ],
   "source": [
    "while True:\n",
    "  done = truncated = False\n",
    "  obs, info = eval_env.reset()\n",
    "  while not (done or truncated):\n",
    "    action, _states = model.predict(obs, deterministic=True)\n",
    "    obs, reward, done, truncated, info = eval_env.step(action)\n",
    "    eval_env.render()"
   ]
  },
  {
   "cell_type": "code",
   "execution_count": null,
   "metadata": {},
   "outputs": [],
   "source": [
    "class DoneCallback(BaseCallback):\n",
    "    def __init__(self, check_freq: int, save_freq: int, save_path: str, verbose=1):\n",
    "        super(DoneCallback, self).__init__(verbose)\n",
    "        self.check_freq = check_freq\n",
    "        self.save_freq = save_freq\n",
    "        self.save_path = save_path\n",
    "        self.done_count = 0\n",
    "\n",
    "    def _on_step(self) -> bool:\n",
    "        if 'done' in self.locals.keys():\n",
    "            if self.locals['done']:\n",
    "                self.done_count += 1\n",
    "\n",
    "        if self.n_calls % self.check_freq == 0:\n",
    "            print(f\"Step: {self.num_timesteps} Done count: {self.done_count}\")\n",
    "\n",
    "        if self.n_calls % self.save_freq == 0:\n",
    "            self.model.save(self.save_path + str(self.num_timesteps))\n",
    "\n",
    "        return True"
   ]
  },
  {
   "cell_type": "code",
   "execution_count": 3,
   "metadata": {},
   "outputs": [
    {
     "data": {
      "text/html": [
       "<pre style=\"white-space:pre;overflow-x:auto;line-height:normal;font-family:Menlo,'DejaVu Sans Mono',consolas,'Courier New',monospace\">Eval num_timesteps=26000, episode_reward=18.20 +/- 4.66\n",
       "</pre>\n"
      ],
      "text/plain": [
       "Eval num_timesteps=26000, episode_reward=18.20 +/- 4.66\n"
      ]
     },
     "metadata": {},
     "output_type": "display_data"
    },
    {
     "data": {
      "text/html": [
       "<pre style=\"white-space:pre;overflow-x:auto;line-height:normal;font-family:Menlo,'DejaVu Sans Mono',consolas,'Courier New',monospace\">Episode length: 30.00 +/- 18.26\n",
       "</pre>\n"
      ],
      "text/plain": [
       "Episode length: 30.00 +/- 18.26\n"
      ]
     },
     "metadata": {},
     "output_type": "display_data"
    },
    {
     "data": {
      "text/html": [
       "<pre style=\"white-space:pre;overflow-x:auto;line-height:normal;font-family:Menlo,'DejaVu Sans Mono',consolas,'Courier New',monospace\"></pre>\n"
      ],
      "text/plain": []
     },
     "metadata": {},
     "output_type": "display_data"
    },
    {
     "data": {
      "text/html": [
       "<pre style=\"white-space:pre;overflow-x:auto;line-height:normal;font-family:Menlo,'DejaVu Sans Mono',consolas,'Courier New',monospace\">\n",
       "</pre>\n"
      ],
      "text/plain": [
       "\n"
      ]
     },
     "metadata": {},
     "output_type": "display_data"
    },
    {
     "name": "stderr",
     "output_type": "stream",
     "text": [
      "[I 2024-04-25 13:44:12,889] Trial 25 finished with value: 27.0 and parameters: {'n_steps': 1087.4953333804424, 'gamma': 0.98, 'learning_rate': 6.598882302687722e-05, 'ent_coef': 0.01786356354334364, 'clip_range': 0.16873577386904987, 'n_epochs': 1.3576674975524343}. Best is trial 17 with value: 42.6.\n",
      "c:\\Users\\matth\\AppData\\Local\\Programs\\Python\\Python311\\Lib\\site-packages\\stable_baselines3\\ppo\\ppo.py:155: UserWarning: You have specified a mini-batch size of 64, but because the `RolloutBuffer` is of size `n_steps * n_envs = 1072`, after every 16 untruncated mini-batches, there will be a truncated mini-batch of size 48\n",
      "We recommend using a `batch_size` that is a factor of `n_steps * n_envs`.\n",
      "Info: (n_steps=268 and n_envs=4)\n",
      "  warnings.warn(\n"
     ]
    },
    {
     "data": {
      "application/vnd.jupyter.widget-view+json": {
       "model_id": "213922ffd6a64a96b929bb25cfbcc995",
       "version_major": 2,
       "version_minor": 0
      },
      "text/plain": [
       "Output()"
      ]
     },
     "metadata": {},
     "output_type": "display_data"
    },
    {
     "data": {
      "text/html": [
       "<pre style=\"white-space:pre;overflow-x:auto;line-height:normal;font-family:Menlo,'DejaVu Sans Mono',consolas,'Courier New',monospace\">Step: 512 Done count: 3\n",
       "</pre>\n"
      ],
      "text/plain": [
       "Step: 512 Done count: 3\n"
      ]
     },
     "metadata": {},
     "output_type": "display_data"
    },
    {
     "data": {
      "text/html": [
       "<pre style=\"white-space:pre;overflow-x:auto;line-height:normal;font-family:Menlo,'DejaVu Sans Mono',consolas,'Courier New',monospace\">Step: 1024 Done count: 6\n",
       "</pre>\n"
      ],
      "text/plain": [
       "Step: 1024 Done count: 6\n"
      ]
     },
     "metadata": {},
     "output_type": "display_data"
    },
    {
     "data": {
      "text/html": [
       "<pre style=\"white-space:pre;overflow-x:auto;line-height:normal;font-family:Menlo,'DejaVu Sans Mono',consolas,'Courier New',monospace\">Step: 1536 Done count: 10\n",
       "</pre>\n"
      ],
      "text/plain": [
       "Step: 1536 Done count: 10\n"
      ]
     },
     "metadata": {},
     "output_type": "display_data"
    },
    {
     "data": {
      "text/html": [
       "<pre style=\"white-space:pre;overflow-x:auto;line-height:normal;font-family:Menlo,'DejaVu Sans Mono',consolas,'Courier New',monospace\">Eval num_timesteps=2000, episode_reward=24.20 +/- 12.40\n",
       "</pre>\n"
      ],
      "text/plain": [
       "Eval num_timesteps=2000, episode_reward=24.20 +/- 12.40\n"
      ]
     },
     "metadata": {},
     "output_type": "display_data"
    },
    {
     "data": {
      "text/html": [
       "<pre style=\"white-space:pre;overflow-x:auto;line-height:normal;font-family:Menlo,'DejaVu Sans Mono',consolas,'Courier New',monospace\">Episode length: 27.20 +/- 10.03\n",
       "</pre>\n"
      ],
      "text/plain": [
       "Episode length: 27.20 +/- 10.03\n"
      ]
     },
     "metadata": {},
     "output_type": "display_data"
    },
    {
     "data": {
      "text/html": [
       "<pre style=\"white-space:pre;overflow-x:auto;line-height:normal;font-family:Menlo,'DejaVu Sans Mono',consolas,'Courier New',monospace\">New best mean reward!\n",
       "</pre>\n"
      ],
      "text/plain": [
       "New best mean reward!\n"
      ]
     },
     "metadata": {},
     "output_type": "display_data"
    },
    {
     "data": {
      "text/html": [
       "<pre style=\"white-space:pre;overflow-x:auto;line-height:normal;font-family:Menlo,'DejaVu Sans Mono',consolas,'Courier New',monospace\">Step: 2048 Done count: 15\n",
       "</pre>\n"
      ],
      "text/plain": [
       "Step: 2048 Done count: 15\n"
      ]
     },
     "metadata": {},
     "output_type": "display_data"
    },
    {
     "data": {
      "text/html": [
       "<pre style=\"white-space:pre;overflow-x:auto;line-height:normal;font-family:Menlo,'DejaVu Sans Mono',consolas,'Courier New',monospace\">Step: 2560 Done count: 18\n",
       "</pre>\n"
      ],
      "text/plain": [
       "Step: 2560 Done count: 18\n"
      ]
     },
     "metadata": {},
     "output_type": "display_data"
    },
    {
     "data": {
      "text/html": [
       "<pre style=\"white-space:pre;overflow-x:auto;line-height:normal;font-family:Menlo,'DejaVu Sans Mono',consolas,'Courier New',monospace\">Step: 3072 Done count: 23\n",
       "</pre>\n"
      ],
      "text/plain": [
       "Step: 3072 Done count: 23\n"
      ]
     },
     "metadata": {},
     "output_type": "display_data"
    },
    {
     "data": {
      "text/html": [
       "<pre style=\"white-space:pre;overflow-x:auto;line-height:normal;font-family:Menlo,'DejaVu Sans Mono',consolas,'Courier New',monospace\">Step: 3584 Done count: 27\n",
       "</pre>\n"
      ],
      "text/plain": [
       "Step: 3584 Done count: 27\n"
      ]
     },
     "metadata": {},
     "output_type": "display_data"
    },
    {
     "data": {
      "text/html": [
       "<pre style=\"white-space:pre;overflow-x:auto;line-height:normal;font-family:Menlo,'DejaVu Sans Mono',consolas,'Courier New',monospace\">Eval num_timesteps=4000, episode_reward=17.60 +/- 4.84\n",
       "</pre>\n"
      ],
      "text/plain": [
       "Eval num_timesteps=4000, episode_reward=17.60 +/- 4.84\n"
      ]
     },
     "metadata": {},
     "output_type": "display_data"
    },
    {
     "data": {
      "text/html": [
       "<pre style=\"white-space:pre;overflow-x:auto;line-height:normal;font-family:Menlo,'DejaVu Sans Mono',consolas,'Courier New',monospace\">Episode length: 38.60 +/- 22.46\n",
       "</pre>\n"
      ],
      "text/plain": [
       "Episode length: 38.60 +/- 22.46\n"
      ]
     },
     "metadata": {},
     "output_type": "display_data"
    },
    {
     "data": {
      "text/html": [
       "<pre style=\"white-space:pre;overflow-x:auto;line-height:normal;font-family:Menlo,'DejaVu Sans Mono',consolas,'Courier New',monospace\">Step: 4096 Done count: 32\n",
       "</pre>\n"
      ],
      "text/plain": [
       "Step: 4096 Done count: 32\n"
      ]
     },
     "metadata": {},
     "output_type": "display_data"
    },
    {
     "data": {
      "text/html": [
       "<pre style=\"white-space:pre;overflow-x:auto;line-height:normal;font-family:Menlo,'DejaVu Sans Mono',consolas,'Courier New',monospace\">Step: 4608 Done count: 37\n",
       "</pre>\n"
      ],
      "text/plain": [
       "Step: 4608 Done count: 37\n"
      ]
     },
     "metadata": {},
     "output_type": "display_data"
    },
    {
     "data": {
      "text/html": [
       "<pre style=\"white-space:pre;overflow-x:auto;line-height:normal;font-family:Menlo,'DejaVu Sans Mono',consolas,'Courier New',monospace\">Step: 5120 Done count: 42\n",
       "</pre>\n"
      ],
      "text/plain": [
       "Step: 5120 Done count: 42\n"
      ]
     },
     "metadata": {},
     "output_type": "display_data"
    },
    {
     "data": {
      "text/html": [
       "<pre style=\"white-space:pre;overflow-x:auto;line-height:normal;font-family:Menlo,'DejaVu Sans Mono',consolas,'Courier New',monospace\">Step: 5632 Done count: 44\n",
       "</pre>\n"
      ],
      "text/plain": [
       "Step: 5632 Done count: 44\n"
      ]
     },
     "metadata": {},
     "output_type": "display_data"
    },
    {
     "data": {
      "text/html": [
       "<pre style=\"white-space:pre;overflow-x:auto;line-height:normal;font-family:Menlo,'DejaVu Sans Mono',consolas,'Courier New',monospace\">Eval num_timesteps=6000, episode_reward=10.60 +/- 3.93\n",
       "</pre>\n"
      ],
      "text/plain": [
       "Eval num_timesteps=6000, episode_reward=10.60 +/- 3.93\n"
      ]
     },
     "metadata": {},
     "output_type": "display_data"
    },
    {
     "data": {
      "text/html": [
       "<pre style=\"white-space:pre;overflow-x:auto;line-height:normal;font-family:Menlo,'DejaVu Sans Mono',consolas,'Courier New',monospace\">Episode length: 27.00 +/- 8.00\n",
       "</pre>\n"
      ],
      "text/plain": [
       "Episode length: 27.00 +/- 8.00\n"
      ]
     },
     "metadata": {},
     "output_type": "display_data"
    },
    {
     "data": {
      "text/html": [
       "<pre style=\"white-space:pre;overflow-x:auto;line-height:normal;font-family:Menlo,'DejaVu Sans Mono',consolas,'Courier New',monospace\">Step: 6144 Done count: 48\n",
       "</pre>\n"
      ],
      "text/plain": [
       "Step: 6144 Done count: 48\n"
      ]
     },
     "metadata": {},
     "output_type": "display_data"
    },
    {
     "data": {
      "text/html": [
       "<pre style=\"white-space:pre;overflow-x:auto;line-height:normal;font-family:Menlo,'DejaVu Sans Mono',consolas,'Courier New',monospace\">Step: 6656 Done count: 54\n",
       "</pre>\n"
      ],
      "text/plain": [
       "Step: 6656 Done count: 54\n"
      ]
     },
     "metadata": {},
     "output_type": "display_data"
    },
    {
     "data": {
      "text/html": [
       "<pre style=\"white-space:pre;overflow-x:auto;line-height:normal;font-family:Menlo,'DejaVu Sans Mono',consolas,'Courier New',monospace\">Step: 7168 Done count: 57\n",
       "</pre>\n"
      ],
      "text/plain": [
       "Step: 7168 Done count: 57\n"
      ]
     },
     "metadata": {},
     "output_type": "display_data"
    },
    {
     "data": {
      "text/html": [
       "<pre style=\"white-space:pre;overflow-x:auto;line-height:normal;font-family:Menlo,'DejaVu Sans Mono',consolas,'Courier New',monospace\">Step: 7680 Done count: 61\n",
       "</pre>\n"
      ],
      "text/plain": [
       "Step: 7680 Done count: 61\n"
      ]
     },
     "metadata": {},
     "output_type": "display_data"
    },
    {
     "data": {
      "text/html": [
       "<pre style=\"white-space:pre;overflow-x:auto;line-height:normal;font-family:Menlo,'DejaVu Sans Mono',consolas,'Courier New',monospace\">Eval num_timesteps=8000, episode_reward=13.20 +/- 0.40\n",
       "</pre>\n"
      ],
      "text/plain": [
       "Eval num_timesteps=8000, episode_reward=13.20 +/- 0.40\n"
      ]
     },
     "metadata": {},
     "output_type": "display_data"
    },
    {
     "data": {
      "text/html": [
       "<pre style=\"white-space:pre;overflow-x:auto;line-height:normal;font-family:Menlo,'DejaVu Sans Mono',consolas,'Courier New',monospace\">Episode length: 29.00 +/- 0.00\n",
       "</pre>\n"
      ],
      "text/plain": [
       "Episode length: 29.00 +/- 0.00\n"
      ]
     },
     "metadata": {},
     "output_type": "display_data"
    },
    {
     "data": {
      "text/html": [
       "<pre style=\"white-space:pre;overflow-x:auto;line-height:normal;font-family:Menlo,'DejaVu Sans Mono',consolas,'Courier New',monospace\">Step: 8192 Done count: 65\n",
       "</pre>\n"
      ],
      "text/plain": [
       "Step: 8192 Done count: 65\n"
      ]
     },
     "metadata": {},
     "output_type": "display_data"
    },
    {
     "data": {
      "text/html": [
       "<pre style=\"white-space:pre;overflow-x:auto;line-height:normal;font-family:Menlo,'DejaVu Sans Mono',consolas,'Courier New',monospace\">Step: 8704 Done count: 72\n",
       "</pre>\n"
      ],
      "text/plain": [
       "Step: 8704 Done count: 72\n"
      ]
     },
     "metadata": {},
     "output_type": "display_data"
    },
    {
     "data": {
      "text/html": [
       "<pre style=\"white-space:pre;overflow-x:auto;line-height:normal;font-family:Menlo,'DejaVu Sans Mono',consolas,'Courier New',monospace\">Step: 9216 Done count: 76\n",
       "</pre>\n"
      ],
      "text/plain": [
       "Step: 9216 Done count: 76\n"
      ]
     },
     "metadata": {},
     "output_type": "display_data"
    },
    {
     "data": {
      "text/html": [
       "<pre style=\"white-space:pre;overflow-x:auto;line-height:normal;font-family:Menlo,'DejaVu Sans Mono',consolas,'Courier New',monospace\">Step: 9728 Done count: 81\n",
       "</pre>\n"
      ],
      "text/plain": [
       "Step: 9728 Done count: 81\n"
      ]
     },
     "metadata": {},
     "output_type": "display_data"
    },
    {
     "data": {
      "text/html": [
       "<pre style=\"white-space:pre;overflow-x:auto;line-height:normal;font-family:Menlo,'DejaVu Sans Mono',consolas,'Courier New',monospace\">Eval num_timesteps=10000, episode_reward=6.80 +/- 0.40\n",
       "</pre>\n"
      ],
      "text/plain": [
       "Eval num_timesteps=10000, episode_reward=6.80 +/- 0.40\n"
      ]
     },
     "metadata": {},
     "output_type": "display_data"
    },
    {
     "data": {
      "text/html": [
       "<pre style=\"white-space:pre;overflow-x:auto;line-height:normal;font-family:Menlo,'DejaVu Sans Mono',consolas,'Courier New',monospace\">Episode length: 39.20 +/- 16.10\n",
       "</pre>\n"
      ],
      "text/plain": [
       "Episode length: 39.20 +/- 16.10\n"
      ]
     },
     "metadata": {},
     "output_type": "display_data"
    },
    {
     "data": {
      "text/html": [
       "<pre style=\"white-space:pre;overflow-x:auto;line-height:normal;font-family:Menlo,'DejaVu Sans Mono',consolas,'Courier New',monospace\">Step: 10240 Done count: 85\n",
       "</pre>\n"
      ],
      "text/plain": [
       "Step: 10240 Done count: 85\n"
      ]
     },
     "metadata": {},
     "output_type": "display_data"
    },
    {
     "data": {
      "text/html": [
       "<pre style=\"white-space:pre;overflow-x:auto;line-height:normal;font-family:Menlo,'DejaVu Sans Mono',consolas,'Courier New',monospace\">Step: 10752 Done count: 94\n",
       "</pre>\n"
      ],
      "text/plain": [
       "Step: 10752 Done count: 94\n"
      ]
     },
     "metadata": {},
     "output_type": "display_data"
    },
    {
     "data": {
      "text/html": [
       "<pre style=\"white-space:pre;overflow-x:auto;line-height:normal;font-family:Menlo,'DejaVu Sans Mono',consolas,'Courier New',monospace\">Step: 11264 Done count: 102\n",
       "</pre>\n"
      ],
      "text/plain": [
       "Step: 11264 Done count: 102\n"
      ]
     },
     "metadata": {},
     "output_type": "display_data"
    },
    {
     "data": {
      "text/html": [
       "<pre style=\"white-space:pre;overflow-x:auto;line-height:normal;font-family:Menlo,'DejaVu Sans Mono',consolas,'Courier New',monospace\">Step: 11776 Done count: 107\n",
       "</pre>\n"
      ],
      "text/plain": [
       "Step: 11776 Done count: 107\n"
      ]
     },
     "metadata": {},
     "output_type": "display_data"
    },
    {
     "data": {
      "text/html": [
       "<pre style=\"white-space:pre;overflow-x:auto;line-height:normal;font-family:Menlo,'DejaVu Sans Mono',consolas,'Courier New',monospace\">Eval num_timesteps=12000, episode_reward=14.20 +/- 1.83\n",
       "</pre>\n"
      ],
      "text/plain": [
       "Eval num_timesteps=12000, episode_reward=14.20 +/- 1.83\n"
      ]
     },
     "metadata": {},
     "output_type": "display_data"
    },
    {
     "data": {
      "text/html": [
       "<pre style=\"white-space:pre;overflow-x:auto;line-height:normal;font-family:Menlo,'DejaVu Sans Mono',consolas,'Courier New',monospace\">Episode length: 19.60 +/- 2.24\n",
       "</pre>\n"
      ],
      "text/plain": [
       "Episode length: 19.60 +/- 2.24\n"
      ]
     },
     "metadata": {},
     "output_type": "display_data"
    },
    {
     "data": {
      "text/html": [
       "<pre style=\"white-space:pre;overflow-x:auto;line-height:normal;font-family:Menlo,'DejaVu Sans Mono',consolas,'Courier New',monospace\">Step: 12288 Done count: 111\n",
       "</pre>\n"
      ],
      "text/plain": [
       "Step: 12288 Done count: 111\n"
      ]
     },
     "metadata": {},
     "output_type": "display_data"
    },
    {
     "data": {
      "text/html": [
       "<pre style=\"white-space:pre;overflow-x:auto;line-height:normal;font-family:Menlo,'DejaVu Sans Mono',consolas,'Courier New',monospace\">Step: 12800 Done count: 113\n",
       "</pre>\n"
      ],
      "text/plain": [
       "Step: 12800 Done count: 113\n"
      ]
     },
     "metadata": {},
     "output_type": "display_data"
    },
    {
     "data": {
      "text/html": [
       "<pre style=\"white-space:pre;overflow-x:auto;line-height:normal;font-family:Menlo,'DejaVu Sans Mono',consolas,'Courier New',monospace\">Step: 13312 Done count: 118\n",
       "</pre>\n"
      ],
      "text/plain": [
       "Step: 13312 Done count: 118\n"
      ]
     },
     "metadata": {},
     "output_type": "display_data"
    },
    {
     "data": {
      "text/html": [
       "<pre style=\"white-space:pre;overflow-x:auto;line-height:normal;font-family:Menlo,'DejaVu Sans Mono',consolas,'Courier New',monospace\">Step: 13824 Done count: 121\n",
       "</pre>\n"
      ],
      "text/plain": [
       "Step: 13824 Done count: 121\n"
      ]
     },
     "metadata": {},
     "output_type": "display_data"
    },
    {
     "data": {
      "text/html": [
       "<pre style=\"white-space:pre;overflow-x:auto;line-height:normal;font-family:Menlo,'DejaVu Sans Mono',consolas,'Courier New',monospace\">Eval num_timesteps=14000, episode_reward=13.60 +/- 2.87\n",
       "</pre>\n"
      ],
      "text/plain": [
       "Eval num_timesteps=14000, episode_reward=13.60 +/- 2.87\n"
      ]
     },
     "metadata": {},
     "output_type": "display_data"
    },
    {
     "data": {
      "text/html": [
       "<pre style=\"white-space:pre;overflow-x:auto;line-height:normal;font-family:Menlo,'DejaVu Sans Mono',consolas,'Courier New',monospace\">Episode length: 29.60 +/- 13.66\n",
       "</pre>\n"
      ],
      "text/plain": [
       "Episode length: 29.60 +/- 13.66\n"
      ]
     },
     "metadata": {},
     "output_type": "display_data"
    },
    {
     "data": {
      "text/html": [
       "<pre style=\"white-space:pre;overflow-x:auto;line-height:normal;font-family:Menlo,'DejaVu Sans Mono',consolas,'Courier New',monospace\">Step: 14336 Done count: 127\n",
       "</pre>\n"
      ],
      "text/plain": [
       "Step: 14336 Done count: 127\n"
      ]
     },
     "metadata": {},
     "output_type": "display_data"
    },
    {
     "data": {
      "text/html": [
       "<pre style=\"white-space:pre;overflow-x:auto;line-height:normal;font-family:Menlo,'DejaVu Sans Mono',consolas,'Courier New',monospace\">Step: 14848 Done count: 131\n",
       "</pre>\n"
      ],
      "text/plain": [
       "Step: 14848 Done count: 131\n"
      ]
     },
     "metadata": {},
     "output_type": "display_data"
    },
    {
     "data": {
      "text/html": [
       "<pre style=\"white-space:pre;overflow-x:auto;line-height:normal;font-family:Menlo,'DejaVu Sans Mono',consolas,'Courier New',monospace\">Step: 15360 Done count: 139\n",
       "</pre>\n"
      ],
      "text/plain": [
       "Step: 15360 Done count: 139\n"
      ]
     },
     "metadata": {},
     "output_type": "display_data"
    },
    {
     "data": {
      "text/html": [
       "<pre style=\"white-space:pre;overflow-x:auto;line-height:normal;font-family:Menlo,'DejaVu Sans Mono',consolas,'Courier New',monospace\">Step: 15872 Done count: 144\n",
       "</pre>\n"
      ],
      "text/plain": [
       "Step: 15872 Done count: 144\n"
      ]
     },
     "metadata": {},
     "output_type": "display_data"
    },
    {
     "data": {
      "text/html": [
       "<pre style=\"white-space:pre;overflow-x:auto;line-height:normal;font-family:Menlo,'DejaVu Sans Mono',consolas,'Courier New',monospace\">Eval num_timesteps=16000, episode_reward=7.60 +/- 1.50\n",
       "</pre>\n"
      ],
      "text/plain": [
       "Eval num_timesteps=16000, episode_reward=7.60 +/- 1.50\n"
      ]
     },
     "metadata": {},
     "output_type": "display_data"
    },
    {
     "data": {
      "text/html": [
       "<pre style=\"white-space:pre;overflow-x:auto;line-height:normal;font-family:Menlo,'DejaVu Sans Mono',consolas,'Courier New',monospace\">Episode length: 25.00 +/- 17.40\n",
       "</pre>\n"
      ],
      "text/plain": [
       "Episode length: 25.00 +/- 17.40\n"
      ]
     },
     "metadata": {},
     "output_type": "display_data"
    },
    {
     "data": {
      "text/html": [
       "<pre style=\"white-space:pre;overflow-x:auto;line-height:normal;font-family:Menlo,'DejaVu Sans Mono',consolas,'Courier New',monospace\">Step: 16384 Done count: 150\n",
       "</pre>\n"
      ],
      "text/plain": [
       "Step: 16384 Done count: 150\n"
      ]
     },
     "metadata": {},
     "output_type": "display_data"
    },
    {
     "data": {
      "text/html": [
       "<pre style=\"white-space:pre;overflow-x:auto;line-height:normal;font-family:Menlo,'DejaVu Sans Mono',consolas,'Courier New',monospace\">Step: 16896 Done count: 155\n",
       "</pre>\n"
      ],
      "text/plain": [
       "Step: 16896 Done count: 155\n"
      ]
     },
     "metadata": {},
     "output_type": "display_data"
    },
    {
     "data": {
      "text/html": [
       "<pre style=\"white-space:pre;overflow-x:auto;line-height:normal;font-family:Menlo,'DejaVu Sans Mono',consolas,'Courier New',monospace\">Step: 17408 Done count: 158\n",
       "</pre>\n"
      ],
      "text/plain": [
       "Step: 17408 Done count: 158\n"
      ]
     },
     "metadata": {},
     "output_type": "display_data"
    },
    {
     "data": {
      "text/html": [
       "<pre style=\"white-space:pre;overflow-x:auto;line-height:normal;font-family:Menlo,'DejaVu Sans Mono',consolas,'Courier New',monospace\">Step: 17920 Done count: 164\n",
       "</pre>\n"
      ],
      "text/plain": [
       "Step: 17920 Done count: 164\n"
      ]
     },
     "metadata": {},
     "output_type": "display_data"
    },
    {
     "data": {
      "text/html": [
       "<pre style=\"white-space:pre;overflow-x:auto;line-height:normal;font-family:Menlo,'DejaVu Sans Mono',consolas,'Courier New',monospace\">Eval num_timesteps=18000, episode_reward=9.20 +/- 3.19\n",
       "</pre>\n"
      ],
      "text/plain": [
       "Eval num_timesteps=18000, episode_reward=9.20 +/- 3.19\n"
      ]
     },
     "metadata": {},
     "output_type": "display_data"
    },
    {
     "data": {
      "text/html": [
       "<pre style=\"white-space:pre;overflow-x:auto;line-height:normal;font-family:Menlo,'DejaVu Sans Mono',consolas,'Courier New',monospace\">Episode length: 20.40 +/- 7.23\n",
       "</pre>\n"
      ],
      "text/plain": [
       "Episode length: 20.40 +/- 7.23\n"
      ]
     },
     "metadata": {},
     "output_type": "display_data"
    },
    {
     "data": {
      "text/html": [
       "<pre style=\"white-space:pre;overflow-x:auto;line-height:normal;font-family:Menlo,'DejaVu Sans Mono',consolas,'Courier New',monospace\">Step: 18432 Done count: 171\n",
       "</pre>\n"
      ],
      "text/plain": [
       "Step: 18432 Done count: 171\n"
      ]
     },
     "metadata": {},
     "output_type": "display_data"
    },
    {
     "data": {
      "text/html": [
       "<pre style=\"white-space:pre;overflow-x:auto;line-height:normal;font-family:Menlo,'DejaVu Sans Mono',consolas,'Courier New',monospace\">Step: 18944 Done count: 177\n",
       "</pre>\n"
      ],
      "text/plain": [
       "Step: 18944 Done count: 177\n"
      ]
     },
     "metadata": {},
     "output_type": "display_data"
    },
    {
     "data": {
      "text/html": [
       "<pre style=\"white-space:pre;overflow-x:auto;line-height:normal;font-family:Menlo,'DejaVu Sans Mono',consolas,'Courier New',monospace\">Step: 19456 Done count: 182\n",
       "</pre>\n"
      ],
      "text/plain": [
       "Step: 19456 Done count: 182\n"
      ]
     },
     "metadata": {},
     "output_type": "display_data"
    },
    {
     "data": {
      "text/html": [
       "<pre style=\"white-space:pre;overflow-x:auto;line-height:normal;font-family:Menlo,'DejaVu Sans Mono',consolas,'Courier New',monospace\">Step: 19968 Done count: 185\n",
       "</pre>\n"
      ],
      "text/plain": [
       "Step: 19968 Done count: 185\n"
      ]
     },
     "metadata": {},
     "output_type": "display_data"
    },
    {
     "data": {
      "text/html": [
       "<pre style=\"white-space:pre;overflow-x:auto;line-height:normal;font-family:Menlo,'DejaVu Sans Mono',consolas,'Courier New',monospace\">Eval num_timesteps=20000, episode_reward=10.00 +/- 4.52\n",
       "</pre>\n"
      ],
      "text/plain": [
       "Eval num_timesteps=20000, episode_reward=10.00 +/- 4.52\n"
      ]
     },
     "metadata": {},
     "output_type": "display_data"
    },
    {
     "data": {
      "text/html": [
       "<pre style=\"white-space:pre;overflow-x:auto;line-height:normal;font-family:Menlo,'DejaVu Sans Mono',consolas,'Courier New',monospace\">Episode length: 25.00 +/- 10.81\n",
       "</pre>\n"
      ],
      "text/plain": [
       "Episode length: 25.00 +/- 10.81\n"
      ]
     },
     "metadata": {},
     "output_type": "display_data"
    },
    {
     "data": {
      "text/html": [
       "<pre style=\"white-space:pre;overflow-x:auto;line-height:normal;font-family:Menlo,'DejaVu Sans Mono',consolas,'Courier New',monospace\">Step: 20480 Done count: 189\n",
       "</pre>\n"
      ],
      "text/plain": [
       "Step: 20480 Done count: 189\n"
      ]
     },
     "metadata": {},
     "output_type": "display_data"
    },
    {
     "data": {
      "text/html": [
       "<pre style=\"white-space:pre;overflow-x:auto;line-height:normal;font-family:Menlo,'DejaVu Sans Mono',consolas,'Courier New',monospace\">Step: 20992 Done count: 192\n",
       "</pre>\n"
      ],
      "text/plain": [
       "Step: 20992 Done count: 192\n"
      ]
     },
     "metadata": {},
     "output_type": "display_data"
    },
    {
     "data": {
      "text/html": [
       "<pre style=\"white-space:pre;overflow-x:auto;line-height:normal;font-family:Menlo,'DejaVu Sans Mono',consolas,'Courier New',monospace\">Step: 21504 Done count: 196\n",
       "</pre>\n"
      ],
      "text/plain": [
       "Step: 21504 Done count: 196\n"
      ]
     },
     "metadata": {},
     "output_type": "display_data"
    },
    {
     "data": {
      "text/html": [
       "<pre style=\"white-space:pre;overflow-x:auto;line-height:normal;font-family:Menlo,'DejaVu Sans Mono',consolas,'Courier New',monospace\">Step: 22016 Done count: 204\n",
       "</pre>\n"
      ],
      "text/plain": [
       "Step: 22016 Done count: 204\n"
      ]
     },
     "metadata": {},
     "output_type": "display_data"
    },
    {
     "data": {
      "text/html": [
       "<pre style=\"white-space:pre;overflow-x:auto;line-height:normal;font-family:Menlo,'DejaVu Sans Mono',consolas,'Courier New',monospace\">Step: 22528 Done count: 210\n",
       "</pre>\n"
      ],
      "text/plain": [
       "Step: 22528 Done count: 210\n"
      ]
     },
     "metadata": {},
     "output_type": "display_data"
    },
    {
     "data": {
      "text/html": [
       "<pre style=\"white-space:pre;overflow-x:auto;line-height:normal;font-family:Menlo,'DejaVu Sans Mono',consolas,'Courier New',monospace\">Step: 23040 Done count: 214\n",
       "</pre>\n"
      ],
      "text/plain": [
       "Step: 23040 Done count: 214\n"
      ]
     },
     "metadata": {},
     "output_type": "display_data"
    },
    {
     "data": {
      "text/html": [
       "<pre style=\"white-space:pre;overflow-x:auto;line-height:normal;font-family:Menlo,'DejaVu Sans Mono',consolas,'Courier New',monospace\">Step: 23552 Done count: 218\n",
       "</pre>\n"
      ],
      "text/plain": [
       "Step: 23552 Done count: 218\n"
      ]
     },
     "metadata": {},
     "output_type": "display_data"
    },
    {
     "data": {
      "text/html": [
       "<pre style=\"white-space:pre;overflow-x:auto;line-height:normal;font-family:Menlo,'DejaVu Sans Mono',consolas,'Courier New',monospace\">Eval num_timesteps=24000, episode_reward=12.20 +/- 1.72\n",
       "</pre>\n"
      ],
      "text/plain": [
       "Eval num_timesteps=24000, episode_reward=12.20 +/- 1.72\n"
      ]
     },
     "metadata": {},
     "output_type": "display_data"
    },
    {
     "data": {
      "text/html": [
       "<pre style=\"white-space:pre;overflow-x:auto;line-height:normal;font-family:Menlo,'DejaVu Sans Mono',consolas,'Courier New',monospace\">Episode length: 17.20 +/- 1.72\n",
       "</pre>\n"
      ],
      "text/plain": [
       "Episode length: 17.20 +/- 1.72\n"
      ]
     },
     "metadata": {},
     "output_type": "display_data"
    },
    {
     "data": {
      "text/html": [
       "<pre style=\"white-space:pre;overflow-x:auto;line-height:normal;font-family:Menlo,'DejaVu Sans Mono',consolas,'Courier New',monospace\">Step: 24064 Done count: 221\n",
       "</pre>\n"
      ],
      "text/plain": [
       "Step: 24064 Done count: 221\n"
      ]
     },
     "metadata": {},
     "output_type": "display_data"
    },
    {
     "data": {
      "text/html": [
       "<pre style=\"white-space:pre;overflow-x:auto;line-height:normal;font-family:Menlo,'DejaVu Sans Mono',consolas,'Courier New',monospace\">Step: 24576 Done count: 225\n",
       "</pre>\n"
      ],
      "text/plain": [
       "Step: 24576 Done count: 225\n"
      ]
     },
     "metadata": {},
     "output_type": "display_data"
    },
    {
     "data": {
      "text/html": [
       "<pre style=\"white-space:pre;overflow-x:auto;line-height:normal;font-family:Menlo,'DejaVu Sans Mono',consolas,'Courier New',monospace\">Step: 25088 Done count: 231\n",
       "</pre>\n"
      ],
      "text/plain": [
       "Step: 25088 Done count: 231\n"
      ]
     },
     "metadata": {},
     "output_type": "display_data"
    },
    {
     "data": {
      "text/html": [
       "<pre style=\"white-space:pre;overflow-x:auto;line-height:normal;font-family:Menlo,'DejaVu Sans Mono',consolas,'Courier New',monospace\">Step: 25600 Done count: 234\n",
       "</pre>\n"
      ],
      "text/plain": [
       "Step: 25600 Done count: 234\n"
      ]
     },
     "metadata": {},
     "output_type": "display_data"
    },
    {
     "data": {
      "text/html": [
       "<pre style=\"white-space:pre;overflow-x:auto;line-height:normal;font-family:Menlo,'DejaVu Sans Mono',consolas,'Courier New',monospace\"></pre>\n"
      ],
      "text/plain": []
     },
     "metadata": {},
     "output_type": "display_data"
    },
    {
     "data": {
      "text/html": [
       "<pre style=\"white-space:pre;overflow-x:auto;line-height:normal;font-family:Menlo,'DejaVu Sans Mono',consolas,'Courier New',monospace\">\n",
       "</pre>\n"
      ],
      "text/plain": [
       "\n"
      ]
     },
     "metadata": {},
     "output_type": "display_data"
    },
    {
     "name": "stderr",
     "output_type": "stream",
     "text": [
      "[I 2024-04-25 14:18:29,601] Trial 26 finished with value: 24.2 and parameters: {'n_steps': 268.4160444968466, 'gamma': 0.98, 'learning_rate': 4.2792045832687424e-05, 'ent_coef': 0.00038792901717832427, 'clip_range': 0.2608593226901129, 'n_epochs': 2.3643554800545536}. Best is trial 17 with value: 42.6.\n",
      "c:\\Users\\matth\\AppData\\Local\\Programs\\Python\\Python311\\Lib\\site-packages\\stable_baselines3\\ppo\\ppo.py:155: UserWarning: You have specified a mini-batch size of 64, but because the `RolloutBuffer` is of size `n_steps * n_envs = 5596`, after every 87 untruncated mini-batches, there will be a truncated mini-batch of size 28\n",
      "We recommend using a `batch_size` that is a factor of `n_steps * n_envs`.\n",
      "Info: (n_steps=1399 and n_envs=4)\n",
      "  warnings.warn(\n"
     ]
    },
    {
     "data": {
      "application/vnd.jupyter.widget-view+json": {
       "model_id": "23fc648af17644ed94b372ce4f9b66b5",
       "version_major": 2,
       "version_minor": 0
      },
      "text/plain": [
       "Output()"
      ]
     },
     "metadata": {},
     "output_type": "display_data"
    },
    {
     "data": {
      "text/html": [
       "<pre style=\"white-space:pre;overflow-x:auto;line-height:normal;font-family:Menlo,'DejaVu Sans Mono',consolas,'Courier New',monospace\">Step: 512 Done count: 5\n",
       "</pre>\n"
      ],
      "text/plain": [
       "Step: 512 Done count: 5\n"
      ]
     },
     "metadata": {},
     "output_type": "display_data"
    },
    {
     "data": {
      "text/html": [
       "<pre style=\"white-space:pre;overflow-x:auto;line-height:normal;font-family:Menlo,'DejaVu Sans Mono',consolas,'Courier New',monospace\">Step: 1024 Done count: 10\n",
       "</pre>\n"
      ],
      "text/plain": [
       "Step: 1024 Done count: 10\n"
      ]
     },
     "metadata": {},
     "output_type": "display_data"
    },
    {
     "data": {
      "text/html": [
       "<pre style=\"white-space:pre;overflow-x:auto;line-height:normal;font-family:Menlo,'DejaVu Sans Mono',consolas,'Courier New',monospace\">Step: 1536 Done count: 14\n",
       "</pre>\n"
      ],
      "text/plain": [
       "Step: 1536 Done count: 14\n"
      ]
     },
     "metadata": {},
     "output_type": "display_data"
    },
    {
     "data": {
      "text/html": [
       "<pre style=\"white-space:pre;overflow-x:auto;line-height:normal;font-family:Menlo,'DejaVu Sans Mono',consolas,'Courier New',monospace\">Eval num_timesteps=2000, episode_reward=28.40 +/- 6.34\n",
       "</pre>\n"
      ],
      "text/plain": [
       "Eval num_timesteps=2000, episode_reward=28.40 +/- 6.34\n"
      ]
     },
     "metadata": {},
     "output_type": "display_data"
    },
    {
     "data": {
      "text/html": [
       "<pre style=\"white-space:pre;overflow-x:auto;line-height:normal;font-family:Menlo,'DejaVu Sans Mono',consolas,'Courier New',monospace\">Episode length: 34.20 +/- 7.14\n",
       "</pre>\n"
      ],
      "text/plain": [
       "Episode length: 34.20 +/- 7.14\n"
      ]
     },
     "metadata": {},
     "output_type": "display_data"
    },
    {
     "data": {
      "text/html": [
       "<pre style=\"white-space:pre;overflow-x:auto;line-height:normal;font-family:Menlo,'DejaVu Sans Mono',consolas,'Courier New',monospace\">New best mean reward!\n",
       "</pre>\n"
      ],
      "text/plain": [
       "New best mean reward!\n"
      ]
     },
     "metadata": {},
     "output_type": "display_data"
    },
    {
     "data": {
      "text/html": [
       "<pre style=\"white-space:pre;overflow-x:auto;line-height:normal;font-family:Menlo,'DejaVu Sans Mono',consolas,'Courier New',monospace\">Step: 2048 Done count: 19\n",
       "</pre>\n"
      ],
      "text/plain": [
       "Step: 2048 Done count: 19\n"
      ]
     },
     "metadata": {},
     "output_type": "display_data"
    },
    {
     "data": {
      "text/html": [
       "<pre style=\"white-space:pre;overflow-x:auto;line-height:normal;font-family:Menlo,'DejaVu Sans Mono',consolas,'Courier New',monospace\">Step: 2560 Done count: 24\n",
       "</pre>\n"
      ],
      "text/plain": [
       "Step: 2560 Done count: 24\n"
      ]
     },
     "metadata": {},
     "output_type": "display_data"
    },
    {
     "data": {
      "text/html": [
       "<pre style=\"white-space:pre;overflow-x:auto;line-height:normal;font-family:Menlo,'DejaVu Sans Mono',consolas,'Courier New',monospace\">Step: 3072 Done count: 29\n",
       "</pre>\n"
      ],
      "text/plain": [
       "Step: 3072 Done count: 29\n"
      ]
     },
     "metadata": {},
     "output_type": "display_data"
    },
    {
     "data": {
      "text/html": [
       "<pre style=\"white-space:pre;overflow-x:auto;line-height:normal;font-family:Menlo,'DejaVu Sans Mono',consolas,'Courier New',monospace\">Step: 3584 Done count: 34\n",
       "</pre>\n"
      ],
      "text/plain": [
       "Step: 3584 Done count: 34\n"
      ]
     },
     "metadata": {},
     "output_type": "display_data"
    },
    {
     "data": {
      "text/html": [
       "<pre style=\"white-space:pre;overflow-x:auto;line-height:normal;font-family:Menlo,'DejaVu Sans Mono',consolas,'Courier New',monospace\">Eval num_timesteps=4000, episode_reward=24.20 +/- 5.53\n",
       "</pre>\n"
      ],
      "text/plain": [
       "Eval num_timesteps=4000, episode_reward=24.20 +/- 5.53\n"
      ]
     },
     "metadata": {},
     "output_type": "display_data"
    },
    {
     "data": {
      "text/html": [
       "<pre style=\"white-space:pre;overflow-x:auto;line-height:normal;font-family:Menlo,'DejaVu Sans Mono',consolas,'Courier New',monospace\">Episode length: 29.60 +/- 6.18\n",
       "</pre>\n"
      ],
      "text/plain": [
       "Episode length: 29.60 +/- 6.18\n"
      ]
     },
     "metadata": {},
     "output_type": "display_data"
    },
    {
     "data": {
      "text/html": [
       "<pre style=\"white-space:pre;overflow-x:auto;line-height:normal;font-family:Menlo,'DejaVu Sans Mono',consolas,'Courier New',monospace\">Step: 4096 Done count: 38\n",
       "</pre>\n"
      ],
      "text/plain": [
       "Step: 4096 Done count: 38\n"
      ]
     },
     "metadata": {},
     "output_type": "display_data"
    },
    {
     "data": {
      "text/html": [
       "<pre style=\"white-space:pre;overflow-x:auto;line-height:normal;font-family:Menlo,'DejaVu Sans Mono',consolas,'Courier New',monospace\">Step: 4608 Done count: 41\n",
       "</pre>\n"
      ],
      "text/plain": [
       "Step: 4608 Done count: 41\n"
      ]
     },
     "metadata": {},
     "output_type": "display_data"
    },
    {
     "data": {
      "text/html": [
       "<pre style=\"white-space:pre;overflow-x:auto;line-height:normal;font-family:Menlo,'DejaVu Sans Mono',consolas,'Courier New',monospace\">Step: 5120 Done count: 45\n",
       "</pre>\n"
      ],
      "text/plain": [
       "Step: 5120 Done count: 45\n"
      ]
     },
     "metadata": {},
     "output_type": "display_data"
    },
    {
     "data": {
      "text/html": [
       "<pre style=\"white-space:pre;overflow-x:auto;line-height:normal;font-family:Menlo,'DejaVu Sans Mono',consolas,'Courier New',monospace\">Step: 5632 Done count: 49\n",
       "</pre>\n"
      ],
      "text/plain": [
       "Step: 5632 Done count: 49\n"
      ]
     },
     "metadata": {},
     "output_type": "display_data"
    },
    {
     "data": {
      "text/html": [
       "<pre style=\"white-space:pre;overflow-x:auto;line-height:normal;font-family:Menlo,'DejaVu Sans Mono',consolas,'Courier New',monospace\">Eval num_timesteps=6000, episode_reward=15.00 +/- 5.33\n",
       "</pre>\n"
      ],
      "text/plain": [
       "Eval num_timesteps=6000, episode_reward=15.00 +/- 5.33\n"
      ]
     },
     "metadata": {},
     "output_type": "display_data"
    },
    {
     "data": {
      "text/html": [
       "<pre style=\"white-space:pre;overflow-x:auto;line-height:normal;font-family:Menlo,'DejaVu Sans Mono',consolas,'Courier New',monospace\">Episode length: 24.80 +/- 5.74\n",
       "</pre>\n"
      ],
      "text/plain": [
       "Episode length: 24.80 +/- 5.74\n"
      ]
     },
     "metadata": {},
     "output_type": "display_data"
    },
    {
     "data": {
      "text/html": [
       "<pre style=\"white-space:pre;overflow-x:auto;line-height:normal;font-family:Menlo,'DejaVu Sans Mono',consolas,'Courier New',monospace\">Step: 6144 Done count: 52\n",
       "</pre>\n"
      ],
      "text/plain": [
       "Step: 6144 Done count: 52\n"
      ]
     },
     "metadata": {},
     "output_type": "display_data"
    },
    {
     "data": {
      "text/html": [
       "<pre style=\"white-space:pre;overflow-x:auto;line-height:normal;font-family:Menlo,'DejaVu Sans Mono',consolas,'Courier New',monospace\">Step: 6656 Done count: 58\n",
       "</pre>\n"
      ],
      "text/plain": [
       "Step: 6656 Done count: 58\n"
      ]
     },
     "metadata": {},
     "output_type": "display_data"
    },
    {
     "data": {
      "text/html": [
       "<pre style=\"white-space:pre;overflow-x:auto;line-height:normal;font-family:Menlo,'DejaVu Sans Mono',consolas,'Courier New',monospace\">Step: 7168 Done count: 62\n",
       "</pre>\n"
      ],
      "text/plain": [
       "Step: 7168 Done count: 62\n"
      ]
     },
     "metadata": {},
     "output_type": "display_data"
    },
    {
     "data": {
      "text/html": [
       "<pre style=\"white-space:pre;overflow-x:auto;line-height:normal;font-family:Menlo,'DejaVu Sans Mono',consolas,'Courier New',monospace\">Step: 7680 Done count: 65\n",
       "</pre>\n"
      ],
      "text/plain": [
       "Step: 7680 Done count: 65\n"
      ]
     },
     "metadata": {},
     "output_type": "display_data"
    },
    {
     "data": {
      "text/html": [
       "<pre style=\"white-space:pre;overflow-x:auto;line-height:normal;font-family:Menlo,'DejaVu Sans Mono',consolas,'Courier New',monospace\">Eval num_timesteps=8000, episode_reward=19.20 +/- 8.33\n",
       "</pre>\n"
      ],
      "text/plain": [
       "Eval num_timesteps=8000, episode_reward=19.20 +/- 8.33\n"
      ]
     },
     "metadata": {},
     "output_type": "display_data"
    },
    {
     "data": {
      "text/html": [
       "<pre style=\"white-space:pre;overflow-x:auto;line-height:normal;font-family:Menlo,'DejaVu Sans Mono',consolas,'Courier New',monospace\">Episode length: 31.20 +/- 10.15\n",
       "</pre>\n"
      ],
      "text/plain": [
       "Episode length: 31.20 +/- 10.15\n"
      ]
     },
     "metadata": {},
     "output_type": "display_data"
    },
    {
     "data": {
      "text/html": [
       "<pre style=\"white-space:pre;overflow-x:auto;line-height:normal;font-family:Menlo,'DejaVu Sans Mono',consolas,'Courier New',monospace\">Step: 8192 Done count: 69\n",
       "</pre>\n"
      ],
      "text/plain": [
       "Step: 8192 Done count: 69\n"
      ]
     },
     "metadata": {},
     "output_type": "display_data"
    },
    {
     "data": {
      "text/html": [
       "<pre style=\"white-space:pre;overflow-x:auto;line-height:normal;font-family:Menlo,'DejaVu Sans Mono',consolas,'Courier New',monospace\">Step: 8704 Done count: 72\n",
       "</pre>\n"
      ],
      "text/plain": [
       "Step: 8704 Done count: 72\n"
      ]
     },
     "metadata": {},
     "output_type": "display_data"
    },
    {
     "data": {
      "text/html": [
       "<pre style=\"white-space:pre;overflow-x:auto;line-height:normal;font-family:Menlo,'DejaVu Sans Mono',consolas,'Courier New',monospace\">Step: 9216 Done count: 83\n",
       "</pre>\n"
      ],
      "text/plain": [
       "Step: 9216 Done count: 83\n"
      ]
     },
     "metadata": {},
     "output_type": "display_data"
    },
    {
     "data": {
      "text/html": [
       "<pre style=\"white-space:pre;overflow-x:auto;line-height:normal;font-family:Menlo,'DejaVu Sans Mono',consolas,'Courier New',monospace\">Step: 9728 Done count: 89\n",
       "</pre>\n"
      ],
      "text/plain": [
       "Step: 9728 Done count: 89\n"
      ]
     },
     "metadata": {},
     "output_type": "display_data"
    },
    {
     "data": {
      "text/html": [
       "<pre style=\"white-space:pre;overflow-x:auto;line-height:normal;font-family:Menlo,'DejaVu Sans Mono',consolas,'Courier New',monospace\">Eval num_timesteps=10000, episode_reward=12.60 +/- 8.75\n",
       "</pre>\n"
      ],
      "text/plain": [
       "Eval num_timesteps=10000, episode_reward=12.60 +/- 8.75\n"
      ]
     },
     "metadata": {},
     "output_type": "display_data"
    },
    {
     "data": {
      "text/html": [
       "<pre style=\"white-space:pre;overflow-x:auto;line-height:normal;font-family:Menlo,'DejaVu Sans Mono',consolas,'Courier New',monospace\">Episode length: 25.20 +/- 12.14\n",
       "</pre>\n"
      ],
      "text/plain": [
       "Episode length: 25.20 +/- 12.14\n"
      ]
     },
     "metadata": {},
     "output_type": "display_data"
    },
    {
     "data": {
      "text/html": [
       "<pre style=\"white-space:pre;overflow-x:auto;line-height:normal;font-family:Menlo,'DejaVu Sans Mono',consolas,'Courier New',monospace\">Step: 10240 Done count: 92\n",
       "</pre>\n"
      ],
      "text/plain": [
       "Step: 10240 Done count: 92\n"
      ]
     },
     "metadata": {},
     "output_type": "display_data"
    },
    {
     "data": {
      "text/html": [
       "<pre style=\"white-space:pre;overflow-x:auto;line-height:normal;font-family:Menlo,'DejaVu Sans Mono',consolas,'Courier New',monospace\">Step: 10752 Done count: 97\n",
       "</pre>\n"
      ],
      "text/plain": [
       "Step: 10752 Done count: 97\n"
      ]
     },
     "metadata": {},
     "output_type": "display_data"
    },
    {
     "data": {
      "text/html": [
       "<pre style=\"white-space:pre;overflow-x:auto;line-height:normal;font-family:Menlo,'DejaVu Sans Mono',consolas,'Courier New',monospace\">Step: 11264 Done count: 105\n",
       "</pre>\n"
      ],
      "text/plain": [
       "Step: 11264 Done count: 105\n"
      ]
     },
     "metadata": {},
     "output_type": "display_data"
    },
    {
     "data": {
      "text/html": [
       "<pre style=\"white-space:pre;overflow-x:auto;line-height:normal;font-family:Menlo,'DejaVu Sans Mono',consolas,'Courier New',monospace\">Step: 11776 Done count: 112\n",
       "</pre>\n"
      ],
      "text/plain": [
       "Step: 11776 Done count: 112\n"
      ]
     },
     "metadata": {},
     "output_type": "display_data"
    },
    {
     "data": {
      "text/html": [
       "<pre style=\"white-space:pre;overflow-x:auto;line-height:normal;font-family:Menlo,'DejaVu Sans Mono',consolas,'Courier New',monospace\">Eval num_timesteps=12000, episode_reward=13.40 +/- 4.13\n",
       "</pre>\n"
      ],
      "text/plain": [
       "Eval num_timesteps=12000, episode_reward=13.40 +/- 4.13\n"
      ]
     },
     "metadata": {},
     "output_type": "display_data"
    },
    {
     "data": {
      "text/html": [
       "<pre style=\"white-space:pre;overflow-x:auto;line-height:normal;font-family:Menlo,'DejaVu Sans Mono',consolas,'Courier New',monospace\">Episode length: 29.60 +/- 8.78\n",
       "</pre>\n"
      ],
      "text/plain": [
       "Episode length: 29.60 +/- 8.78\n"
      ]
     },
     "metadata": {},
     "output_type": "display_data"
    },
    {
     "data": {
      "text/html": [
       "<pre style=\"white-space:pre;overflow-x:auto;line-height:normal;font-family:Menlo,'DejaVu Sans Mono',consolas,'Courier New',monospace\">Step: 12288 Done count: 118\n",
       "</pre>\n"
      ],
      "text/plain": [
       "Step: 12288 Done count: 118\n"
      ]
     },
     "metadata": {},
     "output_type": "display_data"
    },
    {
     "data": {
      "text/html": [
       "<pre style=\"white-space:pre;overflow-x:auto;line-height:normal;font-family:Menlo,'DejaVu Sans Mono',consolas,'Courier New',monospace\">Step: 12800 Done count: 121\n",
       "</pre>\n"
      ],
      "text/plain": [
       "Step: 12800 Done count: 121\n"
      ]
     },
     "metadata": {},
     "output_type": "display_data"
    },
    {
     "data": {
      "text/html": [
       "<pre style=\"white-space:pre;overflow-x:auto;line-height:normal;font-family:Menlo,'DejaVu Sans Mono',consolas,'Courier New',monospace\">Step: 13312 Done count: 128\n",
       "</pre>\n"
      ],
      "text/plain": [
       "Step: 13312 Done count: 128\n"
      ]
     },
     "metadata": {},
     "output_type": "display_data"
    },
    {
     "data": {
      "text/html": [
       "<pre style=\"white-space:pre;overflow-x:auto;line-height:normal;font-family:Menlo,'DejaVu Sans Mono',consolas,'Courier New',monospace\">Step: 13824 Done count: 134\n",
       "</pre>\n"
      ],
      "text/plain": [
       "Step: 13824 Done count: 134\n"
      ]
     },
     "metadata": {},
     "output_type": "display_data"
    },
    {
     "data": {
      "text/html": [
       "<pre style=\"white-space:pre;overflow-x:auto;line-height:normal;font-family:Menlo,'DejaVu Sans Mono',consolas,'Courier New',monospace\">Eval num_timesteps=14000, episode_reward=18.40 +/- 0.80\n",
       "</pre>\n"
      ],
      "text/plain": [
       "Eval num_timesteps=14000, episode_reward=18.40 +/- 0.80\n"
      ]
     },
     "metadata": {},
     "output_type": "display_data"
    },
    {
     "data": {
      "text/html": [
       "<pre style=\"white-space:pre;overflow-x:auto;line-height:normal;font-family:Menlo,'DejaVu Sans Mono',consolas,'Courier New',monospace\">Episode length: 37.60 +/- 1.36\n",
       "</pre>\n"
      ],
      "text/plain": [
       "Episode length: 37.60 +/- 1.36\n"
      ]
     },
     "metadata": {},
     "output_type": "display_data"
    },
    {
     "data": {
      "text/html": [
       "<pre style=\"white-space:pre;overflow-x:auto;line-height:normal;font-family:Menlo,'DejaVu Sans Mono',consolas,'Courier New',monospace\">Step: 14336 Done count: 139\n",
       "</pre>\n"
      ],
      "text/plain": [
       "Step: 14336 Done count: 139\n"
      ]
     },
     "metadata": {},
     "output_type": "display_data"
    },
    {
     "data": {
      "text/html": [
       "<pre style=\"white-space:pre;overflow-x:auto;line-height:normal;font-family:Menlo,'DejaVu Sans Mono',consolas,'Courier New',monospace\">Step: 14848 Done count: 142\n",
       "</pre>\n"
      ],
      "text/plain": [
       "Step: 14848 Done count: 142\n"
      ]
     },
     "metadata": {},
     "output_type": "display_data"
    },
    {
     "data": {
      "text/html": [
       "<pre style=\"white-space:pre;overflow-x:auto;line-height:normal;font-family:Menlo,'DejaVu Sans Mono',consolas,'Courier New',monospace\">Step: 15360 Done count: 146\n",
       "</pre>\n"
      ],
      "text/plain": [
       "Step: 15360 Done count: 146\n"
      ]
     },
     "metadata": {},
     "output_type": "display_data"
    },
    {
     "data": {
      "text/html": [
       "<pre style=\"white-space:pre;overflow-x:auto;line-height:normal;font-family:Menlo,'DejaVu Sans Mono',consolas,'Courier New',monospace\">Step: 15872 Done count: 150\n",
       "</pre>\n"
      ],
      "text/plain": [
       "Step: 15872 Done count: 150\n"
      ]
     },
     "metadata": {},
     "output_type": "display_data"
    },
    {
     "data": {
      "text/html": [
       "<pre style=\"white-space:pre;overflow-x:auto;line-height:normal;font-family:Menlo,'DejaVu Sans Mono',consolas,'Courier New',monospace\">Eval num_timesteps=16000, episode_reward=16.00 +/- 3.90\n",
       "</pre>\n"
      ],
      "text/plain": [
       "Eval num_timesteps=16000, episode_reward=16.00 +/- 3.90\n"
      ]
     },
     "metadata": {},
     "output_type": "display_data"
    },
    {
     "data": {
      "text/html": [
       "<pre style=\"white-space:pre;overflow-x:auto;line-height:normal;font-family:Menlo,'DejaVu Sans Mono',consolas,'Courier New',monospace\">Episode length: 33.80 +/- 5.98\n",
       "</pre>\n"
      ],
      "text/plain": [
       "Episode length: 33.80 +/- 5.98\n"
      ]
     },
     "metadata": {},
     "output_type": "display_data"
    },
    {
     "data": {
      "text/html": [
       "<pre style=\"white-space:pre;overflow-x:auto;line-height:normal;font-family:Menlo,'DejaVu Sans Mono',consolas,'Courier New',monospace\">Step: 16384 Done count: 154\n",
       "</pre>\n"
      ],
      "text/plain": [
       "Step: 16384 Done count: 154\n"
      ]
     },
     "metadata": {},
     "output_type": "display_data"
    },
    {
     "data": {
      "text/html": [
       "<pre style=\"white-space:pre;overflow-x:auto;line-height:normal;font-family:Menlo,'DejaVu Sans Mono',consolas,'Courier New',monospace\">Step: 16896 Done count: 157\n",
       "</pre>\n"
      ],
      "text/plain": [
       "Step: 16896 Done count: 157\n"
      ]
     },
     "metadata": {},
     "output_type": "display_data"
    },
    {
     "data": {
      "text/html": [
       "<pre style=\"white-space:pre;overflow-x:auto;line-height:normal;font-family:Menlo,'DejaVu Sans Mono',consolas,'Courier New',monospace\">Step: 17408 Done count: 161\n",
       "</pre>\n"
      ],
      "text/plain": [
       "Step: 17408 Done count: 161\n"
      ]
     },
     "metadata": {},
     "output_type": "display_data"
    },
    {
     "data": {
      "text/html": [
       "<pre style=\"white-space:pre;overflow-x:auto;line-height:normal;font-family:Menlo,'DejaVu Sans Mono',consolas,'Courier New',monospace\">Step: 17920 Done count: 165\n",
       "</pre>\n"
      ],
      "text/plain": [
       "Step: 17920 Done count: 165\n"
      ]
     },
     "metadata": {},
     "output_type": "display_data"
    },
    {
     "data": {
      "text/html": [
       "<pre style=\"white-space:pre;overflow-x:auto;line-height:normal;font-family:Menlo,'DejaVu Sans Mono',consolas,'Courier New',monospace\">Eval num_timesteps=18000, episode_reward=21.40 +/- 8.71\n",
       "</pre>\n"
      ],
      "text/plain": [
       "Eval num_timesteps=18000, episode_reward=21.40 +/- 8.71\n"
      ]
     },
     "metadata": {},
     "output_type": "display_data"
    },
    {
     "data": {
      "text/html": [
       "<pre style=\"white-space:pre;overflow-x:auto;line-height:normal;font-family:Menlo,'DejaVu Sans Mono',consolas,'Courier New',monospace\">Episode length: 25.20 +/- 6.88\n",
       "</pre>\n"
      ],
      "text/plain": [
       "Episode length: 25.20 +/- 6.88\n"
      ]
     },
     "metadata": {},
     "output_type": "display_data"
    },
    {
     "data": {
      "text/html": [
       "<pre style=\"white-space:pre;overflow-x:auto;line-height:normal;font-family:Menlo,'DejaVu Sans Mono',consolas,'Courier New',monospace\">Step: 18432 Done count: 169\n",
       "</pre>\n"
      ],
      "text/plain": [
       "Step: 18432 Done count: 169\n"
      ]
     },
     "metadata": {},
     "output_type": "display_data"
    },
    {
     "data": {
      "text/html": [
       "<pre style=\"white-space:pre;overflow-x:auto;line-height:normal;font-family:Menlo,'DejaVu Sans Mono',consolas,'Courier New',monospace\">Step: 18944 Done count: 173\n",
       "</pre>\n"
      ],
      "text/plain": [
       "Step: 18944 Done count: 173\n"
      ]
     },
     "metadata": {},
     "output_type": "display_data"
    },
    {
     "data": {
      "text/html": [
       "<pre style=\"white-space:pre;overflow-x:auto;line-height:normal;font-family:Menlo,'DejaVu Sans Mono',consolas,'Courier New',monospace\">Step: 19456 Done count: 179\n",
       "</pre>\n"
      ],
      "text/plain": [
       "Step: 19456 Done count: 179\n"
      ]
     },
     "metadata": {},
     "output_type": "display_data"
    },
    {
     "data": {
      "text/html": [
       "<pre style=\"white-space:pre;overflow-x:auto;line-height:normal;font-family:Menlo,'DejaVu Sans Mono',consolas,'Courier New',monospace\">Step: 19968 Done count: 188\n",
       "</pre>\n"
      ],
      "text/plain": [
       "Step: 19968 Done count: 188\n"
      ]
     },
     "metadata": {},
     "output_type": "display_data"
    },
    {
     "data": {
      "text/html": [
       "<pre style=\"white-space:pre;overflow-x:auto;line-height:normal;font-family:Menlo,'DejaVu Sans Mono',consolas,'Courier New',monospace\">Eval num_timesteps=20000, episode_reward=16.98 +/- 13.07\n",
       "</pre>\n"
      ],
      "text/plain": [
       "Eval num_timesteps=20000, episode_reward=16.98 +/- 13.07\n"
      ]
     },
     "metadata": {},
     "output_type": "display_data"
    },
    {
     "data": {
      "text/html": [
       "<pre style=\"white-space:pre;overflow-x:auto;line-height:normal;font-family:Menlo,'DejaVu Sans Mono',consolas,'Courier New',monospace\">Episode length: 20.60 +/- 11.48\n",
       "</pre>\n"
      ],
      "text/plain": [
       "Episode length: 20.60 +/- 11.48\n"
      ]
     },
     "metadata": {},
     "output_type": "display_data"
    },
    {
     "data": {
      "text/html": [
       "<pre style=\"white-space:pre;overflow-x:auto;line-height:normal;font-family:Menlo,'DejaVu Sans Mono',consolas,'Courier New',monospace\">Step: 20480 Done count: 193\n",
       "</pre>\n"
      ],
      "text/plain": [
       "Step: 20480 Done count: 193\n"
      ]
     },
     "metadata": {},
     "output_type": "display_data"
    },
    {
     "data": {
      "text/html": [
       "<pre style=\"white-space:pre;overflow-x:auto;line-height:normal;font-family:Menlo,'DejaVu Sans Mono',consolas,'Courier New',monospace\">Step: 20992 Done count: 197\n",
       "</pre>\n"
      ],
      "text/plain": [
       "Step: 20992 Done count: 197\n"
      ]
     },
     "metadata": {},
     "output_type": "display_data"
    },
    {
     "data": {
      "text/html": [
       "<pre style=\"white-space:pre;overflow-x:auto;line-height:normal;font-family:Menlo,'DejaVu Sans Mono',consolas,'Courier New',monospace\">Step: 21504 Done count: 203\n",
       "</pre>\n"
      ],
      "text/plain": [
       "Step: 21504 Done count: 203\n"
      ]
     },
     "metadata": {},
     "output_type": "display_data"
    },
    {
     "data": {
      "text/html": [
       "<pre style=\"white-space:pre;overflow-x:auto;line-height:normal;font-family:Menlo,'DejaVu Sans Mono',consolas,'Courier New',monospace\">Eval num_timesteps=22000, episode_reward=13.60 +/- 8.78\n",
       "</pre>\n"
      ],
      "text/plain": [
       "Eval num_timesteps=22000, episode_reward=13.60 +/- 8.78\n"
      ]
     },
     "metadata": {},
     "output_type": "display_data"
    },
    {
     "data": {
      "text/html": [
       "<pre style=\"white-space:pre;overflow-x:auto;line-height:normal;font-family:Menlo,'DejaVu Sans Mono',consolas,'Courier New',monospace\">Episode length: 17.60 +/- 6.95\n",
       "</pre>\n"
      ],
      "text/plain": [
       "Episode length: 17.60 +/- 6.95\n"
      ]
     },
     "metadata": {},
     "output_type": "display_data"
    },
    {
     "data": {
      "text/html": [
       "<pre style=\"white-space:pre;overflow-x:auto;line-height:normal;font-family:Menlo,'DejaVu Sans Mono',consolas,'Courier New',monospace\">Step: 22016 Done count: 209\n",
       "</pre>\n"
      ],
      "text/plain": [
       "Step: 22016 Done count: 209\n"
      ]
     },
     "metadata": {},
     "output_type": "display_data"
    },
    {
     "data": {
      "text/html": [
       "<pre style=\"white-space:pre;overflow-x:auto;line-height:normal;font-family:Menlo,'DejaVu Sans Mono',consolas,'Courier New',monospace\">Step: 22528 Done count: 213\n",
       "</pre>\n"
      ],
      "text/plain": [
       "Step: 22528 Done count: 213\n"
      ]
     },
     "metadata": {},
     "output_type": "display_data"
    },
    {
     "data": {
      "text/html": [
       "<pre style=\"white-space:pre;overflow-x:auto;line-height:normal;font-family:Menlo,'DejaVu Sans Mono',consolas,'Courier New',monospace\">Step: 23040 Done count: 219\n",
       "</pre>\n"
      ],
      "text/plain": [
       "Step: 23040 Done count: 219\n"
      ]
     },
     "metadata": {},
     "output_type": "display_data"
    },
    {
     "data": {
      "text/html": [
       "<pre style=\"white-space:pre;overflow-x:auto;line-height:normal;font-family:Menlo,'DejaVu Sans Mono',consolas,'Courier New',monospace\">Step: 23552 Done count: 226\n",
       "</pre>\n"
      ],
      "text/plain": [
       "Step: 23552 Done count: 226\n"
      ]
     },
     "metadata": {},
     "output_type": "display_data"
    },
    {
     "data": {
      "text/html": [
       "<pre style=\"white-space:pre;overflow-x:auto;line-height:normal;font-family:Menlo,'DejaVu Sans Mono',consolas,'Courier New',monospace\">Eval num_timesteps=24000, episode_reward=30.60 +/- 2.42\n",
       "</pre>\n"
      ],
      "text/plain": [
       "Eval num_timesteps=24000, episode_reward=30.60 +/- 2.42\n"
      ]
     },
     "metadata": {},
     "output_type": "display_data"
    },
    {
     "data": {
      "text/html": [
       "<pre style=\"white-space:pre;overflow-x:auto;line-height:normal;font-family:Menlo,'DejaVu Sans Mono',consolas,'Courier New',monospace\">Episode length: 31.60 +/- 1.62\n",
       "</pre>\n"
      ],
      "text/plain": [
       "Episode length: 31.60 +/- 1.62\n"
      ]
     },
     "metadata": {},
     "output_type": "display_data"
    },
    {
     "data": {
      "text/html": [
       "<pre style=\"white-space:pre;overflow-x:auto;line-height:normal;font-family:Menlo,'DejaVu Sans Mono',consolas,'Courier New',monospace\">New best mean reward!\n",
       "</pre>\n"
      ],
      "text/plain": [
       "New best mean reward!\n"
      ]
     },
     "metadata": {},
     "output_type": "display_data"
    },
    {
     "data": {
      "text/html": [
       "<pre style=\"white-space:pre;overflow-x:auto;line-height:normal;font-family:Menlo,'DejaVu Sans Mono',consolas,'Courier New',monospace\">Step: 24064 Done count: 232\n",
       "</pre>\n"
      ],
      "text/plain": [
       "Step: 24064 Done count: 232\n"
      ]
     },
     "metadata": {},
     "output_type": "display_data"
    },
    {
     "data": {
      "text/html": [
       "<pre style=\"white-space:pre;overflow-x:auto;line-height:normal;font-family:Menlo,'DejaVu Sans Mono',consolas,'Courier New',monospace\">Step: 24576 Done count: 238\n",
       "</pre>\n"
      ],
      "text/plain": [
       "Step: 24576 Done count: 238\n"
      ]
     },
     "metadata": {},
     "output_type": "display_data"
    },
    {
     "data": {
      "text/html": [
       "<pre style=\"white-space:pre;overflow-x:auto;line-height:normal;font-family:Menlo,'DejaVu Sans Mono',consolas,'Courier New',monospace\">Step: 25088 Done count: 242\n",
       "</pre>\n"
      ],
      "text/plain": [
       "Step: 25088 Done count: 242\n"
      ]
     },
     "metadata": {},
     "output_type": "display_data"
    },
    {
     "data": {
      "text/html": [
       "<pre style=\"white-space:pre;overflow-x:auto;line-height:normal;font-family:Menlo,'DejaVu Sans Mono',consolas,'Courier New',monospace\">Step: 25600 Done count: 245\n",
       "</pre>\n"
      ],
      "text/plain": [
       "Step: 25600 Done count: 245\n"
      ]
     },
     "metadata": {},
     "output_type": "display_data"
    },
    {
     "data": {
      "text/html": [
       "<pre style=\"white-space:pre;overflow-x:auto;line-height:normal;font-family:Menlo,'DejaVu Sans Mono',consolas,'Courier New',monospace\">Eval num_timesteps=26000, episode_reward=17.40 +/- 8.45\n",
       "</pre>\n"
      ],
      "text/plain": [
       "Eval num_timesteps=26000, episode_reward=17.40 +/- 8.45\n"
      ]
     },
     "metadata": {},
     "output_type": "display_data"
    },
    {
     "data": {
      "text/html": [
       "<pre style=\"white-space:pre;overflow-x:auto;line-height:normal;font-family:Menlo,'DejaVu Sans Mono',consolas,'Courier New',monospace\">Episode length: 21.40 +/- 6.50\n",
       "</pre>\n"
      ],
      "text/plain": [
       "Episode length: 21.40 +/- 6.50\n"
      ]
     },
     "metadata": {},
     "output_type": "display_data"
    },
    {
     "data": {
      "text/html": [
       "<pre style=\"white-space:pre;overflow-x:auto;line-height:normal;font-family:Menlo,'DejaVu Sans Mono',consolas,'Courier New',monospace\">Step: 26112 Done count: 252\n",
       "</pre>\n"
      ],
      "text/plain": [
       "Step: 26112 Done count: 252\n"
      ]
     },
     "metadata": {},
     "output_type": "display_data"
    },
    {
     "data": {
      "text/html": [
       "<pre style=\"white-space:pre;overflow-x:auto;line-height:normal;font-family:Menlo,'DejaVu Sans Mono',consolas,'Courier New',monospace\">Step: 26624 Done count: 262\n",
       "</pre>\n"
      ],
      "text/plain": [
       "Step: 26624 Done count: 262\n"
      ]
     },
     "metadata": {},
     "output_type": "display_data"
    },
    {
     "data": {
      "text/html": [
       "<pre style=\"white-space:pre;overflow-x:auto;line-height:normal;font-family:Menlo,'DejaVu Sans Mono',consolas,'Courier New',monospace\">Step: 27136 Done count: 265\n",
       "</pre>\n"
      ],
      "text/plain": [
       "Step: 27136 Done count: 265\n"
      ]
     },
     "metadata": {},
     "output_type": "display_data"
    },
    {
     "data": {
      "text/html": [
       "<pre style=\"white-space:pre;overflow-x:auto;line-height:normal;font-family:Menlo,'DejaVu Sans Mono',consolas,'Courier New',monospace\">Step: 27648 Done count: 269\n",
       "</pre>\n"
      ],
      "text/plain": [
       "Step: 27648 Done count: 269\n"
      ]
     },
     "metadata": {},
     "output_type": "display_data"
    },
    {
     "data": {
      "text/html": [
       "<pre style=\"white-space:pre;overflow-x:auto;line-height:normal;font-family:Menlo,'DejaVu Sans Mono',consolas,'Courier New',monospace\"></pre>\n"
      ],
      "text/plain": []
     },
     "metadata": {},
     "output_type": "display_data"
    },
    {
     "data": {
      "text/html": [
       "<pre style=\"white-space:pre;overflow-x:auto;line-height:normal;font-family:Menlo,'DejaVu Sans Mono',consolas,'Courier New',monospace\">\n",
       "</pre>\n"
      ],
      "text/plain": [
       "\n"
      ]
     },
     "metadata": {},
     "output_type": "display_data"
    },
    {
     "name": "stderr",
     "output_type": "stream",
     "text": [
      "[I 2024-04-25 14:55:05,422] Trial 27 finished with value: 30.6 and parameters: {'n_steps': 1399.2680023410692, 'gamma': 0.9, 'learning_rate': 0.0004844749478513348, 'ent_coef': 0.0037842381393682185, 'clip_range': 0.19211280396774147, 'n_epochs': 1.0024868182827513}. Best is trial 17 with value: 42.6.\n",
      "c:\\Users\\matth\\AppData\\Local\\Programs\\Python\\Python311\\Lib\\site-packages\\stable_baselines3\\ppo\\ppo.py:155: UserWarning: You have specified a mini-batch size of 64, but because the `RolloutBuffer` is of size `n_steps * n_envs = 2548`, after every 39 untruncated mini-batches, there will be a truncated mini-batch of size 52\n",
      "We recommend using a `batch_size` that is a factor of `n_steps * n_envs`.\n",
      "Info: (n_steps=637 and n_envs=4)\n",
      "  warnings.warn(\n"
     ]
    },
    {
     "data": {
      "application/vnd.jupyter.widget-view+json": {
       "model_id": "b478640e56f24aafa2bd214b9f039a74",
       "version_major": 2,
       "version_minor": 0
      },
      "text/plain": [
       "Output()"
      ]
     },
     "metadata": {},
     "output_type": "display_data"
    },
    {
     "data": {
      "text/html": [
       "<pre style=\"white-space:pre;overflow-x:auto;line-height:normal;font-family:Menlo,'DejaVu Sans Mono',consolas,'Courier New',monospace\">Step: 512 Done count: 2\n",
       "</pre>\n"
      ],
      "text/plain": [
       "Step: 512 Done count: 2\n"
      ]
     },
     "metadata": {},
     "output_type": "display_data"
    },
    {
     "data": {
      "text/html": [
       "<pre style=\"white-space:pre;overflow-x:auto;line-height:normal;font-family:Menlo,'DejaVu Sans Mono',consolas,'Courier New',monospace\">Step: 1024 Done count: 4\n",
       "</pre>\n"
      ],
      "text/plain": [
       "Step: 1024 Done count: 4\n"
      ]
     },
     "metadata": {},
     "output_type": "display_data"
    },
    {
     "data": {
      "text/html": [
       "<pre style=\"white-space:pre;overflow-x:auto;line-height:normal;font-family:Menlo,'DejaVu Sans Mono',consolas,'Courier New',monospace\">Step: 1536 Done count: 8\n",
       "</pre>\n"
      ],
      "text/plain": [
       "Step: 1536 Done count: 8\n"
      ]
     },
     "metadata": {},
     "output_type": "display_data"
    },
    {
     "data": {
      "text/html": [
       "<pre style=\"white-space:pre;overflow-x:auto;line-height:normal;font-family:Menlo,'DejaVu Sans Mono',consolas,'Courier New',monospace\">Eval num_timesteps=2000, episode_reward=22.74 +/- 10.45\n",
       "</pre>\n"
      ],
      "text/plain": [
       "Eval num_timesteps=2000, episode_reward=22.74 +/- 10.45\n"
      ]
     },
     "metadata": {},
     "output_type": "display_data"
    },
    {
     "data": {
      "text/html": [
       "<pre style=\"white-space:pre;overflow-x:auto;line-height:normal;font-family:Menlo,'DejaVu Sans Mono',consolas,'Courier New',monospace\">Episode length: 32.00 +/- 17.61\n",
       "</pre>\n"
      ],
      "text/plain": [
       "Episode length: 32.00 +/- 17.61\n"
      ]
     },
     "metadata": {},
     "output_type": "display_data"
    },
    {
     "data": {
      "text/html": [
       "<pre style=\"white-space:pre;overflow-x:auto;line-height:normal;font-family:Menlo,'DejaVu Sans Mono',consolas,'Courier New',monospace\">New best mean reward!\n",
       "</pre>\n"
      ],
      "text/plain": [
       "New best mean reward!\n"
      ]
     },
     "metadata": {},
     "output_type": "display_data"
    },
    {
     "data": {
      "text/html": [
       "<pre style=\"white-space:pre;overflow-x:auto;line-height:normal;font-family:Menlo,'DejaVu Sans Mono',consolas,'Courier New',monospace\">Step: 2048 Done count: 11\n",
       "</pre>\n"
      ],
      "text/plain": [
       "Step: 2048 Done count: 11\n"
      ]
     },
     "metadata": {},
     "output_type": "display_data"
    },
    {
     "data": {
      "text/html": [
       "<pre style=\"white-space:pre;overflow-x:auto;line-height:normal;font-family:Menlo,'DejaVu Sans Mono',consolas,'Courier New',monospace\">Step: 2560 Done count: 15\n",
       "</pre>\n"
      ],
      "text/plain": [
       "Step: 2560 Done count: 15\n"
      ]
     },
     "metadata": {},
     "output_type": "display_data"
    },
    {
     "data": {
      "text/html": [
       "<pre style=\"white-space:pre;overflow-x:auto;line-height:normal;font-family:Menlo,'DejaVu Sans Mono',consolas,'Courier New',monospace\">Step: 3072 Done count: 20\n",
       "</pre>\n"
      ],
      "text/plain": [
       "Step: 3072 Done count: 20\n"
      ]
     },
     "metadata": {},
     "output_type": "display_data"
    },
    {
     "data": {
      "text/html": [
       "<pre style=\"white-space:pre;overflow-x:auto;line-height:normal;font-family:Menlo,'DejaVu Sans Mono',consolas,'Courier New',monospace\">Step: 3584 Done count: 23\n",
       "</pre>\n"
      ],
      "text/plain": [
       "Step: 3584 Done count: 23\n"
      ]
     },
     "metadata": {},
     "output_type": "display_data"
    },
    {
     "data": {
      "text/html": [
       "<pre style=\"white-space:pre;overflow-x:auto;line-height:normal;font-family:Menlo,'DejaVu Sans Mono',consolas,'Courier New',monospace\">Eval num_timesteps=4000, episode_reward=17.60 +/- 2.33\n",
       "</pre>\n"
      ],
      "text/plain": [
       "Eval num_timesteps=4000, episode_reward=17.60 +/- 2.33\n"
      ]
     },
     "metadata": {},
     "output_type": "display_data"
    },
    {
     "data": {
      "text/html": [
       "<pre style=\"white-space:pre;overflow-x:auto;line-height:normal;font-family:Menlo,'DejaVu Sans Mono',consolas,'Courier New',monospace\">Episode length: 37.00 +/- 7.07\n",
       "</pre>\n"
      ],
      "text/plain": [
       "Episode length: 37.00 +/- 7.07\n"
      ]
     },
     "metadata": {},
     "output_type": "display_data"
    },
    {
     "data": {
      "text/html": [
       "<pre style=\"white-space:pre;overflow-x:auto;line-height:normal;font-family:Menlo,'DejaVu Sans Mono',consolas,'Courier New',monospace\">Step: 4096 Done count: 29\n",
       "</pre>\n"
      ],
      "text/plain": [
       "Step: 4096 Done count: 29\n"
      ]
     },
     "metadata": {},
     "output_type": "display_data"
    },
    {
     "data": {
      "text/html": [
       "<pre style=\"white-space:pre;overflow-x:auto;line-height:normal;font-family:Menlo,'DejaVu Sans Mono',consolas,'Courier New',monospace\">Step: 4608 Done count: 34\n",
       "</pre>\n"
      ],
      "text/plain": [
       "Step: 4608 Done count: 34\n"
      ]
     },
     "metadata": {},
     "output_type": "display_data"
    },
    {
     "data": {
      "text/html": [
       "<pre style=\"white-space:pre;overflow-x:auto;line-height:normal;font-family:Menlo,'DejaVu Sans Mono',consolas,'Courier New',monospace\">Step: 5120 Done count: 38\n",
       "</pre>\n"
      ],
      "text/plain": [
       "Step: 5120 Done count: 38\n"
      ]
     },
     "metadata": {},
     "output_type": "display_data"
    },
    {
     "data": {
      "text/html": [
       "<pre style=\"white-space:pre;overflow-x:auto;line-height:normal;font-family:Menlo,'DejaVu Sans Mono',consolas,'Courier New',monospace\">Step: 5632 Done count: 41\n",
       "</pre>\n"
      ],
      "text/plain": [
       "Step: 5632 Done count: 41\n"
      ]
     },
     "metadata": {},
     "output_type": "display_data"
    },
    {
     "data": {
      "text/html": [
       "<pre style=\"white-space:pre;overflow-x:auto;line-height:normal;font-family:Menlo,'DejaVu Sans Mono',consolas,'Courier New',monospace\">Eval num_timesteps=6000, episode_reward=10.60 +/- 1.96\n",
       "</pre>\n"
      ],
      "text/plain": [
       "Eval num_timesteps=6000, episode_reward=10.60 +/- 1.96\n"
      ]
     },
     "metadata": {},
     "output_type": "display_data"
    },
    {
     "data": {
      "text/html": [
       "<pre style=\"white-space:pre;overflow-x:auto;line-height:normal;font-family:Menlo,'DejaVu Sans Mono',consolas,'Courier New',monospace\">Episode length: 27.20 +/- 7.22\n",
       "</pre>\n"
      ],
      "text/plain": [
       "Episode length: 27.20 +/- 7.22\n"
      ]
     },
     "metadata": {},
     "output_type": "display_data"
    },
    {
     "data": {
      "text/html": [
       "<pre style=\"white-space:pre;overflow-x:auto;line-height:normal;font-family:Menlo,'DejaVu Sans Mono',consolas,'Courier New',monospace\">Step: 6144 Done count: 45\n",
       "</pre>\n"
      ],
      "text/plain": [
       "Step: 6144 Done count: 45\n"
      ]
     },
     "metadata": {},
     "output_type": "display_data"
    },
    {
     "data": {
      "text/html": [
       "<pre style=\"white-space:pre;overflow-x:auto;line-height:normal;font-family:Menlo,'DejaVu Sans Mono',consolas,'Courier New',monospace\">Step: 6656 Done count: 49\n",
       "</pre>\n"
      ],
      "text/plain": [
       "Step: 6656 Done count: 49\n"
      ]
     },
     "metadata": {},
     "output_type": "display_data"
    },
    {
     "data": {
      "text/html": [
       "<pre style=\"white-space:pre;overflow-x:auto;line-height:normal;font-family:Menlo,'DejaVu Sans Mono',consolas,'Courier New',monospace\">Step: 7168 Done count: 56\n",
       "</pre>\n"
      ],
      "text/plain": [
       "Step: 7168 Done count: 56\n"
      ]
     },
     "metadata": {},
     "output_type": "display_data"
    },
    {
     "data": {
      "text/html": [
       "<pre style=\"white-space:pre;overflow-x:auto;line-height:normal;font-family:Menlo,'DejaVu Sans Mono',consolas,'Courier New',monospace\">Step: 7680 Done count: 62\n",
       "</pre>\n"
      ],
      "text/plain": [
       "Step: 7680 Done count: 62\n"
      ]
     },
     "metadata": {},
     "output_type": "display_data"
    },
    {
     "data": {
      "text/html": [
       "<pre style=\"white-space:pre;overflow-x:auto;line-height:normal;font-family:Menlo,'DejaVu Sans Mono',consolas,'Courier New',monospace\">Eval num_timesteps=8000, episode_reward=13.00 +/- 4.52\n",
       "</pre>\n"
      ],
      "text/plain": [
       "Eval num_timesteps=8000, episode_reward=13.00 +/- 4.52\n"
      ]
     },
     "metadata": {},
     "output_type": "display_data"
    },
    {
     "data": {
      "text/html": [
       "<pre style=\"white-space:pre;overflow-x:auto;line-height:normal;font-family:Menlo,'DejaVu Sans Mono',consolas,'Courier New',monospace\">Episode length: 45.00 +/- 25.95\n",
       "</pre>\n"
      ],
      "text/plain": [
       "Episode length: 45.00 +/- 25.95\n"
      ]
     },
     "metadata": {},
     "output_type": "display_data"
    },
    {
     "data": {
      "text/html": [
       "<pre style=\"white-space:pre;overflow-x:auto;line-height:normal;font-family:Menlo,'DejaVu Sans Mono',consolas,'Courier New',monospace\">Step: 8192 Done count: 66\n",
       "</pre>\n"
      ],
      "text/plain": [
       "Step: 8192 Done count: 66\n"
      ]
     },
     "metadata": {},
     "output_type": "display_data"
    },
    {
     "data": {
      "text/html": [
       "<pre style=\"white-space:pre;overflow-x:auto;line-height:normal;font-family:Menlo,'DejaVu Sans Mono',consolas,'Courier New',monospace\">Step: 8704 Done count: 69\n",
       "</pre>\n"
      ],
      "text/plain": [
       "Step: 8704 Done count: 69\n"
      ]
     },
     "metadata": {},
     "output_type": "display_data"
    },
    {
     "data": {
      "text/html": [
       "<pre style=\"white-space:pre;overflow-x:auto;line-height:normal;font-family:Menlo,'DejaVu Sans Mono',consolas,'Courier New',monospace\">Step: 9216 Done count: 72\n",
       "</pre>\n"
      ],
      "text/plain": [
       "Step: 9216 Done count: 72\n"
      ]
     },
     "metadata": {},
     "output_type": "display_data"
    },
    {
     "data": {
      "text/html": [
       "<pre style=\"white-space:pre;overflow-x:auto;line-height:normal;font-family:Menlo,'DejaVu Sans Mono',consolas,'Courier New',monospace\">Step: 9728 Done count: 74\n",
       "</pre>\n"
      ],
      "text/plain": [
       "Step: 9728 Done count: 74\n"
      ]
     },
     "metadata": {},
     "output_type": "display_data"
    },
    {
     "data": {
      "text/html": [
       "<pre style=\"white-space:pre;overflow-x:auto;line-height:normal;font-family:Menlo,'DejaVu Sans Mono',consolas,'Courier New',monospace\">Eval num_timesteps=10000, episode_reward=10.20 +/- 6.49\n",
       "</pre>\n"
      ],
      "text/plain": [
       "Eval num_timesteps=10000, episode_reward=10.20 +/- 6.49\n"
      ]
     },
     "metadata": {},
     "output_type": "display_data"
    },
    {
     "data": {
      "text/html": [
       "<pre style=\"white-space:pre;overflow-x:auto;line-height:normal;font-family:Menlo,'DejaVu Sans Mono',consolas,'Courier New',monospace\">Episode length: 33.60 +/- 26.82\n",
       "</pre>\n"
      ],
      "text/plain": [
       "Episode length: 33.60 +/- 26.82\n"
      ]
     },
     "metadata": {},
     "output_type": "display_data"
    },
    {
     "data": {
      "text/html": [
       "<pre style=\"white-space:pre;overflow-x:auto;line-height:normal;font-family:Menlo,'DejaVu Sans Mono',consolas,'Courier New',monospace\">Step: 10240 Done count: 80\n",
       "</pre>\n"
      ],
      "text/plain": [
       "Step: 10240 Done count: 80\n"
      ]
     },
     "metadata": {},
     "output_type": "display_data"
    },
    {
     "data": {
      "text/html": [
       "<pre style=\"white-space:pre;overflow-x:auto;line-height:normal;font-family:Menlo,'DejaVu Sans Mono',consolas,'Courier New',monospace\">Step: 10752 Done count: 83\n",
       "</pre>\n"
      ],
      "text/plain": [
       "Step: 10752 Done count: 83\n"
      ]
     },
     "metadata": {},
     "output_type": "display_data"
    },
    {
     "data": {
      "text/html": [
       "<pre style=\"white-space:pre;overflow-x:auto;line-height:normal;font-family:Menlo,'DejaVu Sans Mono',consolas,'Courier New',monospace\">Step: 11264 Done count: 92\n",
       "</pre>\n"
      ],
      "text/plain": [
       "Step: 11264 Done count: 92\n"
      ]
     },
     "metadata": {},
     "output_type": "display_data"
    },
    {
     "data": {
      "text/html": [
       "<pre style=\"white-space:pre;overflow-x:auto;line-height:normal;font-family:Menlo,'DejaVu Sans Mono',consolas,'Courier New',monospace\">Step: 11776 Done count: 98\n",
       "</pre>\n"
      ],
      "text/plain": [
       "Step: 11776 Done count: 98\n"
      ]
     },
     "metadata": {},
     "output_type": "display_data"
    },
    {
     "data": {
      "text/html": [
       "<pre style=\"white-space:pre;overflow-x:auto;line-height:normal;font-family:Menlo,'DejaVu Sans Mono',consolas,'Courier New',monospace\">Eval num_timesteps=12000, episode_reward=10.20 +/- 2.32\n",
       "</pre>\n"
      ],
      "text/plain": [
       "Eval num_timesteps=12000, episode_reward=10.20 +/- 2.32\n"
      ]
     },
     "metadata": {},
     "output_type": "display_data"
    },
    {
     "data": {
      "text/html": [
       "<pre style=\"white-space:pre;overflow-x:auto;line-height:normal;font-family:Menlo,'DejaVu Sans Mono',consolas,'Courier New',monospace\">Episode length: 21.20 +/- 9.24\n",
       "</pre>\n"
      ],
      "text/plain": [
       "Episode length: 21.20 +/- 9.24\n"
      ]
     },
     "metadata": {},
     "output_type": "display_data"
    },
    {
     "data": {
      "text/html": [
       "<pre style=\"white-space:pre;overflow-x:auto;line-height:normal;font-family:Menlo,'DejaVu Sans Mono',consolas,'Courier New',monospace\">Step: 12288 Done count: 104\n",
       "</pre>\n"
      ],
      "text/plain": [
       "Step: 12288 Done count: 104\n"
      ]
     },
     "metadata": {},
     "output_type": "display_data"
    },
    {
     "data": {
      "text/html": [
       "<pre style=\"white-space:pre;overflow-x:auto;line-height:normal;font-family:Menlo,'DejaVu Sans Mono',consolas,'Courier New',monospace\">Step: 12800 Done count: 111\n",
       "</pre>\n"
      ],
      "text/plain": [
       "Step: 12800 Done count: 111\n"
      ]
     },
     "metadata": {},
     "output_type": "display_data"
    },
    {
     "data": {
      "text/html": [
       "<pre style=\"white-space:pre;overflow-x:auto;line-height:normal;font-family:Menlo,'DejaVu Sans Mono',consolas,'Courier New',monospace\">Step: 13312 Done count: 116\n",
       "</pre>\n"
      ],
      "text/plain": [
       "Step: 13312 Done count: 116\n"
      ]
     },
     "metadata": {},
     "output_type": "display_data"
    },
    {
     "data": {
      "text/html": [
       "<pre style=\"white-space:pre;overflow-x:auto;line-height:normal;font-family:Menlo,'DejaVu Sans Mono',consolas,'Courier New',monospace\">Step: 13824 Done count: 122\n",
       "</pre>\n"
      ],
      "text/plain": [
       "Step: 13824 Done count: 122\n"
      ]
     },
     "metadata": {},
     "output_type": "display_data"
    },
    {
     "data": {
      "text/html": [
       "<pre style=\"white-space:pre;overflow-x:auto;line-height:normal;font-family:Menlo,'DejaVu Sans Mono',consolas,'Courier New',monospace\">Eval num_timesteps=14000, episode_reward=7.40 +/- 2.24\n",
       "</pre>\n"
      ],
      "text/plain": [
       "Eval num_timesteps=14000, episode_reward=7.40 +/- 2.24\n"
      ]
     },
     "metadata": {},
     "output_type": "display_data"
    },
    {
     "data": {
      "text/html": [
       "<pre style=\"white-space:pre;overflow-x:auto;line-height:normal;font-family:Menlo,'DejaVu Sans Mono',consolas,'Courier New',monospace\">Episode length: 24.80 +/- 19.00\n",
       "</pre>\n"
      ],
      "text/plain": [
       "Episode length: 24.80 +/- 19.00\n"
      ]
     },
     "metadata": {},
     "output_type": "display_data"
    },
    {
     "data": {
      "text/html": [
       "<pre style=\"white-space:pre;overflow-x:auto;line-height:normal;font-family:Menlo,'DejaVu Sans Mono',consolas,'Courier New',monospace\">Step: 14336 Done count: 126\n",
       "</pre>\n"
      ],
      "text/plain": [
       "Step: 14336 Done count: 126\n"
      ]
     },
     "metadata": {},
     "output_type": "display_data"
    },
    {
     "data": {
      "text/html": [
       "<pre style=\"white-space:pre;overflow-x:auto;line-height:normal;font-family:Menlo,'DejaVu Sans Mono',consolas,'Courier New',monospace\">Step: 14848 Done count: 133\n",
       "</pre>\n"
      ],
      "text/plain": [
       "Step: 14848 Done count: 133\n"
      ]
     },
     "metadata": {},
     "output_type": "display_data"
    },
    {
     "data": {
      "text/html": [
       "<pre style=\"white-space:pre;overflow-x:auto;line-height:normal;font-family:Menlo,'DejaVu Sans Mono',consolas,'Courier New',monospace\">Step: 15360 Done count: 136\n",
       "</pre>\n"
      ],
      "text/plain": [
       "Step: 15360 Done count: 136\n"
      ]
     },
     "metadata": {},
     "output_type": "display_data"
    },
    {
     "data": {
      "text/html": [
       "<pre style=\"white-space:pre;overflow-x:auto;line-height:normal;font-family:Menlo,'DejaVu Sans Mono',consolas,'Courier New',monospace\">Step: 15872 Done count: 141\n",
       "</pre>\n"
      ],
      "text/plain": [
       "Step: 15872 Done count: 141\n"
      ]
     },
     "metadata": {},
     "output_type": "display_data"
    },
    {
     "data": {
      "text/html": [
       "<pre style=\"white-space:pre;overflow-x:auto;line-height:normal;font-family:Menlo,'DejaVu Sans Mono',consolas,'Courier New',monospace\">Eval num_timesteps=16000, episode_reward=15.20 +/- 3.60\n",
       "</pre>\n"
      ],
      "text/plain": [
       "Eval num_timesteps=16000, episode_reward=15.20 +/- 3.60\n"
      ]
     },
     "metadata": {},
     "output_type": "display_data"
    },
    {
     "data": {
      "text/html": [
       "<pre style=\"white-space:pre;overflow-x:auto;line-height:normal;font-family:Menlo,'DejaVu Sans Mono',consolas,'Courier New',monospace\">Episode length: 35.60 +/- 6.80\n",
       "</pre>\n"
      ],
      "text/plain": [
       "Episode length: 35.60 +/- 6.80\n"
      ]
     },
     "metadata": {},
     "output_type": "display_data"
    },
    {
     "data": {
      "text/html": [
       "<pre style=\"white-space:pre;overflow-x:auto;line-height:normal;font-family:Menlo,'DejaVu Sans Mono',consolas,'Courier New',monospace\">Step: 16384 Done count: 145\n",
       "</pre>\n"
      ],
      "text/plain": [
       "Step: 16384 Done count: 145\n"
      ]
     },
     "metadata": {},
     "output_type": "display_data"
    },
    {
     "data": {
      "text/html": [
       "<pre style=\"white-space:pre;overflow-x:auto;line-height:normal;font-family:Menlo,'DejaVu Sans Mono',consolas,'Courier New',monospace\">Step: 16896 Done count: 149\n",
       "</pre>\n"
      ],
      "text/plain": [
       "Step: 16896 Done count: 149\n"
      ]
     },
     "metadata": {},
     "output_type": "display_data"
    },
    {
     "data": {
      "text/html": [
       "<pre style=\"white-space:pre;overflow-x:auto;line-height:normal;font-family:Menlo,'DejaVu Sans Mono',consolas,'Courier New',monospace\">Step: 17408 Done count: 152\n",
       "</pre>\n"
      ],
      "text/plain": [
       "Step: 17408 Done count: 152\n"
      ]
     },
     "metadata": {},
     "output_type": "display_data"
    },
    {
     "data": {
      "text/html": [
       "<pre style=\"white-space:pre;overflow-x:auto;line-height:normal;font-family:Menlo,'DejaVu Sans Mono',consolas,'Courier New',monospace\">Step: 17920 Done count: 158\n",
       "</pre>\n"
      ],
      "text/plain": [
       "Step: 17920 Done count: 158\n"
      ]
     },
     "metadata": {},
     "output_type": "display_data"
    },
    {
     "data": {
      "text/html": [
       "<pre style=\"white-space:pre;overflow-x:auto;line-height:normal;font-family:Menlo,'DejaVu Sans Mono',consolas,'Courier New',monospace\">Eval num_timesteps=18000, episode_reward=28.40 +/- 10.37\n",
       "</pre>\n"
      ],
      "text/plain": [
       "Eval num_timesteps=18000, episode_reward=28.40 +/- 10.37\n"
      ]
     },
     "metadata": {},
     "output_type": "display_data"
    },
    {
     "data": {
      "text/html": [
       "<pre style=\"white-space:pre;overflow-x:auto;line-height:normal;font-family:Menlo,'DejaVu Sans Mono',consolas,'Courier New',monospace\">Episode length: 30.40 +/- 7.99\n",
       "</pre>\n"
      ],
      "text/plain": [
       "Episode length: 30.40 +/- 7.99\n"
      ]
     },
     "metadata": {},
     "output_type": "display_data"
    },
    {
     "data": {
      "text/html": [
       "<pre style=\"white-space:pre;overflow-x:auto;line-height:normal;font-family:Menlo,'DejaVu Sans Mono',consolas,'Courier New',monospace\">New best mean reward!\n",
       "</pre>\n"
      ],
      "text/plain": [
       "New best mean reward!\n"
      ]
     },
     "metadata": {},
     "output_type": "display_data"
    },
    {
     "data": {
      "text/html": [
       "<pre style=\"white-space:pre;overflow-x:auto;line-height:normal;font-family:Menlo,'DejaVu Sans Mono',consolas,'Courier New',monospace\">Step: 18432 Done count: 160\n",
       "</pre>\n"
      ],
      "text/plain": [
       "Step: 18432 Done count: 160\n"
      ]
     },
     "metadata": {},
     "output_type": "display_data"
    },
    {
     "data": {
      "text/html": [
       "<pre style=\"white-space:pre;overflow-x:auto;line-height:normal;font-family:Menlo,'DejaVu Sans Mono',consolas,'Courier New',monospace\">Step: 18944 Done count: 164\n",
       "</pre>\n"
      ],
      "text/plain": [
       "Step: 18944 Done count: 164\n"
      ]
     },
     "metadata": {},
     "output_type": "display_data"
    },
    {
     "data": {
      "text/html": [
       "<pre style=\"white-space:pre;overflow-x:auto;line-height:normal;font-family:Menlo,'DejaVu Sans Mono',consolas,'Courier New',monospace\">Step: 19456 Done count: 169\n",
       "</pre>\n"
      ],
      "text/plain": [
       "Step: 19456 Done count: 169\n"
      ]
     },
     "metadata": {},
     "output_type": "display_data"
    },
    {
     "data": {
      "text/html": [
       "<pre style=\"white-space:pre;overflow-x:auto;line-height:normal;font-family:Menlo,'DejaVu Sans Mono',consolas,'Courier New',monospace\">Step: 19968 Done count: 173\n",
       "</pre>\n"
      ],
      "text/plain": [
       "Step: 19968 Done count: 173\n"
      ]
     },
     "metadata": {},
     "output_type": "display_data"
    },
    {
     "data": {
      "text/html": [
       "<pre style=\"white-space:pre;overflow-x:auto;line-height:normal;font-family:Menlo,'DejaVu Sans Mono',consolas,'Courier New',monospace\">Eval num_timesteps=20000, episode_reward=29.00 +/- 7.95\n",
       "</pre>\n"
      ],
      "text/plain": [
       "Eval num_timesteps=20000, episode_reward=29.00 +/- 7.95\n"
      ]
     },
     "metadata": {},
     "output_type": "display_data"
    },
    {
     "data": {
      "text/html": [
       "<pre style=\"white-space:pre;overflow-x:auto;line-height:normal;font-family:Menlo,'DejaVu Sans Mono',consolas,'Courier New',monospace\">Episode length: 31.00 +/- 5.59\n",
       "</pre>\n"
      ],
      "text/plain": [
       "Episode length: 31.00 +/- 5.59\n"
      ]
     },
     "metadata": {},
     "output_type": "display_data"
    },
    {
     "data": {
      "text/html": [
       "<pre style=\"white-space:pre;overflow-x:auto;line-height:normal;font-family:Menlo,'DejaVu Sans Mono',consolas,'Courier New',monospace\">New best mean reward!\n",
       "</pre>\n"
      ],
      "text/plain": [
       "New best mean reward!\n"
      ]
     },
     "metadata": {},
     "output_type": "display_data"
    },
    {
     "data": {
      "text/html": [
       "<pre style=\"white-space:pre;overflow-x:auto;line-height:normal;font-family:Menlo,'DejaVu Sans Mono',consolas,'Courier New',monospace\">Step: 20480 Done count: 179\n",
       "</pre>\n"
      ],
      "text/plain": [
       "Step: 20480 Done count: 179\n"
      ]
     },
     "metadata": {},
     "output_type": "display_data"
    },
    {
     "data": {
      "text/html": [
       "<pre style=\"white-space:pre;overflow-x:auto;line-height:normal;font-family:Menlo,'DejaVu Sans Mono',consolas,'Courier New',monospace\">Step: 20992 Done count: 183\n",
       "</pre>\n"
      ],
      "text/plain": [
       "Step: 20992 Done count: 183\n"
      ]
     },
     "metadata": {},
     "output_type": "display_data"
    },
    {
     "data": {
      "text/html": [
       "<pre style=\"white-space:pre;overflow-x:auto;line-height:normal;font-family:Menlo,'DejaVu Sans Mono',consolas,'Courier New',monospace\">Step: 21504 Done count: 188\n",
       "</pre>\n"
      ],
      "text/plain": [
       "Step: 21504 Done count: 188\n"
      ]
     },
     "metadata": {},
     "output_type": "display_data"
    },
    {
     "data": {
      "text/html": [
       "<pre style=\"white-space:pre;overflow-x:auto;line-height:normal;font-family:Menlo,'DejaVu Sans Mono',consolas,'Courier New',monospace\">Eval num_timesteps=22000, episode_reward=14.80 +/- 5.91\n",
       "</pre>\n"
      ],
      "text/plain": [
       "Eval num_timesteps=22000, episode_reward=14.80 +/- 5.91\n"
      ]
     },
     "metadata": {},
     "output_type": "display_data"
    },
    {
     "data": {
      "text/html": [
       "<pre style=\"white-space:pre;overflow-x:auto;line-height:normal;font-family:Menlo,'DejaVu Sans Mono',consolas,'Courier New',monospace\">Episode length: 46.40 +/- 24.01\n",
       "</pre>\n"
      ],
      "text/plain": [
       "Episode length: 46.40 +/- 24.01\n"
      ]
     },
     "metadata": {},
     "output_type": "display_data"
    },
    {
     "data": {
      "text/html": [
       "<pre style=\"white-space:pre;overflow-x:auto;line-height:normal;font-family:Menlo,'DejaVu Sans Mono',consolas,'Courier New',monospace\">Step: 22016 Done count: 196\n",
       "</pre>\n"
      ],
      "text/plain": [
       "Step: 22016 Done count: 196\n"
      ]
     },
     "metadata": {},
     "output_type": "display_data"
    },
    {
     "data": {
      "text/html": [
       "<pre style=\"white-space:pre;overflow-x:auto;line-height:normal;font-family:Menlo,'DejaVu Sans Mono',consolas,'Courier New',monospace\">Step: 22528 Done count: 199\n",
       "</pre>\n"
      ],
      "text/plain": [
       "Step: 22528 Done count: 199\n"
      ]
     },
     "metadata": {},
     "output_type": "display_data"
    },
    {
     "data": {
      "text/html": [
       "<pre style=\"white-space:pre;overflow-x:auto;line-height:normal;font-family:Menlo,'DejaVu Sans Mono',consolas,'Courier New',monospace\">Step: 23040 Done count: 203\n",
       "</pre>\n"
      ],
      "text/plain": [
       "Step: 23040 Done count: 203\n"
      ]
     },
     "metadata": {},
     "output_type": "display_data"
    },
    {
     "data": {
      "text/html": [
       "<pre style=\"white-space:pre;overflow-x:auto;line-height:normal;font-family:Menlo,'DejaVu Sans Mono',consolas,'Courier New',monospace\">Step: 23552 Done count: 205\n",
       "</pre>\n"
      ],
      "text/plain": [
       "Step: 23552 Done count: 205\n"
      ]
     },
     "metadata": {},
     "output_type": "display_data"
    },
    {
     "data": {
      "text/html": [
       "<pre style=\"white-space:pre;overflow-x:auto;line-height:normal;font-family:Menlo,'DejaVu Sans Mono',consolas,'Courier New',monospace\">Eval num_timesteps=24000, episode_reward=20.00 +/- 6.32\n",
       "</pre>\n"
      ],
      "text/plain": [
       "Eval num_timesteps=24000, episode_reward=20.00 +/- 6.32\n"
      ]
     },
     "metadata": {},
     "output_type": "display_data"
    },
    {
     "data": {
      "text/html": [
       "<pre style=\"white-space:pre;overflow-x:auto;line-height:normal;font-family:Menlo,'DejaVu Sans Mono',consolas,'Courier New',monospace\">Episode length: 23.80 +/- 4.71\n",
       "</pre>\n"
      ],
      "text/plain": [
       "Episode length: 23.80 +/- 4.71\n"
      ]
     },
     "metadata": {},
     "output_type": "display_data"
    },
    {
     "data": {
      "text/html": [
       "<pre style=\"white-space:pre;overflow-x:auto;line-height:normal;font-family:Menlo,'DejaVu Sans Mono',consolas,'Courier New',monospace\">Step: 24064 Done count: 209\n",
       "</pre>\n"
      ],
      "text/plain": [
       "Step: 24064 Done count: 209\n"
      ]
     },
     "metadata": {},
     "output_type": "display_data"
    },
    {
     "data": {
      "text/html": [
       "<pre style=\"white-space:pre;overflow-x:auto;line-height:normal;font-family:Menlo,'DejaVu Sans Mono',consolas,'Courier New',monospace\">Step: 24576 Done count: 213\n",
       "</pre>\n"
      ],
      "text/plain": [
       "Step: 24576 Done count: 213\n"
      ]
     },
     "metadata": {},
     "output_type": "display_data"
    },
    {
     "data": {
      "text/html": [
       "<pre style=\"white-space:pre;overflow-x:auto;line-height:normal;font-family:Menlo,'DejaVu Sans Mono',consolas,'Courier New',monospace\">Step: 25088 Done count: 218\n",
       "</pre>\n"
      ],
      "text/plain": [
       "Step: 25088 Done count: 218\n"
      ]
     },
     "metadata": {},
     "output_type": "display_data"
    },
    {
     "data": {
      "text/html": [
       "<pre style=\"white-space:pre;overflow-x:auto;line-height:normal;font-family:Menlo,'DejaVu Sans Mono',consolas,'Courier New',monospace\">Step: 25600 Done count: 222\n",
       "</pre>\n"
      ],
      "text/plain": [
       "Step: 25600 Done count: 222\n"
      ]
     },
     "metadata": {},
     "output_type": "display_data"
    },
    {
     "data": {
      "text/html": [
       "<pre style=\"white-space:pre;overflow-x:auto;line-height:normal;font-family:Menlo,'DejaVu Sans Mono',consolas,'Courier New',monospace\">Eval num_timesteps=26000, episode_reward=10.80 +/- 2.40\n",
       "</pre>\n"
      ],
      "text/plain": [
       "Eval num_timesteps=26000, episode_reward=10.80 +/- 2.40\n"
      ]
     },
     "metadata": {},
     "output_type": "display_data"
    },
    {
     "data": {
      "text/html": [
       "<pre style=\"white-space:pre;overflow-x:auto;line-height:normal;font-family:Menlo,'DejaVu Sans Mono',consolas,'Courier New',monospace\">Episode length: 22.60 +/- 7.99\n",
       "</pre>\n"
      ],
      "text/plain": [
       "Episode length: 22.60 +/- 7.99\n"
      ]
     },
     "metadata": {},
     "output_type": "display_data"
    },
    {
     "data": {
      "text/html": [
       "<pre style=\"white-space:pre;overflow-x:auto;line-height:normal;font-family:Menlo,'DejaVu Sans Mono',consolas,'Courier New',monospace\">Step: 26112 Done count: 226\n",
       "</pre>\n"
      ],
      "text/plain": [
       "Step: 26112 Done count: 226\n"
      ]
     },
     "metadata": {},
     "output_type": "display_data"
    },
    {
     "data": {
      "text/html": [
       "<pre style=\"white-space:pre;overflow-x:auto;line-height:normal;font-family:Menlo,'DejaVu Sans Mono',consolas,'Courier New',monospace\">Step: 26624 Done count: 232\n",
       "</pre>\n"
      ],
      "text/plain": [
       "Step: 26624 Done count: 232\n"
      ]
     },
     "metadata": {},
     "output_type": "display_data"
    },
    {
     "data": {
      "text/html": [
       "<pre style=\"white-space:pre;overflow-x:auto;line-height:normal;font-family:Menlo,'DejaVu Sans Mono',consolas,'Courier New',monospace\">Step: 27136 Done count: 238\n",
       "</pre>\n"
      ],
      "text/plain": [
       "Step: 27136 Done count: 238\n"
      ]
     },
     "metadata": {},
     "output_type": "display_data"
    },
    {
     "data": {
      "text/html": [
       "<pre style=\"white-space:pre;overflow-x:auto;line-height:normal;font-family:Menlo,'DejaVu Sans Mono',consolas,'Courier New',monospace\">Step: 27648 Done count: 242\n",
       "</pre>\n"
      ],
      "text/plain": [
       "Step: 27648 Done count: 242\n"
      ]
     },
     "metadata": {},
     "output_type": "display_data"
    },
    {
     "data": {
      "text/html": [
       "<pre style=\"white-space:pre;overflow-x:auto;line-height:normal;font-family:Menlo,'DejaVu Sans Mono',consolas,'Courier New',monospace\">Eval num_timesteps=28000, episode_reward=10.80 +/- 3.49\n",
       "</pre>\n"
      ],
      "text/plain": [
       "Eval num_timesteps=28000, episode_reward=10.80 +/- 3.49\n"
      ]
     },
     "metadata": {},
     "output_type": "display_data"
    },
    {
     "data": {
      "text/html": [
       "<pre style=\"white-space:pre;overflow-x:auto;line-height:normal;font-family:Menlo,'DejaVu Sans Mono',consolas,'Courier New',monospace\">Episode length: 26.00 +/- 4.56\n",
       "</pre>\n"
      ],
      "text/plain": [
       "Episode length: 26.00 +/- 4.56\n"
      ]
     },
     "metadata": {},
     "output_type": "display_data"
    },
    {
     "data": {
      "text/html": [
       "<pre style=\"white-space:pre;overflow-x:auto;line-height:normal;font-family:Menlo,'DejaVu Sans Mono',consolas,'Courier New',monospace\"></pre>\n"
      ],
      "text/plain": []
     },
     "metadata": {},
     "output_type": "display_data"
    },
    {
     "data": {
      "text/html": [
       "<pre style=\"white-space:pre;overflow-x:auto;line-height:normal;font-family:Menlo,'DejaVu Sans Mono',consolas,'Courier New',monospace\">\n",
       "</pre>\n"
      ],
      "text/plain": [
       "\n"
      ]
     },
     "metadata": {},
     "output_type": "display_data"
    },
    {
     "name": "stderr",
     "output_type": "stream",
     "text": [
      "[I 2024-04-25 15:34:06,611] Trial 28 finished with value: 29.0 and parameters: {'n_steps': 637.6502617322847, 'gamma': 0.9999, 'learning_rate': 0.0001530564457810309, 'ent_coef': 0.02862055317357903, 'clip_range': 0.21957397940070242, 'n_epochs': 1.5580612834160128}. Best is trial 17 with value: 42.6.\n",
      "c:\\Users\\matth\\AppData\\Local\\Programs\\Python\\Python311\\Lib\\site-packages\\stable_baselines3\\ppo\\ppo.py:155: UserWarning: You have specified a mini-batch size of 64, but because the `RolloutBuffer` is of size `n_steps * n_envs = 1668`, after every 26 untruncated mini-batches, there will be a truncated mini-batch of size 4\n",
      "We recommend using a `batch_size` that is a factor of `n_steps * n_envs`.\n",
      "Info: (n_steps=417 and n_envs=4)\n",
      "  warnings.warn(\n"
     ]
    },
    {
     "data": {
      "application/vnd.jupyter.widget-view+json": {
       "model_id": "cf1d1365110a49c7826339dd6b6298ee",
       "version_major": 2,
       "version_minor": 0
      },
      "text/plain": [
       "Output()"
      ]
     },
     "metadata": {},
     "output_type": "display_data"
    },
    {
     "data": {
      "text/html": [
       "<pre style=\"white-space:pre;overflow-x:auto;line-height:normal;font-family:Menlo,'DejaVu Sans Mono',consolas,'Courier New',monospace\">Step: 512 Done count: 5\n",
       "</pre>\n"
      ],
      "text/plain": [
       "Step: 512 Done count: 5\n"
      ]
     },
     "metadata": {},
     "output_type": "display_data"
    },
    {
     "data": {
      "text/html": [
       "<pre style=\"white-space:pre;overflow-x:auto;line-height:normal;font-family:Menlo,'DejaVu Sans Mono',consolas,'Courier New',monospace\">Step: 1024 Done count: 8\n",
       "</pre>\n"
      ],
      "text/plain": [
       "Step: 1024 Done count: 8\n"
      ]
     },
     "metadata": {},
     "output_type": "display_data"
    },
    {
     "data": {
      "text/html": [
       "<pre style=\"white-space:pre;overflow-x:auto;line-height:normal;font-family:Menlo,'DejaVu Sans Mono',consolas,'Courier New',monospace\">Step: 1536 Done count: 12\n",
       "</pre>\n"
      ],
      "text/plain": [
       "Step: 1536 Done count: 12\n"
      ]
     },
     "metadata": {},
     "output_type": "display_data"
    },
    {
     "data": {
      "text/html": [
       "<pre style=\"white-space:pre;overflow-x:auto;line-height:normal;font-family:Menlo,'DejaVu Sans Mono',consolas,'Courier New',monospace\">Eval num_timesteps=2000, episode_reward=13.80 +/- 4.96\n",
       "</pre>\n"
      ],
      "text/plain": [
       "Eval num_timesteps=2000, episode_reward=13.80 +/- 4.96\n"
      ]
     },
     "metadata": {},
     "output_type": "display_data"
    },
    {
     "data": {
      "text/html": [
       "<pre style=\"white-space:pre;overflow-x:auto;line-height:normal;font-family:Menlo,'DejaVu Sans Mono',consolas,'Courier New',monospace\">Episode length: 37.60 +/- 23.29\n",
       "</pre>\n"
      ],
      "text/plain": [
       "Episode length: 37.60 +/- 23.29\n"
      ]
     },
     "metadata": {},
     "output_type": "display_data"
    },
    {
     "data": {
      "text/html": [
       "<pre style=\"white-space:pre;overflow-x:auto;line-height:normal;font-family:Menlo,'DejaVu Sans Mono',consolas,'Courier New',monospace\">New best mean reward!\n",
       "</pre>\n"
      ],
      "text/plain": [
       "New best mean reward!\n"
      ]
     },
     "metadata": {},
     "output_type": "display_data"
    },
    {
     "data": {
      "text/html": [
       "<pre style=\"white-space:pre;overflow-x:auto;line-height:normal;font-family:Menlo,'DejaVu Sans Mono',consolas,'Courier New',monospace\">Step: 2048 Done count: 16\n",
       "</pre>\n"
      ],
      "text/plain": [
       "Step: 2048 Done count: 16\n"
      ]
     },
     "metadata": {},
     "output_type": "display_data"
    },
    {
     "data": {
      "text/html": [
       "<pre style=\"white-space:pre;overflow-x:auto;line-height:normal;font-family:Menlo,'DejaVu Sans Mono',consolas,'Courier New',monospace\">Step: 2560 Done count: 21\n",
       "</pre>\n"
      ],
      "text/plain": [
       "Step: 2560 Done count: 21\n"
      ]
     },
     "metadata": {},
     "output_type": "display_data"
    },
    {
     "data": {
      "text/html": [
       "<pre style=\"white-space:pre;overflow-x:auto;line-height:normal;font-family:Menlo,'DejaVu Sans Mono',consolas,'Courier New',monospace\">Step: 3072 Done count: 23\n",
       "</pre>\n"
      ],
      "text/plain": [
       "Step: 3072 Done count: 23\n"
      ]
     },
     "metadata": {},
     "output_type": "display_data"
    },
    {
     "data": {
      "text/html": [
       "<pre style=\"white-space:pre;overflow-x:auto;line-height:normal;font-family:Menlo,'DejaVu Sans Mono',consolas,'Courier New',monospace\">Step: 3584 Done count: 28\n",
       "</pre>\n"
      ],
      "text/plain": [
       "Step: 3584 Done count: 28\n"
      ]
     },
     "metadata": {},
     "output_type": "display_data"
    },
    {
     "data": {
      "text/html": [
       "<pre style=\"white-space:pre;overflow-x:auto;line-height:normal;font-family:Menlo,'DejaVu Sans Mono',consolas,'Courier New',monospace\">Eval num_timesteps=4000, episode_reward=9.40 +/- 3.44\n",
       "</pre>\n"
      ],
      "text/plain": [
       "Eval num_timesteps=4000, episode_reward=9.40 +/- 3.44\n"
      ]
     },
     "metadata": {},
     "output_type": "display_data"
    },
    {
     "data": {
      "text/html": [
       "<pre style=\"white-space:pre;overflow-x:auto;line-height:normal;font-family:Menlo,'DejaVu Sans Mono',consolas,'Courier New',monospace\">Episode length: 26.20 +/- 19.37\n",
       "</pre>\n"
      ],
      "text/plain": [
       "Episode length: 26.20 +/- 19.37\n"
      ]
     },
     "metadata": {},
     "output_type": "display_data"
    },
    {
     "data": {
      "text/html": [
       "<pre style=\"white-space:pre;overflow-x:auto;line-height:normal;font-family:Menlo,'DejaVu Sans Mono',consolas,'Courier New',monospace\">Step: 4096 Done count: 33\n",
       "</pre>\n"
      ],
      "text/plain": [
       "Step: 4096 Done count: 33\n"
      ]
     },
     "metadata": {},
     "output_type": "display_data"
    },
    {
     "data": {
      "text/html": [
       "<pre style=\"white-space:pre;overflow-x:auto;line-height:normal;font-family:Menlo,'DejaVu Sans Mono',consolas,'Courier New',monospace\">Step: 4608 Done count: 38\n",
       "</pre>\n"
      ],
      "text/plain": [
       "Step: 4608 Done count: 38\n"
      ]
     },
     "metadata": {},
     "output_type": "display_data"
    },
    {
     "data": {
      "text/html": [
       "<pre style=\"white-space:pre;overflow-x:auto;line-height:normal;font-family:Menlo,'DejaVu Sans Mono',consolas,'Courier New',monospace\">Step: 5120 Done count: 41\n",
       "</pre>\n"
      ],
      "text/plain": [
       "Step: 5120 Done count: 41\n"
      ]
     },
     "metadata": {},
     "output_type": "display_data"
    },
    {
     "data": {
      "text/html": [
       "<pre style=\"white-space:pre;overflow-x:auto;line-height:normal;font-family:Menlo,'DejaVu Sans Mono',consolas,'Courier New',monospace\">Step: 5632 Done count: 45\n",
       "</pre>\n"
      ],
      "text/plain": [
       "Step: 5632 Done count: 45\n"
      ]
     },
     "metadata": {},
     "output_type": "display_data"
    },
    {
     "data": {
      "text/html": [
       "<pre style=\"white-space:pre;overflow-x:auto;line-height:normal;font-family:Menlo,'DejaVu Sans Mono',consolas,'Courier New',monospace\">Eval num_timesteps=6000, episode_reward=13.20 +/- 4.12\n",
       "</pre>\n"
      ],
      "text/plain": [
       "Eval num_timesteps=6000, episode_reward=13.20 +/- 4.12\n"
      ]
     },
     "metadata": {},
     "output_type": "display_data"
    },
    {
     "data": {
      "text/html": [
       "<pre style=\"white-space:pre;overflow-x:auto;line-height:normal;font-family:Menlo,'DejaVu Sans Mono',consolas,'Courier New',monospace\">Episode length: 36.60 +/- 24.06\n",
       "</pre>\n"
      ],
      "text/plain": [
       "Episode length: 36.60 +/- 24.06\n"
      ]
     },
     "metadata": {},
     "output_type": "display_data"
    },
    {
     "data": {
      "text/html": [
       "<pre style=\"white-space:pre;overflow-x:auto;line-height:normal;font-family:Menlo,'DejaVu Sans Mono',consolas,'Courier New',monospace\">Step: 6144 Done count: 50\n",
       "</pre>\n"
      ],
      "text/plain": [
       "Step: 6144 Done count: 50\n"
      ]
     },
     "metadata": {},
     "output_type": "display_data"
    },
    {
     "data": {
      "text/html": [
       "<pre style=\"white-space:pre;overflow-x:auto;line-height:normal;font-family:Menlo,'DejaVu Sans Mono',consolas,'Courier New',monospace\">Step: 6656 Done count: 52\n",
       "</pre>\n"
      ],
      "text/plain": [
       "Step: 6656 Done count: 52\n"
      ]
     },
     "metadata": {},
     "output_type": "display_data"
    },
    {
     "data": {
      "text/html": [
       "<pre style=\"white-space:pre;overflow-x:auto;line-height:normal;font-family:Menlo,'DejaVu Sans Mono',consolas,'Courier New',monospace\">Step: 7168 Done count: 56\n",
       "</pre>\n"
      ],
      "text/plain": [
       "Step: 7168 Done count: 56\n"
      ]
     },
     "metadata": {},
     "output_type": "display_data"
    },
    {
     "data": {
      "text/html": [
       "<pre style=\"white-space:pre;overflow-x:auto;line-height:normal;font-family:Menlo,'DejaVu Sans Mono',consolas,'Courier New',monospace\">Step: 7680 Done count: 62\n",
       "</pre>\n"
      ],
      "text/plain": [
       "Step: 7680 Done count: 62\n"
      ]
     },
     "metadata": {},
     "output_type": "display_data"
    },
    {
     "data": {
      "text/html": [
       "<pre style=\"white-space:pre;overflow-x:auto;line-height:normal;font-family:Menlo,'DejaVu Sans Mono',consolas,'Courier New',monospace\">Eval num_timesteps=8000, episode_reward=10.20 +/- 2.93\n",
       "</pre>\n"
      ],
      "text/plain": [
       "Eval num_timesteps=8000, episode_reward=10.20 +/- 2.93\n"
      ]
     },
     "metadata": {},
     "output_type": "display_data"
    },
    {
     "data": {
      "text/html": [
       "<pre style=\"white-space:pre;overflow-x:auto;line-height:normal;font-family:Menlo,'DejaVu Sans Mono',consolas,'Courier New',monospace\">Episode length: 23.20 +/- 3.49\n",
       "</pre>\n"
      ],
      "text/plain": [
       "Episode length: 23.20 +/- 3.49\n"
      ]
     },
     "metadata": {},
     "output_type": "display_data"
    },
    {
     "data": {
      "text/html": [
       "<pre style=\"white-space:pre;overflow-x:auto;line-height:normal;font-family:Menlo,'DejaVu Sans Mono',consolas,'Courier New',monospace\">Step: 8192 Done count: 68\n",
       "</pre>\n"
      ],
      "text/plain": [
       "Step: 8192 Done count: 68\n"
      ]
     },
     "metadata": {},
     "output_type": "display_data"
    },
    {
     "data": {
      "text/html": [
       "<pre style=\"white-space:pre;overflow-x:auto;line-height:normal;font-family:Menlo,'DejaVu Sans Mono',consolas,'Courier New',monospace\">Step: 8704 Done count: 74\n",
       "</pre>\n"
      ],
      "text/plain": [
       "Step: 8704 Done count: 74\n"
      ]
     },
     "metadata": {},
     "output_type": "display_data"
    },
    {
     "data": {
      "text/html": [
       "<pre style=\"white-space:pre;overflow-x:auto;line-height:normal;font-family:Menlo,'DejaVu Sans Mono',consolas,'Courier New',monospace\">Step: 9216 Done count: 79\n",
       "</pre>\n"
      ],
      "text/plain": [
       "Step: 9216 Done count: 79\n"
      ]
     },
     "metadata": {},
     "output_type": "display_data"
    },
    {
     "data": {
      "text/html": [
       "<pre style=\"white-space:pre;overflow-x:auto;line-height:normal;font-family:Menlo,'DejaVu Sans Mono',consolas,'Courier New',monospace\">Step: 9728 Done count: 84\n",
       "</pre>\n"
      ],
      "text/plain": [
       "Step: 9728 Done count: 84\n"
      ]
     },
     "metadata": {},
     "output_type": "display_data"
    },
    {
     "data": {
      "text/html": [
       "<pre style=\"white-space:pre;overflow-x:auto;line-height:normal;font-family:Menlo,'DejaVu Sans Mono',consolas,'Courier New',monospace\">Eval num_timesteps=10000, episode_reward=10.40 +/- 4.18\n",
       "</pre>\n"
      ],
      "text/plain": [
       "Eval num_timesteps=10000, episode_reward=10.40 +/- 4.18\n"
      ]
     },
     "metadata": {},
     "output_type": "display_data"
    },
    {
     "data": {
      "text/html": [
       "<pre style=\"white-space:pre;overflow-x:auto;line-height:normal;font-family:Menlo,'DejaVu Sans Mono',consolas,'Courier New',monospace\">Episode length: 22.40 +/- 8.14\n",
       "</pre>\n"
      ],
      "text/plain": [
       "Episode length: 22.40 +/- 8.14\n"
      ]
     },
     "metadata": {},
     "output_type": "display_data"
    },
    {
     "data": {
      "text/html": [
       "<pre style=\"white-space:pre;overflow-x:auto;line-height:normal;font-family:Menlo,'DejaVu Sans Mono',consolas,'Courier New',monospace\">Step: 10240 Done count: 90\n",
       "</pre>\n"
      ],
      "text/plain": [
       "Step: 10240 Done count: 90\n"
      ]
     },
     "metadata": {},
     "output_type": "display_data"
    },
    {
     "data": {
      "text/html": [
       "<pre style=\"white-space:pre;overflow-x:auto;line-height:normal;font-family:Menlo,'DejaVu Sans Mono',consolas,'Courier New',monospace\">Step: 10752 Done count: 94\n",
       "</pre>\n"
      ],
      "text/plain": [
       "Step: 10752 Done count: 94\n"
      ]
     },
     "metadata": {},
     "output_type": "display_data"
    },
    {
     "data": {
      "text/html": [
       "<pre style=\"white-space:pre;overflow-x:auto;line-height:normal;font-family:Menlo,'DejaVu Sans Mono',consolas,'Courier New',monospace\">Step: 11264 Done count: 97\n",
       "</pre>\n"
      ],
      "text/plain": [
       "Step: 11264 Done count: 97\n"
      ]
     },
     "metadata": {},
     "output_type": "display_data"
    },
    {
     "data": {
      "text/html": [
       "<pre style=\"white-space:pre;overflow-x:auto;line-height:normal;font-family:Menlo,'DejaVu Sans Mono',consolas,'Courier New',monospace\">Step: 11776 Done count: 102\n",
       "</pre>\n"
      ],
      "text/plain": [
       "Step: 11776 Done count: 102\n"
      ]
     },
     "metadata": {},
     "output_type": "display_data"
    },
    {
     "data": {
      "text/html": [
       "<pre style=\"white-space:pre;overflow-x:auto;line-height:normal;font-family:Menlo,'DejaVu Sans Mono',consolas,'Courier New',monospace\">Eval num_timesteps=12000, episode_reward=12.20 +/- 2.79\n",
       "</pre>\n"
      ],
      "text/plain": [
       "Eval num_timesteps=12000, episode_reward=12.20 +/- 2.79\n"
      ]
     },
     "metadata": {},
     "output_type": "display_data"
    },
    {
     "data": {
      "text/html": [
       "<pre style=\"white-space:pre;overflow-x:auto;line-height:normal;font-family:Menlo,'DejaVu Sans Mono',consolas,'Courier New',monospace\">Episode length: 22.80 +/- 7.25\n",
       "</pre>\n"
      ],
      "text/plain": [
       "Episode length: 22.80 +/- 7.25\n"
      ]
     },
     "metadata": {},
     "output_type": "display_data"
    },
    {
     "data": {
      "text/html": [
       "<pre style=\"white-space:pre;overflow-x:auto;line-height:normal;font-family:Menlo,'DejaVu Sans Mono',consolas,'Courier New',monospace\">Step: 12288 Done count: 105\n",
       "</pre>\n"
      ],
      "text/plain": [
       "Step: 12288 Done count: 105\n"
      ]
     },
     "metadata": {},
     "output_type": "display_data"
    },
    {
     "data": {
      "text/html": [
       "<pre style=\"white-space:pre;overflow-x:auto;line-height:normal;font-family:Menlo,'DejaVu Sans Mono',consolas,'Courier New',monospace\">Step: 12800 Done count: 111\n",
       "</pre>\n"
      ],
      "text/plain": [
       "Step: 12800 Done count: 111\n"
      ]
     },
     "metadata": {},
     "output_type": "display_data"
    },
    {
     "data": {
      "text/html": [
       "<pre style=\"white-space:pre;overflow-x:auto;line-height:normal;font-family:Menlo,'DejaVu Sans Mono',consolas,'Courier New',monospace\">Step: 13312 Done count: 114\n",
       "</pre>\n"
      ],
      "text/plain": [
       "Step: 13312 Done count: 114\n"
      ]
     },
     "metadata": {},
     "output_type": "display_data"
    },
    {
     "data": {
      "text/html": [
       "<pre style=\"white-space:pre;overflow-x:auto;line-height:normal;font-family:Menlo,'DejaVu Sans Mono',consolas,'Courier New',monospace\">Step: 13824 Done count: 117\n",
       "</pre>\n"
      ],
      "text/plain": [
       "Step: 13824 Done count: 117\n"
      ]
     },
     "metadata": {},
     "output_type": "display_data"
    },
    {
     "data": {
      "text/html": [
       "<pre style=\"white-space:pre;overflow-x:auto;line-height:normal;font-family:Menlo,'DejaVu Sans Mono',consolas,'Courier New',monospace\">Eval num_timesteps=14000, episode_reward=11.40 +/- 5.24\n",
       "</pre>\n"
      ],
      "text/plain": [
       "Eval num_timesteps=14000, episode_reward=11.40 +/- 5.24\n"
      ]
     },
     "metadata": {},
     "output_type": "display_data"
    },
    {
     "data": {
      "text/html": [
       "<pre style=\"white-space:pre;overflow-x:auto;line-height:normal;font-family:Menlo,'DejaVu Sans Mono',consolas,'Courier New',monospace\">Episode length: 21.60 +/- 9.58\n",
       "</pre>\n"
      ],
      "text/plain": [
       "Episode length: 21.60 +/- 9.58\n"
      ]
     },
     "metadata": {},
     "output_type": "display_data"
    },
    {
     "data": {
      "text/html": [
       "<pre style=\"white-space:pre;overflow-x:auto;line-height:normal;font-family:Menlo,'DejaVu Sans Mono',consolas,'Courier New',monospace\">Step: 14336 Done count: 120\n",
       "</pre>\n"
      ],
      "text/plain": [
       "Step: 14336 Done count: 120\n"
      ]
     },
     "metadata": {},
     "output_type": "display_data"
    },
    {
     "data": {
      "text/html": [
       "<pre style=\"white-space:pre;overflow-x:auto;line-height:normal;font-family:Menlo,'DejaVu Sans Mono',consolas,'Courier New',monospace\">Step: 14848 Done count: 124\n",
       "</pre>\n"
      ],
      "text/plain": [
       "Step: 14848 Done count: 124\n"
      ]
     },
     "metadata": {},
     "output_type": "display_data"
    },
    {
     "data": {
      "text/html": [
       "<pre style=\"white-space:pre;overflow-x:auto;line-height:normal;font-family:Menlo,'DejaVu Sans Mono',consolas,'Courier New',monospace\">Step: 15360 Done count: 133\n",
       "</pre>\n"
      ],
      "text/plain": [
       "Step: 15360 Done count: 133\n"
      ]
     },
     "metadata": {},
     "output_type": "display_data"
    },
    {
     "data": {
      "text/html": [
       "<pre style=\"white-space:pre;overflow-x:auto;line-height:normal;font-family:Menlo,'DejaVu Sans Mono',consolas,'Courier New',monospace\">Step: 15872 Done count: 138\n",
       "</pre>\n"
      ],
      "text/plain": [
       "Step: 15872 Done count: 138\n"
      ]
     },
     "metadata": {},
     "output_type": "display_data"
    },
    {
     "data": {
      "text/html": [
       "<pre style=\"white-space:pre;overflow-x:auto;line-height:normal;font-family:Menlo,'DejaVu Sans Mono',consolas,'Courier New',monospace\">Eval num_timesteps=16000, episode_reward=8.20 +/- 4.96\n",
       "</pre>\n"
      ],
      "text/plain": [
       "Eval num_timesteps=16000, episode_reward=8.20 +/- 4.96\n"
      ]
     },
     "metadata": {},
     "output_type": "display_data"
    },
    {
     "data": {
      "text/html": [
       "<pre style=\"white-space:pre;overflow-x:auto;line-height:normal;font-family:Menlo,'DejaVu Sans Mono',consolas,'Courier New',monospace\">Episode length: 18.00 +/- 8.02\n",
       "</pre>\n"
      ],
      "text/plain": [
       "Episode length: 18.00 +/- 8.02\n"
      ]
     },
     "metadata": {},
     "output_type": "display_data"
    },
    {
     "data": {
      "text/html": [
       "<pre style=\"white-space:pre;overflow-x:auto;line-height:normal;font-family:Menlo,'DejaVu Sans Mono',consolas,'Courier New',monospace\">Step: 16384 Done count: 146\n",
       "</pre>\n"
      ],
      "text/plain": [
       "Step: 16384 Done count: 146\n"
      ]
     },
     "metadata": {},
     "output_type": "display_data"
    },
    {
     "data": {
      "text/html": [
       "<pre style=\"white-space:pre;overflow-x:auto;line-height:normal;font-family:Menlo,'DejaVu Sans Mono',consolas,'Courier New',monospace\">Step: 16896 Done count: 149\n",
       "</pre>\n"
      ],
      "text/plain": [
       "Step: 16896 Done count: 149\n"
      ]
     },
     "metadata": {},
     "output_type": "display_data"
    },
    {
     "data": {
      "text/html": [
       "<pre style=\"white-space:pre;overflow-x:auto;line-height:normal;font-family:Menlo,'DejaVu Sans Mono',consolas,'Courier New',monospace\">Step: 17408 Done count: 156\n",
       "</pre>\n"
      ],
      "text/plain": [
       "Step: 17408 Done count: 156\n"
      ]
     },
     "metadata": {},
     "output_type": "display_data"
    },
    {
     "data": {
      "text/html": [
       "<pre style=\"white-space:pre;overflow-x:auto;line-height:normal;font-family:Menlo,'DejaVu Sans Mono',consolas,'Courier New',monospace\">Step: 17920 Done count: 159\n",
       "</pre>\n"
      ],
      "text/plain": [
       "Step: 17920 Done count: 159\n"
      ]
     },
     "metadata": {},
     "output_type": "display_data"
    },
    {
     "data": {
      "text/html": [
       "<pre style=\"white-space:pre;overflow-x:auto;line-height:normal;font-family:Menlo,'DejaVu Sans Mono',consolas,'Courier New',monospace\">Eval num_timesteps=18000, episode_reward=17.60 +/- 4.27\n",
       "</pre>\n"
      ],
      "text/plain": [
       "Eval num_timesteps=18000, episode_reward=17.60 +/- 4.27\n"
      ]
     },
     "metadata": {},
     "output_type": "display_data"
    },
    {
     "data": {
      "text/html": [
       "<pre style=\"white-space:pre;overflow-x:auto;line-height:normal;font-family:Menlo,'DejaVu Sans Mono',consolas,'Courier New',monospace\">Episode length: 39.60 +/- 18.07\n",
       "</pre>\n"
      ],
      "text/plain": [
       "Episode length: 39.60 +/- 18.07\n"
      ]
     },
     "metadata": {},
     "output_type": "display_data"
    },
    {
     "data": {
      "text/html": [
       "<pre style=\"white-space:pre;overflow-x:auto;line-height:normal;font-family:Menlo,'DejaVu Sans Mono',consolas,'Courier New',monospace\">New best mean reward!\n",
       "</pre>\n"
      ],
      "text/plain": [
       "New best mean reward!\n"
      ]
     },
     "metadata": {},
     "output_type": "display_data"
    },
    {
     "data": {
      "text/html": [
       "<pre style=\"white-space:pre;overflow-x:auto;line-height:normal;font-family:Menlo,'DejaVu Sans Mono',consolas,'Courier New',monospace\">Step: 18432 Done count: 163\n",
       "</pre>\n"
      ],
      "text/plain": [
       "Step: 18432 Done count: 163\n"
      ]
     },
     "metadata": {},
     "output_type": "display_data"
    },
    {
     "data": {
      "text/html": [
       "<pre style=\"white-space:pre;overflow-x:auto;line-height:normal;font-family:Menlo,'DejaVu Sans Mono',consolas,'Courier New',monospace\">Step: 18944 Done count: 167\n",
       "</pre>\n"
      ],
      "text/plain": [
       "Step: 18944 Done count: 167\n"
      ]
     },
     "metadata": {},
     "output_type": "display_data"
    },
    {
     "data": {
      "text/html": [
       "<pre style=\"white-space:pre;overflow-x:auto;line-height:normal;font-family:Menlo,'DejaVu Sans Mono',consolas,'Courier New',monospace\">Step: 19456 Done count: 170\n",
       "</pre>\n"
      ],
      "text/plain": [
       "Step: 19456 Done count: 170\n"
      ]
     },
     "metadata": {},
     "output_type": "display_data"
    },
    {
     "data": {
      "text/html": [
       "<pre style=\"white-space:pre;overflow-x:auto;line-height:normal;font-family:Menlo,'DejaVu Sans Mono',consolas,'Courier New',monospace\">Step: 19968 Done count: 174\n",
       "</pre>\n"
      ],
      "text/plain": [
       "Step: 19968 Done count: 174\n"
      ]
     },
     "metadata": {},
     "output_type": "display_data"
    },
    {
     "data": {
      "text/html": [
       "<pre style=\"white-space:pre;overflow-x:auto;line-height:normal;font-family:Menlo,'DejaVu Sans Mono',consolas,'Courier New',monospace\">Eval num_timesteps=20000, episode_reward=14.00 +/- 4.05\n",
       "</pre>\n"
      ],
      "text/plain": [
       "Eval num_timesteps=20000, episode_reward=14.00 +/- 4.05\n"
      ]
     },
     "metadata": {},
     "output_type": "display_data"
    },
    {
     "data": {
      "text/html": [
       "<pre style=\"white-space:pre;overflow-x:auto;line-height:normal;font-family:Menlo,'DejaVu Sans Mono',consolas,'Courier New',monospace\">Episode length: 26.20 +/- 6.62\n",
       "</pre>\n"
      ],
      "text/plain": [
       "Episode length: 26.20 +/- 6.62\n"
      ]
     },
     "metadata": {},
     "output_type": "display_data"
    },
    {
     "data": {
      "text/html": [
       "<pre style=\"white-space:pre;overflow-x:auto;line-height:normal;font-family:Menlo,'DejaVu Sans Mono',consolas,'Courier New',monospace\">Step: 20480 Done count: 178\n",
       "</pre>\n"
      ],
      "text/plain": [
       "Step: 20480 Done count: 178\n"
      ]
     },
     "metadata": {},
     "output_type": "display_data"
    },
    {
     "data": {
      "text/html": [
       "<pre style=\"white-space:pre;overflow-x:auto;line-height:normal;font-family:Menlo,'DejaVu Sans Mono',consolas,'Courier New',monospace\">Step: 20992 Done count: 182\n",
       "</pre>\n"
      ],
      "text/plain": [
       "Step: 20992 Done count: 182\n"
      ]
     },
     "metadata": {},
     "output_type": "display_data"
    },
    {
     "data": {
      "text/html": [
       "<pre style=\"white-space:pre;overflow-x:auto;line-height:normal;font-family:Menlo,'DejaVu Sans Mono',consolas,'Courier New',monospace\">Step: 21504 Done count: 187\n",
       "</pre>\n"
      ],
      "text/plain": [
       "Step: 21504 Done count: 187\n"
      ]
     },
     "metadata": {},
     "output_type": "display_data"
    },
    {
     "data": {
      "text/html": [
       "<pre style=\"white-space:pre;overflow-x:auto;line-height:normal;font-family:Menlo,'DejaVu Sans Mono',consolas,'Courier New',monospace\">Eval num_timesteps=22000, episode_reward=12.20 +/- 4.12\n",
       "</pre>\n"
      ],
      "text/plain": [
       "Eval num_timesteps=22000, episode_reward=12.20 +/- 4.12\n"
      ]
     },
     "metadata": {},
     "output_type": "display_data"
    },
    {
     "data": {
      "text/html": [
       "<pre style=\"white-space:pre;overflow-x:auto;line-height:normal;font-family:Menlo,'DejaVu Sans Mono',consolas,'Courier New',monospace\">Episode length: 23.20 +/- 10.59\n",
       "</pre>\n"
      ],
      "text/plain": [
       "Episode length: 23.20 +/- 10.59\n"
      ]
     },
     "metadata": {},
     "output_type": "display_data"
    },
    {
     "data": {
      "text/html": [
       "<pre style=\"white-space:pre;overflow-x:auto;line-height:normal;font-family:Menlo,'DejaVu Sans Mono',consolas,'Courier New',monospace\">Step: 22016 Done count: 192\n",
       "</pre>\n"
      ],
      "text/plain": [
       "Step: 22016 Done count: 192\n"
      ]
     },
     "metadata": {},
     "output_type": "display_data"
    },
    {
     "data": {
      "text/html": [
       "<pre style=\"white-space:pre;overflow-x:auto;line-height:normal;font-family:Menlo,'DejaVu Sans Mono',consolas,'Courier New',monospace\">Step: 22528 Done count: 198\n",
       "</pre>\n"
      ],
      "text/plain": [
       "Step: 22528 Done count: 198\n"
      ]
     },
     "metadata": {},
     "output_type": "display_data"
    },
    {
     "data": {
      "text/html": [
       "<pre style=\"white-space:pre;overflow-x:auto;line-height:normal;font-family:Menlo,'DejaVu Sans Mono',consolas,'Courier New',monospace\">Step: 23040 Done count: 203\n",
       "</pre>\n"
      ],
      "text/plain": [
       "Step: 23040 Done count: 203\n"
      ]
     },
     "metadata": {},
     "output_type": "display_data"
    },
    {
     "data": {
      "text/html": [
       "<pre style=\"white-space:pre;overflow-x:auto;line-height:normal;font-family:Menlo,'DejaVu Sans Mono',consolas,'Courier New',monospace\">Step: 23552 Done count: 208\n",
       "</pre>\n"
      ],
      "text/plain": [
       "Step: 23552 Done count: 208\n"
      ]
     },
     "metadata": {},
     "output_type": "display_data"
    },
    {
     "data": {
      "text/html": [
       "<pre style=\"white-space:pre;overflow-x:auto;line-height:normal;font-family:Menlo,'DejaVu Sans Mono',consolas,'Courier New',monospace\">Eval num_timesteps=24000, episode_reward=13.60 +/- 3.07\n",
       "</pre>\n"
      ],
      "text/plain": [
       "Eval num_timesteps=24000, episode_reward=13.60 +/- 3.07\n"
      ]
     },
     "metadata": {},
     "output_type": "display_data"
    },
    {
     "data": {
      "text/html": [
       "<pre style=\"white-space:pre;overflow-x:auto;line-height:normal;font-family:Menlo,'DejaVu Sans Mono',consolas,'Courier New',monospace\">Episode length: 25.00 +/- 5.76\n",
       "</pre>\n"
      ],
      "text/plain": [
       "Episode length: 25.00 +/- 5.76\n"
      ]
     },
     "metadata": {},
     "output_type": "display_data"
    },
    {
     "data": {
      "text/html": [
       "<pre style=\"white-space:pre;overflow-x:auto;line-height:normal;font-family:Menlo,'DejaVu Sans Mono',consolas,'Courier New',monospace\">Step: 24064 Done count: 212\n",
       "</pre>\n"
      ],
      "text/plain": [
       "Step: 24064 Done count: 212\n"
      ]
     },
     "metadata": {},
     "output_type": "display_data"
    },
    {
     "data": {
      "text/html": [
       "<pre style=\"white-space:pre;overflow-x:auto;line-height:normal;font-family:Menlo,'DejaVu Sans Mono',consolas,'Courier New',monospace\">Step: 24576 Done count: 216\n",
       "</pre>\n"
      ],
      "text/plain": [
       "Step: 24576 Done count: 216\n"
      ]
     },
     "metadata": {},
     "output_type": "display_data"
    },
    {
     "data": {
      "text/html": [
       "<pre style=\"white-space:pre;overflow-x:auto;line-height:normal;font-family:Menlo,'DejaVu Sans Mono',consolas,'Courier New',monospace\">Step: 25088 Done count: 221\n",
       "</pre>\n"
      ],
      "text/plain": [
       "Step: 25088 Done count: 221\n"
      ]
     },
     "metadata": {},
     "output_type": "display_data"
    },
    {
     "data": {
      "text/html": [
       "<pre style=\"white-space:pre;overflow-x:auto;line-height:normal;font-family:Menlo,'DejaVu Sans Mono',consolas,'Courier New',monospace\">Step: 25600 Done count: 223\n",
       "</pre>\n"
      ],
      "text/plain": [
       "Step: 25600 Done count: 223\n"
      ]
     },
     "metadata": {},
     "output_type": "display_data"
    },
    {
     "data": {
      "text/html": [
       "<pre style=\"white-space:pre;overflow-x:auto;line-height:normal;font-family:Menlo,'DejaVu Sans Mono',consolas,'Courier New',monospace\">Eval num_timesteps=26000, episode_reward=10.60 +/- 3.14\n",
       "</pre>\n"
      ],
      "text/plain": [
       "Eval num_timesteps=26000, episode_reward=10.60 +/- 3.14\n"
      ]
     },
     "metadata": {},
     "output_type": "display_data"
    },
    {
     "data": {
      "text/html": [
       "<pre style=\"white-space:pre;overflow-x:auto;line-height:normal;font-family:Menlo,'DejaVu Sans Mono',consolas,'Courier New',monospace\">Episode length: 19.60 +/- 7.55\n",
       "</pre>\n"
      ],
      "text/plain": [
       "Episode length: 19.60 +/- 7.55\n"
      ]
     },
     "metadata": {},
     "output_type": "display_data"
    },
    {
     "data": {
      "text/html": [
       "<pre style=\"white-space:pre;overflow-x:auto;line-height:normal;font-family:Menlo,'DejaVu Sans Mono',consolas,'Courier New',monospace\">Step: 26112 Done count: 229\n",
       "</pre>\n"
      ],
      "text/plain": [
       "Step: 26112 Done count: 229\n"
      ]
     },
     "metadata": {},
     "output_type": "display_data"
    },
    {
     "data": {
      "text/html": [
       "<pre style=\"white-space:pre;overflow-x:auto;line-height:normal;font-family:Menlo,'DejaVu Sans Mono',consolas,'Courier New',monospace\">Step: 26624 Done count: 236\n",
       "</pre>\n"
      ],
      "text/plain": [
       "Step: 26624 Done count: 236\n"
      ]
     },
     "metadata": {},
     "output_type": "display_data"
    },
    {
     "data": {
      "text/html": [
       "<pre style=\"white-space:pre;overflow-x:auto;line-height:normal;font-family:Menlo,'DejaVu Sans Mono',consolas,'Courier New',monospace\"></pre>\n"
      ],
      "text/plain": []
     },
     "metadata": {},
     "output_type": "display_data"
    },
    {
     "data": {
      "text/html": [
       "<pre style=\"white-space:pre;overflow-x:auto;line-height:normal;font-family:Menlo,'DejaVu Sans Mono',consolas,'Courier New',monospace\">\n",
       "</pre>\n"
      ],
      "text/plain": [
       "\n"
      ]
     },
     "metadata": {},
     "output_type": "display_data"
    },
    {
     "name": "stderr",
     "output_type": "stream",
     "text": [
      "[I 2024-04-25 16:12:57,361] Trial 29 finished with value: 17.6 and parameters: {'n_steps': 417.10382828176597, 'gamma': 0.99, 'learning_rate': 2.111541073383337e-05, 'ent_coef': 2.827020910421531e-05, 'clip_range': 0.2751309421738334, 'n_epochs': 3.644051417068777}. Best is trial 17 with value: 42.6.\n"
     ]
    },
    {
     "name": "stdout",
     "output_type": "stream",
     "text": [
      "Number of finished trials:  30\n",
      "Best trial:\n",
      "  Value:  42.6\n",
      "  Params: \n",
      "    n_steps: 1298.0336974151803\n",
      "    gamma: 0.98\n",
      "    learning_rate: 0.0001291858786170927\n",
      "    ent_coef: 0.0016824274086785702\n",
      "    clip_range: 0.19565974040447376\n",
      "    n_epochs: 1.2218276926103449\n"
     ]
    }
   ],
   "source": [
    "def optimize_ppo(trial):\n",
    "    \"\"\" Learning hyperparameters we want to optimise\"\"\"\n",
    "    return {\n",
    "        'n_steps': int(trial.suggest_loguniform('n_steps', 32, 2048)),\n",
    "        'gamma': trial.suggest_categorical('gamma', [0.9, 0.95, 0.98, 0.99, 0.999, 0.9999]),\n",
    "        'learning_rate': trial.suggest_loguniform('learning_rate', 1e-5, 1e-2),\n",
    "        'ent_coef': trial.suggest_loguniform('ent_coef', 0.00000001, 0.1),\n",
    "        'clip_range': trial.suggest_uniform('clip_range', 0.1, 0.4),\n",
    "        'n_epochs': int(trial.suggest_loguniform('n_epochs', 1, 10)),\n",
    "    }\n",
    "\n",
    "def objective(trial):\n",
    "    \"\"\" Objective function for optimization \"\"\"\n",
    "    env = make_vec_env(env_id, n_envs=num_cpu,env_kwargs={\"config\":config})\n",
    "    log_dir = \"logs\"\n",
    "    model = PPO('CnnPolicy', env, verbose=0,tensorboard_log=log_dir,**optimize_ppo(trial))\n",
    "\n",
    "    callback = DoneCallback(check_freq=128, save_freq=5000, save_path=\"./models/hypertuning_\")\n",
    "\n",
    "    # Create an evaluation environment\n",
    "    eval_env = make_vec_env(env_id, n_envs=1,env_kwargs={\"config\":config})\n",
    "\n",
    "    # Create the evaluation callback\n",
    "    eval_callback = EvalCallback(eval_env, best_model_save_path='./logs/',\n",
    "                                 log_path='./logs/', eval_freq=500,\n",
    "                                 deterministic=True, render=False)\n",
    "\n",
    "    # Train the model, passing both the training and evaluation callbacks\n",
    "    model.learn(total_timesteps=512*50, callback=[callback, eval_callback], progress_bar=True)\n",
    "\n",
    "    # Retrieve the best reward\n",
    "    best_reward = eval_callback.best_mean_reward\n",
    "    return best_reward\n",
    "\n",
    "study = optuna.create_study(direction=\"maximize\")\n",
    "study.optimize(objective, n_trials=30)\n",
    "\n",
    "print(\"Number of finished trials: \", len(study.trials))\n",
    "print(\"Best trial:\")\n",
    "trial = study.best_trial\n",
    "\n",
    "print(\"  Value: \", trial.value)\n",
    "print(\"  Params: \")\n",
    "for key, value in trial.params.items():\n",
    "    print(\"    {}: {}\".format(key, value))"
   ]
  },
  {
   "cell_type": "code",
   "execution_count": 30,
   "metadata": {},
   "outputs": [
    {
     "data": {
      "text/plain": [
       "{'observation': {'type': 'Kinematics',\n",
       "  'vehicles_count': 15,\n",
       "  'features': ['presence', 'x', 'y', 'vx', 'vy', 'cos_h', 'sin_h'],\n",
       "  'features_range': {'x': [-100, 100],\n",
       "   'y': [-100, 100],\n",
       "   'vx': [-20, 20],\n",
       "   'vy': [-20, 20]},\n",
       "  'absolute': True,\n",
       "  'flatten': False,\n",
       "  'observe_intentions': False},\n",
       " 'action': {'type': 'DiscreteMetaAction',\n",
       "  'longitudinal': True,\n",
       "  'lateral': False,\n",
       "  'target_speeds': [0, 4.5, 9]},\n",
       " 'simulation_frequency': 15,\n",
       " 'policy_frequency': 1,\n",
       " 'other_vehicles_type': 'highway_env.vehicle.behavior.IDMVehicle',\n",
       " 'screen_width': 600,\n",
       " 'screen_height': 600,\n",
       " 'centering_position': [0.5, 0.6],\n",
       " 'scaling': 7.15,\n",
       " 'show_trajectories': False,\n",
       " 'render_agent': True,\n",
       " 'offscreen_rendering': False,\n",
       " 'manual_control': False,\n",
       " 'real_time_rendering': False,\n",
       " 'duration': 13,\n",
       " 'destination': 'o1',\n",
       " 'controlled_vehicles': 1,\n",
       " 'initial_vehicle_count': 10,\n",
       " 'spawn_probability': 0.6,\n",
       " 'collision_reward': -5,\n",
       " 'high_speed_reward': 1,\n",
       " 'arrived_reward': 1,\n",
       " 'reward_speed_range': [7.0, 9.0],\n",
       " 'normalize_reward': False,\n",
       " 'offroad_terminal': False}"
      ]
     },
     "execution_count": 30,
     "metadata": {},
     "output_type": "execute_result"
    }
   ],
   "source": [
    "from highway_env.envs import IntersectionEnv\n",
    "\n",
    "IntersectionEnv.default_config()"
   ]
  },
  {
   "cell_type": "code",
   "execution_count": null,
   "metadata": {},
   "outputs": [],
   "source": []
  },
  {
   "cell_type": "markdown",
   "metadata": {},
   "source": [
    "Best trial:\n",
    "  Value:  42.6\n",
    "  Params: \n",
    "    n_steps: 1298.0336974151803\n",
    "    gamma: 0.98\n",
    "    learning_rate: 0.0001291858786170927\n",
    "    ent_coef: 0.0016824274086785702\n",
    "    clip_range: 0.19565974040447376\n",
    "    n_epochs: 1.2218276926103449"
   ]
  }
 ],
 "metadata": {
  "kernelspec": {
   "display_name": "Python 3",
   "language": "python",
   "name": "python3"
  },
  "language_info": {
   "codemirror_mode": {
    "name": "ipython",
    "version": 3
   },
   "file_extension": ".py",
   "mimetype": "text/x-python",
   "name": "python",
   "nbconvert_exporter": "python",
   "pygments_lexer": "ipython3",
   "version": "3.11.7"
  }
 },
 "nbformat": 4,
 "nbformat_minor": 2
}
