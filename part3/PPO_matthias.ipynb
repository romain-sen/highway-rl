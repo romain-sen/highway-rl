{
 "cells": [
  {
   "cell_type": "code",
   "execution_count": 3,
   "metadata": {},
   "outputs": [],
   "source": [
    "import gymnasium as gym\n",
    "from stable_baselines3 import PPO,DQN\n",
    "from config import config\n",
    "from stable_baselines3.common.utils import set_random_seed\n",
    "from stable_baselines3.common.env_util import make_vec_env\n",
    "from stable_baselines3.common.evaluation import evaluate_policy\n",
    "from stable_baselines3.common.callbacks import BaseCallback\n",
    "\n",
    "env_id = \"intersection-v0\"\n",
    "num_cpu = 4\n",
    "env = make_vec_env(env_id, n_envs=num_cpu,env_kwargs={\"config\":config})\n",
    "log_dir = \"logs\""
   ]
  },
  {
   "cell_type": "code",
   "execution_count": 3,
   "metadata": {},
   "outputs": [
    {
     "name": "stdout",
     "output_type": "stream",
     "text": [
      "Using cpu device\n"
     ]
    },
    {
     "name": "stderr",
     "output_type": "stream",
     "text": [
      "c:\\Users\\matth\\AppData\\Local\\Programs\\Python\\Python311\\Lib\\site-packages\\transformers\\utils\\generic.py:441: UserWarning: torch.utils._pytree._register_pytree_node is deprecated. Please use torch.utils._pytree.register_pytree_node instead.\n",
      "  _torch_pytree._register_pytree_node(\n"
     ]
    }
   ],
   "source": [
    "ppo_params = { # paramètres de base choisis\n",
    "    \"n_steps\": 64,\n",
    "    \"ent_coef\": 0.01,\n",
    "    \"learning_rate\": 0.00025,\n",
    "    \"batch_size\": 64,\n",
    "    'tensorboard_log':log_dir\n",
    "}\n",
    "\n",
    "ppo_optuna = { # meilleurs paramètres trouvés par optuna\n",
    "    \"n_steps\": 1298,\n",
    "    \"gamma\": 0.98,\n",
    "    \"learning_rate\": 0.0001291858786170927,\n",
    "    \"ent_coef\": 0.0016824274086785702,\n",
    "    \"clip_range\": 0.19565974040447376,\n",
    "    \"n_epochs\": 1,\n",
    "    'tensorboard_log':log_dir\n",
    "    }\n",
    "\n",
    "ppo_optuna_modif = { #modifiation des paramètres optuna ( batch_size = 128, n_epochs = 3)\n",
    "    \"n_steps\": 1024,\n",
    "    \"gamma\": 0.98,\n",
    "    \"learning_rate\": 0.0001291858786170927,\n",
    "    \"ent_coef\": 0.0016824274086785702,\n",
    "    \"clip_range\": 0.19565974040447376,\n",
    "    \"n_epochs\": 3,\n",
    "    \"batch_size\": 128,\n",
    "    'tensorboard_log':log_dir\n",
    "    }\n",
    "\n",
    "model = PPO('CnnPolicy',env, verbose=1,**ppo_optuna_modif)\n",
    "# model = PPO.load(\"test_PPO_intersection_matthias5\")"
   ]
  },
  {
   "cell_type": "code",
   "execution_count": 4,
   "metadata": {},
   "outputs": [
    {
     "name": "stderr",
     "output_type": "stream",
     "text": [
      "c:\\Users\\matth\\AppData\\Local\\Programs\\Python\\Python311\\Lib\\site-packages\\gymnasium\\envs\\registration.py:513: DeprecationWarning: \u001b[33mWARN: The environment intersection-v0 is out of date. You should consider upgrading to version `v1`.\u001b[0m\n",
      "  logger.deprecation(\n",
      "c:\\Users\\matth\\AppData\\Local\\Programs\\Python\\Python311\\Lib\\site-packages\\stable_baselines3\\common\\evaluation.py:67: UserWarning: Evaluation environment is not wrapped with a ``Monitor`` wrapper. This may result in reporting modified episode lengths and rewards, if other wrappers happen to modify these. Consider wrapping environment first with ``Monitor`` wrapper.\n",
      "  warnings.warn(\n"
     ]
    },
    {
     "name": "stdout",
     "output_type": "stream",
     "text": [
      "Mean reward: 16.0 +/- 6.93\n"
     ]
    }
   ],
   "source": [
    "# Création et évaluation d'un agent sur une policy non-entraîné\n",
    "\n",
    "eval_env = gym.make(env_id, render_mode=\"rgb_array\",config=config)\n",
    "mean_reward, std_reward = evaluate_policy(model, eval_env, n_eval_episodes=10)\n",
    "print(f\"Mean reward: {mean_reward} +/- {std_reward:.2f}\")"
   ]
  },
  {
   "cell_type": "code",
   "execution_count": 4,
   "metadata": {},
   "outputs": [],
   "source": [
    "class DoneCallback(BaseCallback):\n",
    "    \"\"\"Save model every save_freq calls and print done count every check_freq calls\n",
    "    \"\"\"\n",
    "    def __init__(self, check_freq: int, save_freq: int, save_path: str, verbose=1):\n",
    "        super(DoneCallback, self).__init__(verbose)\n",
    "        self.check_freq = check_freq\n",
    "        self.save_freq = save_freq \n",
    "        self.save_path = save_path\n",
    "        self.done_count = 0\n",
    "\n",
    "    def _on_step(self) -> bool:\n",
    "        if 'done' in self.locals.keys():\n",
    "            if self.locals['done']:\n",
    "                self.done_count += 1\n",
    "\n",
    "        if self.n_calls % self.check_freq == 0:\n",
    "            print(f\"Step: {self.num_timesteps} Done count: {self.done_count}\")\n",
    "\n",
    "        if self.n_calls % self.save_freq == 0:\n",
    "            self.model.save(self.save_path + str(self.num_timesteps))\n",
    "\n",
    "        return True"
   ]
  },
  {
   "cell_type": "code",
   "execution_count": null,
   "metadata": {},
   "outputs": [],
   "source": [
    "callback = DoneCallback(check_freq=128, save_freq=2500, save_path=\"./models/ppo_cnn_modif\")\n",
    "# model.set_env(env)\n",
    "model.learn(total_timesteps=512*1000,callback=callback, progress_bar=True)\n",
    "model.save(\"test_PPO_intersection_matthias\")"
   ]
  },
  {
   "cell_type": "code",
   "execution_count": 9,
   "metadata": {},
   "outputs": [
    {
     "name": "stdout",
     "output_type": "stream",
     "text": [
      "Mean reward: 11.4 +/- 8.69\n"
     ]
    }
   ],
   "source": [
    "# Evaluate the trained agent\n",
    "mean_reward, std_reward = evaluate_policy(model, eval_env, n_eval_episodes=10)\n",
    "print(f\"Mean reward: {mean_reward} +/- {std_reward:.2f}\")"
   ]
  },
  {
   "cell_type": "code",
   "execution_count": null,
   "metadata": {},
   "outputs": [],
   "source": [
    "%matplotlib inline\n",
    "import matplotlib.pyplot as plt\n",
    "\n",
    "# Visualize the trained agent in the simulation\n",
    "while True:\n",
    "  done = truncated = False\n",
    "  obs, info = eval_env.reset()\n",
    "  while not (done or truncated):\n",
    "    action, _states = model.predict(obs, deterministic=True)\n",
    "    obs, reward, done, truncated, info = eval_env.step(action)\n",
    "    eval_env.render()"
   ]
  }
 ],
 "metadata": {
  "kernelspec": {
   "display_name": "Python 3",
   "language": "python",
   "name": "python3"
  },
  "language_info": {
   "codemirror_mode": {
    "name": "ipython",
    "version": 3
   },
   "file_extension": ".py",
   "mimetype": "text/x-python",
   "name": "python",
   "nbconvert_exporter": "python",
   "pygments_lexer": "ipython3",
   "version": "3.11.7"
  }
 },
 "nbformat": 4,
 "nbformat_minor": 2
}
