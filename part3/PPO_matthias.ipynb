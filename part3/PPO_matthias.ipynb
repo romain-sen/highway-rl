{
 "cells": [
  {
   "cell_type": "code",
   "execution_count": 1,
   "metadata": {},
   "outputs": [
    {
     "name": "stdout",
     "output_type": "stream",
     "text": [
      "WARNING:tensorflow:From c:\\Users\\matth\\AppData\\Local\\Programs\\Python\\Python311\\Lib\\site-packages\\keras\\src\\losses.py:2976: The name tf.losses.sparse_softmax_cross_entropy is deprecated. Please use tf.compat.v1.losses.sparse_softmax_cross_entropy instead.\n",
      "\n"
     ]
    },
    {
     "name": "stderr",
     "output_type": "stream",
     "text": [
      "c:\\Users\\matth\\AppData\\Local\\Programs\\Python\\Python311\\Lib\\site-packages\\gymnasium\\envs\\registration.py:513: DeprecationWarning: \u001b[33mWARN: The environment intersection-v0 is out of date. You should consider upgrading to version `v1`.\u001b[0m\n",
      "  logger.deprecation(\n"
     ]
    }
   ],
   "source": [
    "import gymnasium as gym\n",
    "from stable_baselines3 import PPO\n",
    "from config import config\n",
    "from stable_baselines3.common.utils import set_random_seed\n",
    "from stable_baselines3.common.vec_env import DummyVecEnv, SubprocVecEnv\n",
    "from stable_baselines3.common.env_util import make_vec_env\n",
    "from stable_baselines3.common.evaluation import evaluate_policy\n",
    "from stable_baselines3.common.callbacks import BaseCallback\n",
    "import stable_baselines3\n",
    "from config2 import config2\n",
    "\n",
    "%load_ext tensorboard\n",
    "import sys\n",
    "from tqdm.notebook import trange\n",
    "# from utils import record_videos, show_videos\n",
    "env_id = \"intersection-v0\"#\"racetrack-v0\"\n",
    "num_cpu = 4\n",
    "# env = gym.make(env_id, render_mode=\"rgb_array\", config=config\n",
    "            #    )\n",
    "# env.unwrapped.configure(config)\n",
    "env = make_vec_env(env_id, n_envs=num_cpu,env_kwargs={\"config\":config})\n",
    "\n",
    "log_dir = \"logs\""
   ]
  },
  {
   "cell_type": "code",
   "execution_count": 2,
   "metadata": {},
   "outputs": [
    {
     "data": {
      "text/plain": [
       "{'observation': {'type': 'GrayscaleObservation',\n",
       "  'observation_shape': (64, 64),\n",
       "  'stack_size': 4,\n",
       "  'weights': [0.2989, 0.587, 0.114],\n",
       "  'scaling': 1.75},\n",
       " 'action': {'type': 'ContinuousAction', 'longitudinal': True, 'lateral': True},\n",
       " 'duration': 13,\n",
       " 'destination': 'o1',\n",
       " 'initial_vehicle_count': 150,\n",
       " 'spawn_probability': 0.7,\n",
       " 'screen_width': 600,\n",
       " 'screen_height': 600,\n",
       " 'centering_position': [0.5, 0.5],\n",
       " 'scaling': 7.15,\n",
       " 'collision_reward': -5,\n",
       " 'high_speed_reward': 0,\n",
       " 'arrived_reward': 3,\n",
       " 'normalize_reward': False,\n",
       " 'simulation_frequency': 15,\n",
       " 'policy_frequency': 5,\n",
       " 'offroad_terminal': False}"
      ]
     },
     "execution_count": 2,
     "metadata": {},
     "output_type": "execute_result"
    }
   ],
   "source": [
    "config"
   ]
  },
  {
   "cell_type": "code",
   "execution_count": null,
   "metadata": {},
   "outputs": [],
   "source": [
    "%tensorboard --logdir=part3/logs/"
   ]
  },
  {
   "cell_type": "code",
   "execution_count": 3,
   "metadata": {},
   "outputs": [
    {
     "name": "stdout",
     "output_type": "stream",
     "text": [
      "Using cpu device\n"
     ]
    },
    {
     "name": "stderr",
     "output_type": "stream",
     "text": [
      "c:\\Users\\matth\\AppData\\Local\\Programs\\Python\\Python311\\Lib\\site-packages\\transformers\\utils\\generic.py:441: UserWarning: torch.utils._pytree._register_pytree_node is deprecated. Please use torch.utils._pytree.register_pytree_node instead.\n",
      "  _torch_pytree._register_pytree_node(\n"
     ]
    }
   ],
   "source": [
    "ppo_params = {\n",
    "    \"n_steps\": 64,\n",
    "    \"ent_coef\": 0.01,\n",
    "    \"learning_rate\": 0.00025,\n",
    "    \"batch_size\": 64,\n",
    "    'tensorboard_log':log_dir\n",
    "}\n",
    "\n",
    "ppo_params2 =  {\n",
    "  \"batch_size\": 64,\n",
    "  \"n_steps\": 512,\n",
    "  \"gamma\": 0.99,\n",
    "  \"gae_lambda\": 0.95,\n",
    "  \"n_epochs\": 10,\n",
    "  # \"ent_coef\": 0.0,\n",
    "  \"ent_coef\": 0.01,\n",
    "  \"sde_sample_freq\": 4,\n",
    "  \"max_grad_norm\": 0.5,\n",
    "  \"vf_coef\": 0.5,\n",
    "  \"learning_rate\": 0.0001,\n",
    "  \"use_sde\": True,\n",
    "  \"clip_range\": 0.2,\n",
    "  'tensorboard_log':log_dir\n",
    "    \n",
    "}\n",
    "\n",
    "ppo_params3 =  {\n",
    "  \"batch_size\": 128,\n",
    "  \"n_steps\": 512,\n",
    "  \"gamma\": 0.8,\n",
    "  \"learning_rate\": 0.0005,\n",
    "  'tensorboard_log':log_dir\n",
    "    \n",
    "}\n",
    "\n",
    "ppo_optuna = {\n",
    "    \"n_steps\": 1298,\n",
    "    \"gamma\": 0.98,\n",
    "    \"learning_rate\": 0.0001291858786170927,\n",
    "    \"ent_coef\": 0.0016824274086785702,\n",
    "    \"clip_range\": 0.19565974040447376,\n",
    "    \"n_epochs\": 1,\n",
    "    'tensorboard_log':log_dir\n",
    "    }\n",
    "\n",
    "ppo_optuna_derniere_chance = {\n",
    "    \"n_steps\": 1024,\n",
    "    \"gamma\": 0.98,\n",
    "    \"learning_rate\": 0.0001291858786170927,\n",
    "    \"ent_coef\": 0.0016824274086785702,\n",
    "    \"clip_range\": 0.19565974040447376,\n",
    "    \"n_epochs\": 3,\n",
    "    \"batch_size\": 128,\n",
    "    'tensorboard_log':log_dir\n",
    "    }\n",
    "\n",
    "model = PPO('CnnPolicy',env, verbose=1,**ppo_optuna_derniere_chance)"
   ]
  },
  {
   "cell_type": "code",
   "execution_count": 12,
   "metadata": {},
   "outputs": [],
   "source": [
    "model = PPO.load(\"test_PPO_intersection_matthias5\")"
   ]
  },
  {
   "cell_type": "code",
   "execution_count": 4,
   "metadata": {},
   "outputs": [
    {
     "name": "stderr",
     "output_type": "stream",
     "text": [
      "c:\\Users\\matth\\AppData\\Local\\Programs\\Python\\Python311\\Lib\\site-packages\\gymnasium\\envs\\registration.py:513: DeprecationWarning: \u001b[33mWARN: The environment intersection-v0 is out of date. You should consider upgrading to version `v1`.\u001b[0m\n",
      "  logger.deprecation(\n",
      "c:\\Users\\matth\\AppData\\Local\\Programs\\Python\\Python311\\Lib\\site-packages\\stable_baselines3\\common\\evaluation.py:67: UserWarning: Evaluation environment is not wrapped with a ``Monitor`` wrapper. This may result in reporting modified episode lengths and rewards, if other wrappers happen to modify these. Consider wrapping environment first with ``Monitor`` wrapper.\n",
      "  warnings.warn(\n"
     ]
    },
    {
     "name": "stdout",
     "output_type": "stream",
     "text": [
      "Mean reward: -4.0 +/- 2.00\n"
     ]
    }
   ],
   "source": [
    "# We create a separate environment for evaluation\n",
    "eval_env = gym.make(env_id, render_mode=\"rgb_array\", config=config)\n",
    "\n",
    "# Random Agent, before training\n",
    "mean_reward, std_reward = evaluate_policy(model, eval_env, n_eval_episodes=10)\n",
    "print(f\"Mean reward: {mean_reward} +/- {std_reward:.2f}\")"
   ]
  },
  {
   "cell_type": "code",
   "execution_count": 5,
   "metadata": {},
   "outputs": [],
   "source": [
    "class DoneCallback(BaseCallback):\n",
    "    def __init__(self, check_freq: int, save_freq: int, save_path: str, verbose=1):\n",
    "        super(DoneCallback, self).__init__(verbose)\n",
    "        self.check_freq = check_freq\n",
    "        self.save_freq = save_freq\n",
    "        self.save_path = save_path\n",
    "        self.done_count = 0\n",
    "\n",
    "    def _on_step(self) -> bool:\n",
    "        if 'done' in self.locals.keys():\n",
    "            if self.locals['done']:\n",
    "                self.done_count += 1\n",
    "\n",
    "        if self.n_calls % self.check_freq == 0:\n",
    "            print(f\"Step: {self.num_timesteps} Done count: {self.done_count}\")\n",
    "\n",
    "        if self.n_calls % self.save_freq == 0:\n",
    "            self.model.save(self.save_path + str(self.num_timesteps))\n",
    "\n",
    "        return True"
   ]
  },
  {
   "cell_type": "code",
   "execution_count": 6,
   "metadata": {},
   "outputs": [
    {
     "name": "stdout",
     "output_type": "stream",
     "text": [
      "Logging to logs\\PPO_55\n"
     ]
    },
    {
     "data": {
      "application/vnd.jupyter.widget-view+json": {
       "model_id": "798d5d571a624509a06826c2ce35b57e",
       "version_major": 2,
       "version_minor": 0
      },
      "text/plain": [
       "Output()"
      ]
     },
     "metadata": {},
     "output_type": "display_data"
    },
    {
     "data": {
      "text/html": [
       "<pre style=\"white-space:pre;overflow-x:auto;line-height:normal;font-family:Menlo,'DejaVu Sans Mono',consolas,'Courier New',monospace\">Step: 512 Done count: 5\n",
       "</pre>\n"
      ],
      "text/plain": [
       "Step: 512 Done count: 5\n"
      ]
     },
     "metadata": {},
     "output_type": "display_data"
    },
    {
     "data": {
      "text/html": [
       "<pre style=\"white-space:pre;overflow-x:auto;line-height:normal;font-family:Menlo,'DejaVu Sans Mono',consolas,'Courier New',monospace\">Step: 1024 Done count: 10\n",
       "</pre>\n"
      ],
      "text/plain": [
       "Step: 1024 Done count: 10\n"
      ]
     },
     "metadata": {},
     "output_type": "display_data"
    },
    {
     "data": {
      "text/html": [
       "<pre style=\"white-space:pre;overflow-x:auto;line-height:normal;font-family:Menlo,'DejaVu Sans Mono',consolas,'Courier New',monospace\">Step: 1536 Done count: 15\n",
       "</pre>\n"
      ],
      "text/plain": [
       "Step: 1536 Done count: 15\n"
      ]
     },
     "metadata": {},
     "output_type": "display_data"
    },
    {
     "data": {
      "text/html": [
       "<pre style=\"white-space:pre;overflow-x:auto;line-height:normal;font-family:Menlo,'DejaVu Sans Mono',consolas,'Courier New',monospace\">Step: 2048 Done count: 22\n",
       "</pre>\n"
      ],
      "text/plain": [
       "Step: 2048 Done count: 22\n"
      ]
     },
     "metadata": {},
     "output_type": "display_data"
    },
    {
     "data": {
      "text/html": [
       "<pre style=\"white-space:pre;overflow-x:auto;line-height:normal;font-family:Menlo,'DejaVu Sans Mono',consolas,'Courier New',monospace\">Step: 2560 Done count: 25\n",
       "</pre>\n"
      ],
      "text/plain": [
       "Step: 2560 Done count: 25\n"
      ]
     },
     "metadata": {},
     "output_type": "display_data"
    },
    {
     "data": {
      "text/html": [
       "<pre style=\"white-space:pre;overflow-x:auto;line-height:normal;font-family:Menlo,'DejaVu Sans Mono',consolas,'Courier New',monospace\">Step: 3072 Done count: 29\n",
       "</pre>\n"
      ],
      "text/plain": [
       "Step: 3072 Done count: 29\n"
      ]
     },
     "metadata": {},
     "output_type": "display_data"
    },
    {
     "data": {
      "text/html": [
       "<pre style=\"white-space:pre;overflow-x:auto;line-height:normal;font-family:Menlo,'DejaVu Sans Mono',consolas,'Courier New',monospace\">Step: 3584 Done count: 32\n",
       "</pre>\n"
      ],
      "text/plain": [
       "Step: 3584 Done count: 32\n"
      ]
     },
     "metadata": {},
     "output_type": "display_data"
    },
    {
     "data": {
      "text/html": [
       "<pre style=\"white-space:pre;overflow-x:auto;line-height:normal;font-family:Menlo,'DejaVu Sans Mono',consolas,'Courier New',monospace\">Step: 4096 Done count: 36\n",
       "</pre>\n"
      ],
      "text/plain": [
       "Step: 4096 Done count: 36\n"
      ]
     },
     "metadata": {},
     "output_type": "display_data"
    },
    {
     "name": "stdout",
     "output_type": "stream",
     "text": [
      "---------------------------------\n",
      "| rollout/           |          |\n",
      "|    ep_len_mean     | 29.1     |\n",
      "|    ep_rew_mean     | -0.67    |\n",
      "| time/              |          |\n",
      "|    fps             | 6        |\n",
      "|    iterations      | 1        |\n",
      "|    time_elapsed    | 629      |\n",
      "|    total_timesteps | 4096     |\n",
      "---------------------------------\n"
     ]
    },
    {
     "data": {
      "text/html": [
       "<pre style=\"white-space:pre;overflow-x:auto;line-height:normal;font-family:Menlo,'DejaVu Sans Mono',consolas,'Courier New',monospace\">Step: 4608 Done count: 42\n",
       "</pre>\n"
      ],
      "text/plain": [
       "Step: 4608 Done count: 42\n"
      ]
     },
     "metadata": {},
     "output_type": "display_data"
    },
    {
     "data": {
      "text/html": [
       "<pre style=\"white-space:pre;overflow-x:auto;line-height:normal;font-family:Menlo,'DejaVu Sans Mono',consolas,'Courier New',monospace\">Step: 5120 Done count: 44\n",
       "</pre>\n"
      ],
      "text/plain": [
       "Step: 5120 Done count: 44\n"
      ]
     },
     "metadata": {},
     "output_type": "display_data"
    },
    {
     "data": {
      "text/html": [
       "<pre style=\"white-space:pre;overflow-x:auto;line-height:normal;font-family:Menlo,'DejaVu Sans Mono',consolas,'Courier New',monospace\">Step: 5632 Done count: 50\n",
       "</pre>\n"
      ],
      "text/plain": [
       "Step: 5632 Done count: 50\n"
      ]
     },
     "metadata": {},
     "output_type": "display_data"
    },
    {
     "data": {
      "text/html": [
       "<pre style=\"white-space:pre;overflow-x:auto;line-height:normal;font-family:Menlo,'DejaVu Sans Mono',consolas,'Courier New',monospace\">Step: 6144 Done count: 53\n",
       "</pre>\n"
      ],
      "text/plain": [
       "Step: 6144 Done count: 53\n"
      ]
     },
     "metadata": {},
     "output_type": "display_data"
    },
    {
     "data": {
      "text/html": [
       "<pre style=\"white-space:pre;overflow-x:auto;line-height:normal;font-family:Menlo,'DejaVu Sans Mono',consolas,'Courier New',monospace\">Step: 6656 Done count: 57\n",
       "</pre>\n"
      ],
      "text/plain": [
       "Step: 6656 Done count: 57\n"
      ]
     },
     "metadata": {},
     "output_type": "display_data"
    },
    {
     "data": {
      "text/html": [
       "<pre style=\"white-space:pre;overflow-x:auto;line-height:normal;font-family:Menlo,'DejaVu Sans Mono',consolas,'Courier New',monospace\">Step: 7168 Done count: 61\n",
       "</pre>\n"
      ],
      "text/plain": [
       "Step: 7168 Done count: 61\n"
      ]
     },
     "metadata": {},
     "output_type": "display_data"
    },
    {
     "data": {
      "text/html": [
       "<pre style=\"white-space:pre;overflow-x:auto;line-height:normal;font-family:Menlo,'DejaVu Sans Mono',consolas,'Courier New',monospace\">Step: 7680 Done count: 65\n",
       "</pre>\n"
      ],
      "text/plain": [
       "Step: 7680 Done count: 65\n"
      ]
     },
     "metadata": {},
     "output_type": "display_data"
    },
    {
     "data": {
      "text/html": [
       "<pre style=\"white-space:pre;overflow-x:auto;line-height:normal;font-family:Menlo,'DejaVu Sans Mono',consolas,'Courier New',monospace\">Step: 8192 Done count: 67\n",
       "</pre>\n"
      ],
      "text/plain": [
       "Step: 8192 Done count: 67\n"
      ]
     },
     "metadata": {},
     "output_type": "display_data"
    },
    {
     "name": "stdout",
     "output_type": "stream",
     "text": [
      "------------------------------------------\n",
      "| rollout/                |              |\n",
      "|    ep_len_mean          | 27.7         |\n",
      "|    ep_rew_mean          | -0.39        |\n",
      "| time/                   |              |\n",
      "|    fps                  | 6            |\n",
      "|    iterations           | 2            |\n",
      "|    time_elapsed         | 1237         |\n",
      "|    total_timesteps      | 8192         |\n",
      "| train/                  |              |\n",
      "|    approx_kl            | 0.0061827824 |\n",
      "|    clip_fraction        | 0.0714       |\n",
      "|    clip_range           | 0.196        |\n",
      "|    entropy_loss         | -2.84        |\n",
      "|    explained_variance   | -0.0163      |\n",
      "|    learning_rate        | 0.000129     |\n",
      "|    loss                 | 0.711        |\n",
      "|    n_updates            | 3            |\n",
      "|    policy_gradient_loss | -0.00632     |\n",
      "|    std                  | 0.998        |\n",
      "|    value_loss           | 1.62         |\n",
      "------------------------------------------\n"
     ]
    },
    {
     "data": {
      "text/html": [
       "<pre style=\"white-space:pre;overflow-x:auto;line-height:normal;font-family:Menlo,'DejaVu Sans Mono',consolas,'Courier New',monospace\">Step: 8704 Done count: 72\n",
       "</pre>\n"
      ],
      "text/plain": [
       "Step: 8704 Done count: 72\n"
      ]
     },
     "metadata": {},
     "output_type": "display_data"
    },
    {
     "data": {
      "text/html": [
       "<pre style=\"white-space:pre;overflow-x:auto;line-height:normal;font-family:Menlo,'DejaVu Sans Mono',consolas,'Courier New',monospace\">Step: 9216 Done count: 76\n",
       "</pre>\n"
      ],
      "text/plain": [
       "Step: 9216 Done count: 76\n"
      ]
     },
     "metadata": {},
     "output_type": "display_data"
    },
    {
     "data": {
      "text/html": [
       "<pre style=\"white-space:pre;overflow-x:auto;line-height:normal;font-family:Menlo,'DejaVu Sans Mono',consolas,'Courier New',monospace\">Step: 9728 Done count: 78\n",
       "</pre>\n"
      ],
      "text/plain": [
       "Step: 9728 Done count: 78\n"
      ]
     },
     "metadata": {},
     "output_type": "display_data"
    },
    {
     "data": {
      "text/html": [
       "<pre style=\"white-space:pre;overflow-x:auto;line-height:normal;font-family:Menlo,'DejaVu Sans Mono',consolas,'Courier New',monospace\">Step: 10240 Done count: 83\n",
       "</pre>\n"
      ],
      "text/plain": [
       "Step: 10240 Done count: 83\n"
      ]
     },
     "metadata": {},
     "output_type": "display_data"
    },
    {
     "data": {
      "text/html": [
       "<pre style=\"white-space:pre;overflow-x:auto;line-height:normal;font-family:Menlo,'DejaVu Sans Mono',consolas,'Courier New',monospace\">Step: 10752 Done count: 88\n",
       "</pre>\n"
      ],
      "text/plain": [
       "Step: 10752 Done count: 88\n"
      ]
     },
     "metadata": {},
     "output_type": "display_data"
    },
    {
     "data": {
      "text/html": [
       "<pre style=\"white-space:pre;overflow-x:auto;line-height:normal;font-family:Menlo,'DejaVu Sans Mono',consolas,'Courier New',monospace\">Step: 11264 Done count: 94\n",
       "</pre>\n"
      ],
      "text/plain": [
       "Step: 11264 Done count: 94\n"
      ]
     },
     "metadata": {},
     "output_type": "display_data"
    },
    {
     "data": {
      "text/html": [
       "<pre style=\"white-space:pre;overflow-x:auto;line-height:normal;font-family:Menlo,'DejaVu Sans Mono',consolas,'Courier New',monospace\">Step: 11776 Done count: 100\n",
       "</pre>\n"
      ],
      "text/plain": [
       "Step: 11776 Done count: 100\n"
      ]
     },
     "metadata": {},
     "output_type": "display_data"
    },
    {
     "data": {
      "text/html": [
       "<pre style=\"white-space:pre;overflow-x:auto;line-height:normal;font-family:Menlo,'DejaVu Sans Mono',consolas,'Courier New',monospace\">Step: 12288 Done count: 102\n",
       "</pre>\n"
      ],
      "text/plain": [
       "Step: 12288 Done count: 102\n"
      ]
     },
     "metadata": {},
     "output_type": "display_data"
    },
    {
     "name": "stdout",
     "output_type": "stream",
     "text": [
      "------------------------------------------\n",
      "| rollout/                |              |\n",
      "|    ep_len_mean          | 24.9         |\n",
      "|    ep_rew_mean          | 0.48         |\n",
      "| time/                   |              |\n",
      "|    fps                  | 6            |\n",
      "|    iterations           | 3            |\n",
      "|    time_elapsed         | 1855         |\n",
      "|    total_timesteps      | 12288        |\n",
      "| train/                  |              |\n",
      "|    approx_kl            | 0.0040217172 |\n",
      "|    clip_fraction        | 0.029        |\n",
      "|    clip_range           | 0.196        |\n",
      "|    entropy_loss         | -2.83        |\n",
      "|    explained_variance   | 0.187        |\n",
      "|    learning_rate        | 0.000129     |\n",
      "|    loss                 | 0.569        |\n",
      "|    n_updates            | 6            |\n",
      "|    policy_gradient_loss | -0.00493     |\n",
      "|    std                  | 0.996        |\n",
      "|    value_loss           | 1.38         |\n",
      "------------------------------------------\n"
     ]
    },
    {
     "data": {
      "text/html": [
       "<pre style=\"white-space:pre;overflow-x:auto;line-height:normal;font-family:Menlo,'DejaVu Sans Mono',consolas,'Courier New',monospace\">Step: 12800 Done count: 107\n",
       "</pre>\n"
      ],
      "text/plain": [
       "Step: 12800 Done count: 107\n"
      ]
     },
     "metadata": {},
     "output_type": "display_data"
    },
    {
     "data": {
      "text/html": [
       "<pre style=\"white-space:pre;overflow-x:auto;line-height:normal;font-family:Menlo,'DejaVu Sans Mono',consolas,'Courier New',monospace\">Step: 13312 Done count: 110\n",
       "</pre>\n"
      ],
      "text/plain": [
       "Step: 13312 Done count: 110\n"
      ]
     },
     "metadata": {},
     "output_type": "display_data"
    },
    {
     "data": {
      "text/html": [
       "<pre style=\"white-space:pre;overflow-x:auto;line-height:normal;font-family:Menlo,'DejaVu Sans Mono',consolas,'Courier New',monospace\">Step: 13824 Done count: 113\n",
       "</pre>\n"
      ],
      "text/plain": [
       "Step: 13824 Done count: 113\n"
      ]
     },
     "metadata": {},
     "output_type": "display_data"
    },
    {
     "data": {
      "text/html": [
       "<pre style=\"white-space:pre;overflow-x:auto;line-height:normal;font-family:Menlo,'DejaVu Sans Mono',consolas,'Courier New',monospace\">Step: 14336 Done count: 119\n",
       "</pre>\n"
      ],
      "text/plain": [
       "Step: 14336 Done count: 119\n"
      ]
     },
     "metadata": {},
     "output_type": "display_data"
    },
    {
     "data": {
      "text/html": [
       "<pre style=\"white-space:pre;overflow-x:auto;line-height:normal;font-family:Menlo,'DejaVu Sans Mono',consolas,'Courier New',monospace\">Step: 14848 Done count: 123\n",
       "</pre>\n"
      ],
      "text/plain": [
       "Step: 14848 Done count: 123\n"
      ]
     },
     "metadata": {},
     "output_type": "display_data"
    },
    {
     "data": {
      "text/html": [
       "<pre style=\"white-space:pre;overflow-x:auto;line-height:normal;font-family:Menlo,'DejaVu Sans Mono',consolas,'Courier New',monospace\">Step: 15360 Done count: 130\n",
       "</pre>\n"
      ],
      "text/plain": [
       "Step: 15360 Done count: 130\n"
      ]
     },
     "metadata": {},
     "output_type": "display_data"
    },
    {
     "data": {
      "text/html": [
       "<pre style=\"white-space:pre;overflow-x:auto;line-height:normal;font-family:Menlo,'DejaVu Sans Mono',consolas,'Courier New',monospace\">Step: 15872 Done count: 135\n",
       "</pre>\n"
      ],
      "text/plain": [
       "Step: 15872 Done count: 135\n"
      ]
     },
     "metadata": {},
     "output_type": "display_data"
    },
    {
     "data": {
      "text/html": [
       "<pre style=\"white-space:pre;overflow-x:auto;line-height:normal;font-family:Menlo,'DejaVu Sans Mono',consolas,'Courier New',monospace\">Step: 16384 Done count: 143\n",
       "</pre>\n"
      ],
      "text/plain": [
       "Step: 16384 Done count: 143\n"
      ]
     },
     "metadata": {},
     "output_type": "display_data"
    },
    {
     "name": "stdout",
     "output_type": "stream",
     "text": [
      "------------------------------------------\n",
      "| rollout/                |              |\n",
      "|    ep_len_mean          | 20.9         |\n",
      "|    ep_rew_mean          | 1.26         |\n",
      "| time/                   |              |\n",
      "|    fps                  | 6            |\n",
      "|    iterations           | 4            |\n",
      "|    time_elapsed         | 2500         |\n",
      "|    total_timesteps      | 16384        |\n",
      "| train/                  |              |\n",
      "|    approx_kl            | 0.0080681555 |\n",
      "|    clip_fraction        | 0.105        |\n",
      "|    clip_range           | 0.196        |\n",
      "|    entropy_loss         | -2.83        |\n",
      "|    explained_variance   | 0.19         |\n",
      "|    learning_rate        | 0.000129     |\n",
      "|    loss                 | 0.49         |\n",
      "|    n_updates            | 9            |\n",
      "|    policy_gradient_loss | -0.0129      |\n",
      "|    std                  | 0.996        |\n",
      "|    value_loss           | 1.38         |\n",
      "------------------------------------------\n"
     ]
    },
    {
     "data": {
      "text/html": [
       "<pre style=\"white-space:pre;overflow-x:auto;line-height:normal;font-family:Menlo,'DejaVu Sans Mono',consolas,'Courier New',monospace\">Step: 16896 Done count: 146\n",
       "</pre>\n"
      ],
      "text/plain": [
       "Step: 16896 Done count: 146\n"
      ]
     },
     "metadata": {},
     "output_type": "display_data"
    },
    {
     "data": {
      "text/html": [
       "<pre style=\"white-space:pre;overflow-x:auto;line-height:normal;font-family:Menlo,'DejaVu Sans Mono',consolas,'Courier New',monospace\">Step: 17408 Done count: 149\n",
       "</pre>\n"
      ],
      "text/plain": [
       "Step: 17408 Done count: 149\n"
      ]
     },
     "metadata": {},
     "output_type": "display_data"
    },
    {
     "data": {
      "text/html": [
       "<pre style=\"white-space:pre;overflow-x:auto;line-height:normal;font-family:Menlo,'DejaVu Sans Mono',consolas,'Courier New',monospace\">Step: 17920 Done count: 158\n",
       "</pre>\n"
      ],
      "text/plain": [
       "Step: 17920 Done count: 158\n"
      ]
     },
     "metadata": {},
     "output_type": "display_data"
    },
    {
     "data": {
      "text/html": [
       "<pre style=\"white-space:pre;overflow-x:auto;line-height:normal;font-family:Menlo,'DejaVu Sans Mono',consolas,'Courier New',monospace\">Step: 18432 Done count: 168\n",
       "</pre>\n"
      ],
      "text/plain": [
       "Step: 18432 Done count: 168\n"
      ]
     },
     "metadata": {},
     "output_type": "display_data"
    },
    {
     "data": {
      "text/html": [
       "<pre style=\"white-space:pre;overflow-x:auto;line-height:normal;font-family:Menlo,'DejaVu Sans Mono',consolas,'Courier New',monospace\">Step: 18944 Done count: 172\n",
       "</pre>\n"
      ],
      "text/plain": [
       "Step: 18944 Done count: 172\n"
      ]
     },
     "metadata": {},
     "output_type": "display_data"
    },
    {
     "data": {
      "text/html": [
       "<pre style=\"white-space:pre;overflow-x:auto;line-height:normal;font-family:Menlo,'DejaVu Sans Mono',consolas,'Courier New',monospace\">Step: 19456 Done count: 177\n",
       "</pre>\n"
      ],
      "text/plain": [
       "Step: 19456 Done count: 177\n"
      ]
     },
     "metadata": {},
     "output_type": "display_data"
    },
    {
     "data": {
      "text/html": [
       "<pre style=\"white-space:pre;overflow-x:auto;line-height:normal;font-family:Menlo,'DejaVu Sans Mono',consolas,'Courier New',monospace\">Step: 19968 Done count: 184\n",
       "</pre>\n"
      ],
      "text/plain": [
       "Step: 19968 Done count: 184\n"
      ]
     },
     "metadata": {},
     "output_type": "display_data"
    },
    {
     "data": {
      "text/html": [
       "<pre style=\"white-space:pre;overflow-x:auto;line-height:normal;font-family:Menlo,'DejaVu Sans Mono',consolas,'Courier New',monospace\">Step: 20480 Done count: 190\n",
       "</pre>\n"
      ],
      "text/plain": [
       "Step: 20480 Done count: 190\n"
      ]
     },
     "metadata": {},
     "output_type": "display_data"
    },
    {
     "name": "stdout",
     "output_type": "stream",
     "text": [
      "------------------------------------------\n",
      "| rollout/                |              |\n",
      "|    ep_len_mean          | 18.3         |\n",
      "|    ep_rew_mean          | 1.59         |\n",
      "| time/                   |              |\n",
      "|    fps                  | 6            |\n",
      "|    iterations           | 5            |\n",
      "|    time_elapsed         | 3170         |\n",
      "|    total_timesteps      | 20480        |\n",
      "| train/                  |              |\n",
      "|    approx_kl            | 0.0077466927 |\n",
      "|    clip_fraction        | 0.0888       |\n",
      "|    clip_range           | 0.196        |\n",
      "|    entropy_loss         | -2.83        |\n",
      "|    explained_variance   | 0.327        |\n",
      "|    learning_rate        | 0.000129     |\n",
      "|    loss                 | 0.712        |\n",
      "|    n_updates            | 12           |\n",
      "|    policy_gradient_loss | -0.0115      |\n",
      "|    std                  | 0.994        |\n",
      "|    value_loss           | 1.23         |\n",
      "------------------------------------------\n"
     ]
    },
    {
     "data": {
      "text/html": [
       "<pre style=\"white-space:pre;overflow-x:auto;line-height:normal;font-family:Menlo,'DejaVu Sans Mono',consolas,'Courier New',monospace\">Step: 20992 Done count: 198\n",
       "</pre>\n"
      ],
      "text/plain": [
       "Step: 20992 Done count: 198\n"
      ]
     },
     "metadata": {},
     "output_type": "display_data"
    },
    {
     "data": {
      "text/html": [
       "<pre style=\"white-space:pre;overflow-x:auto;line-height:normal;font-family:Menlo,'DejaVu Sans Mono',consolas,'Courier New',monospace\">Step: 21504 Done count: 207\n",
       "</pre>\n"
      ],
      "text/plain": [
       "Step: 21504 Done count: 207\n"
      ]
     },
     "metadata": {},
     "output_type": "display_data"
    },
    {
     "data": {
      "text/html": [
       "<pre style=\"white-space:pre;overflow-x:auto;line-height:normal;font-family:Menlo,'DejaVu Sans Mono',consolas,'Courier New',monospace\">Step: 22016 Done count: 214\n",
       "</pre>\n"
      ],
      "text/plain": [
       "Step: 22016 Done count: 214\n"
      ]
     },
     "metadata": {},
     "output_type": "display_data"
    },
    {
     "data": {
      "text/html": [
       "<pre style=\"white-space:pre;overflow-x:auto;line-height:normal;font-family:Menlo,'DejaVu Sans Mono',consolas,'Courier New',monospace\">Step: 22528 Done count: 222\n",
       "</pre>\n"
      ],
      "text/plain": [
       "Step: 22528 Done count: 222\n"
      ]
     },
     "metadata": {},
     "output_type": "display_data"
    },
    {
     "data": {
      "text/html": [
       "<pre style=\"white-space:pre;overflow-x:auto;line-height:normal;font-family:Menlo,'DejaVu Sans Mono',consolas,'Courier New',monospace\">Step: 23040 Done count: 230\n",
       "</pre>\n"
      ],
      "text/plain": [
       "Step: 23040 Done count: 230\n"
      ]
     },
     "metadata": {},
     "output_type": "display_data"
    },
    {
     "data": {
      "text/html": [
       "<pre style=\"white-space:pre;overflow-x:auto;line-height:normal;font-family:Menlo,'DejaVu Sans Mono',consolas,'Courier New',monospace\">Step: 23552 Done count: 244\n",
       "</pre>\n"
      ],
      "text/plain": [
       "Step: 23552 Done count: 244\n"
      ]
     },
     "metadata": {},
     "output_type": "display_data"
    },
    {
     "data": {
      "text/html": [
       "<pre style=\"white-space:pre;overflow-x:auto;line-height:normal;font-family:Menlo,'DejaVu Sans Mono',consolas,'Courier New',monospace\">Step: 24064 Done count: 255\n",
       "</pre>\n"
      ],
      "text/plain": [
       "Step: 24064 Done count: 255\n"
      ]
     },
     "metadata": {},
     "output_type": "display_data"
    },
    {
     "data": {
      "text/html": [
       "<pre style=\"white-space:pre;overflow-x:auto;line-height:normal;font-family:Menlo,'DejaVu Sans Mono',consolas,'Courier New',monospace\">Step: 24576 Done count: 266\n",
       "</pre>\n"
      ],
      "text/plain": [
       "Step: 24576 Done count: 266\n"
      ]
     },
     "metadata": {},
     "output_type": "display_data"
    },
    {
     "name": "stdout",
     "output_type": "stream",
     "text": [
      "-----------------------------------------\n",
      "| rollout/                |             |\n",
      "|    ep_len_mean          | 14.2        |\n",
      "|    ep_rew_mean          | 1.87        |\n",
      "| time/                   |             |\n",
      "|    fps                  | 6           |\n",
      "|    iterations           | 6           |\n",
      "|    time_elapsed         | 3855        |\n",
      "|    total_timesteps      | 24576       |\n",
      "| train/                  |             |\n",
      "|    approx_kl            | 0.007949725 |\n",
      "|    clip_fraction        | 0.0889      |\n",
      "|    clip_range           | 0.196       |\n",
      "|    entropy_loss         | -2.82       |\n",
      "|    explained_variance   | 0.404       |\n",
      "|    learning_rate        | 0.000129    |\n",
      "|    loss                 | 0.516       |\n",
      "|    n_updates            | 15          |\n",
      "|    policy_gradient_loss | -0.0121     |\n",
      "|    std                  | 0.991       |\n",
      "|    value_loss           | 1.16        |\n",
      "-----------------------------------------\n"
     ]
    },
    {
     "data": {
      "text/html": [
       "<pre style=\"white-space:pre;overflow-x:auto;line-height:normal;font-family:Menlo,'DejaVu Sans Mono',consolas,'Courier New',monospace\">Step: 25088 Done count: 267\n",
       "</pre>\n"
      ],
      "text/plain": [
       "Step: 25088 Done count: 267\n"
      ]
     },
     "metadata": {},
     "output_type": "display_data"
    },
    {
     "data": {
      "text/html": [
       "<pre style=\"white-space:pre;overflow-x:auto;line-height:normal;font-family:Menlo,'DejaVu Sans Mono',consolas,'Courier New',monospace\">Step: 25600 Done count: 272\n",
       "</pre>\n"
      ],
      "text/plain": [
       "Step: 25600 Done count: 272\n"
      ]
     },
     "metadata": {},
     "output_type": "display_data"
    },
    {
     "data": {
      "text/html": [
       "<pre style=\"white-space:pre;overflow-x:auto;line-height:normal;font-family:Menlo,'DejaVu Sans Mono',consolas,'Courier New',monospace\">Step: 26624 Done count: 287\n",
       "</pre>\n"
      ],
      "text/plain": [
       "Step: 26624 Done count: 287\n"
      ]
     },
     "metadata": {},
     "output_type": "display_data"
    },
    {
     "data": {
      "text/html": [
       "<pre style=\"white-space:pre;overflow-x:auto;line-height:normal;font-family:Menlo,'DejaVu Sans Mono',consolas,'Courier New',monospace\">Step: 27136 Done count: 299\n",
       "</pre>\n"
      ],
      "text/plain": [
       "Step: 27136 Done count: 299\n"
      ]
     },
     "metadata": {},
     "output_type": "display_data"
    },
    {
     "data": {
      "text/html": [
       "<pre style=\"white-space:pre;overflow-x:auto;line-height:normal;font-family:Menlo,'DejaVu Sans Mono',consolas,'Courier New',monospace\">Step: 27648 Done count: 302\n",
       "</pre>\n"
      ],
      "text/plain": [
       "Step: 27648 Done count: 302\n"
      ]
     },
     "metadata": {},
     "output_type": "display_data"
    },
    {
     "data": {
      "text/html": [
       "<pre style=\"white-space:pre;overflow-x:auto;line-height:normal;font-family:Menlo,'DejaVu Sans Mono',consolas,'Courier New',monospace\">Step: 28160 Done count: 307\n",
       "</pre>\n"
      ],
      "text/plain": [
       "Step: 28160 Done count: 307\n"
      ]
     },
     "metadata": {},
     "output_type": "display_data"
    },
    {
     "data": {
      "text/html": [
       "<pre style=\"white-space:pre;overflow-x:auto;line-height:normal;font-family:Menlo,'DejaVu Sans Mono',consolas,'Courier New',monospace\">Step: 28672 Done count: 315\n",
       "</pre>\n"
      ],
      "text/plain": [
       "Step: 28672 Done count: 315\n"
      ]
     },
     "metadata": {},
     "output_type": "display_data"
    },
    {
     "name": "stdout",
     "output_type": "stream",
     "text": [
      "-----------------------------------------\n",
      "| rollout/                |             |\n",
      "|    ep_len_mean          | 15.8        |\n",
      "|    ep_rew_mean          | 1.88        |\n",
      "| time/                   |             |\n",
      "|    fps                  | 6           |\n",
      "|    iterations           | 7           |\n",
      "|    time_elapsed         | 4542        |\n",
      "|    total_timesteps      | 28672       |\n",
      "| train/                  |             |\n",
      "|    approx_kl            | 0.008964253 |\n",
      "|    clip_fraction        | 0.138       |\n",
      "|    clip_range           | 0.196       |\n",
      "|    entropy_loss         | -2.82       |\n",
      "|    explained_variance   | 0.436       |\n",
      "|    learning_rate        | 0.000129    |\n",
      "|    loss                 | 0.472       |\n",
      "|    n_updates            | 18          |\n",
      "|    policy_gradient_loss | -0.0139     |\n",
      "|    std                  | 0.988       |\n",
      "|    value_loss           | 1.38        |\n",
      "-----------------------------------------\n"
     ]
    },
    {
     "data": {
      "text/html": [
       "<pre style=\"white-space:pre;overflow-x:auto;line-height:normal;font-family:Menlo,'DejaVu Sans Mono',consolas,'Courier New',monospace\">Step: 29184 Done count: 328\n",
       "</pre>\n"
      ],
      "text/plain": [
       "Step: 29184 Done count: 328\n"
      ]
     },
     "metadata": {},
     "output_type": "display_data"
    },
    {
     "data": {
      "text/html": [
       "<pre style=\"white-space:pre;overflow-x:auto;line-height:normal;font-family:Menlo,'DejaVu Sans Mono',consolas,'Courier New',monospace\">Step: 29696 Done count: 333\n",
       "</pre>\n"
      ],
      "text/plain": [
       "Step: 29696 Done count: 333\n"
      ]
     },
     "metadata": {},
     "output_type": "display_data"
    },
    {
     "data": {
      "text/html": [
       "<pre style=\"white-space:pre;overflow-x:auto;line-height:normal;font-family:Menlo,'DejaVu Sans Mono',consolas,'Courier New',monospace\">Step: 30208 Done count: 338\n",
       "</pre>\n"
      ],
      "text/plain": [
       "Step: 30208 Done count: 338\n"
      ]
     },
     "metadata": {},
     "output_type": "display_data"
    },
    {
     "data": {
      "text/html": [
       "<pre style=\"white-space:pre;overflow-x:auto;line-height:normal;font-family:Menlo,'DejaVu Sans Mono',consolas,'Courier New',monospace\">Step: 30720 Done count: 352\n",
       "</pre>\n"
      ],
      "text/plain": [
       "Step: 30720 Done count: 352\n"
      ]
     },
     "metadata": {},
     "output_type": "display_data"
    },
    {
     "data": {
      "text/html": [
       "<pre style=\"white-space:pre;overflow-x:auto;line-height:normal;font-family:Menlo,'DejaVu Sans Mono',consolas,'Courier New',monospace\">Step: 31232 Done count: 366\n",
       "</pre>\n"
      ],
      "text/plain": [
       "Step: 31232 Done count: 366\n"
      ]
     },
     "metadata": {},
     "output_type": "display_data"
    },
    {
     "data": {
      "text/html": [
       "<pre style=\"white-space:pre;overflow-x:auto;line-height:normal;font-family:Menlo,'DejaVu Sans Mono',consolas,'Courier New',monospace\">Step: 31744 Done count: 376\n",
       "</pre>\n"
      ],
      "text/plain": [
       "Step: 31744 Done count: 376\n"
      ]
     },
     "metadata": {},
     "output_type": "display_data"
    },
    {
     "data": {
      "text/html": [
       "<pre style=\"white-space:pre;overflow-x:auto;line-height:normal;font-family:Menlo,'DejaVu Sans Mono',consolas,'Courier New',monospace\">Step: 32256 Done count: 391\n",
       "</pre>\n"
      ],
      "text/plain": [
       "Step: 32256 Done count: 391\n"
      ]
     },
     "metadata": {},
     "output_type": "display_data"
    },
    {
     "data": {
      "text/html": [
       "<pre style=\"white-space:pre;overflow-x:auto;line-height:normal;font-family:Menlo,'DejaVu Sans Mono',consolas,'Courier New',monospace\">Step: 32768 Done count: 393\n",
       "</pre>\n"
      ],
      "text/plain": [
       "Step: 32768 Done count: 393\n"
      ]
     },
     "metadata": {},
     "output_type": "display_data"
    },
    {
     "name": "stdout",
     "output_type": "stream",
     "text": [
      "------------------------------------------\n",
      "| rollout/                |              |\n",
      "|    ep_len_mean          | 13.3         |\n",
      "|    ep_rew_mean          | 2.08         |\n",
      "| time/                   |              |\n",
      "|    fps                  | 6            |\n",
      "|    iterations           | 8            |\n",
      "|    time_elapsed         | 5249         |\n",
      "|    total_timesteps      | 32768        |\n",
      "| train/                  |              |\n",
      "|    approx_kl            | 0.0053796917 |\n",
      "|    clip_fraction        | 0.0806       |\n",
      "|    clip_range           | 0.196        |\n",
      "|    entropy_loss         | -2.81        |\n",
      "|    explained_variance   | 0.514        |\n",
      "|    learning_rate        | 0.000129     |\n",
      "|    loss                 | 0.532        |\n",
      "|    n_updates            | 21           |\n",
      "|    policy_gradient_loss | -0.00549     |\n",
      "|    std                  | 0.985        |\n",
      "|    value_loss           | 0.837        |\n",
      "------------------------------------------\n"
     ]
    },
    {
     "data": {
      "text/html": [
       "<pre style=\"white-space:pre;overflow-x:auto;line-height:normal;font-family:Menlo,'DejaVu Sans Mono',consolas,'Courier New',monospace\">Step: 33280 Done count: 408\n",
       "</pre>\n"
      ],
      "text/plain": [
       "Step: 33280 Done count: 408\n"
      ]
     },
     "metadata": {},
     "output_type": "display_data"
    },
    {
     "data": {
      "text/html": [
       "<pre style=\"white-space:pre;overflow-x:auto;line-height:normal;font-family:Menlo,'DejaVu Sans Mono',consolas,'Courier New',monospace\">Step: 33792 Done count: 420\n",
       "</pre>\n"
      ],
      "text/plain": [
       "Step: 33792 Done count: 420\n"
      ]
     },
     "metadata": {},
     "output_type": "display_data"
    },
    {
     "data": {
      "text/html": [
       "<pre style=\"white-space:pre;overflow-x:auto;line-height:normal;font-family:Menlo,'DejaVu Sans Mono',consolas,'Courier New',monospace\">Step: 34304 Done count: 431\n",
       "</pre>\n"
      ],
      "text/plain": [
       "Step: 34304 Done count: 431\n"
      ]
     },
     "metadata": {},
     "output_type": "display_data"
    },
    {
     "data": {
      "text/html": [
       "<pre style=\"white-space:pre;overflow-x:auto;line-height:normal;font-family:Menlo,'DejaVu Sans Mono',consolas,'Courier New',monospace\">Step: 34816 Done count: 442\n",
       "</pre>\n"
      ],
      "text/plain": [
       "Step: 34816 Done count: 442\n"
      ]
     },
     "metadata": {},
     "output_type": "display_data"
    },
    {
     "data": {
      "text/html": [
       "<pre style=\"white-space:pre;overflow-x:auto;line-height:normal;font-family:Menlo,'DejaVu Sans Mono',consolas,'Courier New',monospace\">Step: 35328 Done count: 449\n",
       "</pre>\n"
      ],
      "text/plain": [
       "Step: 35328 Done count: 449\n"
      ]
     },
     "metadata": {},
     "output_type": "display_data"
    },
    {
     "data": {
      "text/html": [
       "<pre style=\"white-space:pre;overflow-x:auto;line-height:normal;font-family:Menlo,'DejaVu Sans Mono',consolas,'Courier New',monospace\">Step: 35840 Done count: 460\n",
       "</pre>\n"
      ],
      "text/plain": [
       "Step: 35840 Done count: 460\n"
      ]
     },
     "metadata": {},
     "output_type": "display_data"
    },
    {
     "data": {
      "text/html": [
       "<pre style=\"white-space:pre;overflow-x:auto;line-height:normal;font-family:Menlo,'DejaVu Sans Mono',consolas,'Courier New',monospace\">Step: 36352 Done count: 493\n",
       "</pre>\n"
      ],
      "text/plain": [
       "Step: 36352 Done count: 493\n"
      ]
     },
     "metadata": {},
     "output_type": "display_data"
    },
    {
     "data": {
      "text/html": [
       "<pre style=\"white-space:pre;overflow-x:auto;line-height:normal;font-family:Menlo,'DejaVu Sans Mono',consolas,'Courier New',monospace\">Step: 36864 Done count: 498\n",
       "</pre>\n"
      ],
      "text/plain": [
       "Step: 36864 Done count: 498\n"
      ]
     },
     "metadata": {},
     "output_type": "display_data"
    },
    {
     "name": "stdout",
     "output_type": "stream",
     "text": [
      "-----------------------------------------\n",
      "| rollout/                |             |\n",
      "|    ep_len_mean          | 8.42        |\n",
      "|    ep_rew_mean          | 2.55        |\n",
      "| time/                   |             |\n",
      "|    fps                  | 6           |\n",
      "|    iterations           | 9           |\n",
      "|    time_elapsed         | 6005        |\n",
      "|    total_timesteps      | 36864       |\n",
      "| train/                  |             |\n",
      "|    approx_kl            | 0.005230015 |\n",
      "|    clip_fraction        | 0.0767      |\n",
      "|    clip_range           | 0.196       |\n",
      "|    entropy_loss         | -2.81       |\n",
      "|    explained_variance   | 0.577       |\n",
      "|    learning_rate        | 0.000129    |\n",
      "|    loss                 | 0.376       |\n",
      "|    n_updates            | 24          |\n",
      "|    policy_gradient_loss | -0.0086     |\n",
      "|    std                  | 0.984       |\n",
      "|    value_loss           | 0.647       |\n",
      "-----------------------------------------\n"
     ]
    },
    {
     "data": {
      "text/html": [
       "<pre style=\"white-space:pre;overflow-x:auto;line-height:normal;font-family:Menlo,'DejaVu Sans Mono',consolas,'Courier New',monospace\">Step: 37376 Done count: 509\n",
       "</pre>\n"
      ],
      "text/plain": [
       "Step: 37376 Done count: 509\n"
      ]
     },
     "metadata": {},
     "output_type": "display_data"
    },
    {
     "data": {
      "text/html": [
       "<pre style=\"white-space:pre;overflow-x:auto;line-height:normal;font-family:Menlo,'DejaVu Sans Mono',consolas,'Courier New',monospace\">Step: 37888 Done count: 534\n",
       "</pre>\n"
      ],
      "text/plain": [
       "Step: 37888 Done count: 534\n"
      ]
     },
     "metadata": {},
     "output_type": "display_data"
    },
    {
     "data": {
      "text/html": [
       "<pre style=\"white-space:pre;overflow-x:auto;line-height:normal;font-family:Menlo,'DejaVu Sans Mono',consolas,'Courier New',monospace\">Step: 38400 Done count: 557\n",
       "</pre>\n"
      ],
      "text/plain": [
       "Step: 38400 Done count: 557\n"
      ]
     },
     "metadata": {},
     "output_type": "display_data"
    },
    {
     "data": {
      "text/html": [
       "<pre style=\"white-space:pre;overflow-x:auto;line-height:normal;font-family:Menlo,'DejaVu Sans Mono',consolas,'Courier New',monospace\">Step: 38912 Done count: 579\n",
       "</pre>\n"
      ],
      "text/plain": [
       "Step: 38912 Done count: 579\n"
      ]
     },
     "metadata": {},
     "output_type": "display_data"
    },
    {
     "data": {
      "text/html": [
       "<pre style=\"white-space:pre;overflow-x:auto;line-height:normal;font-family:Menlo,'DejaVu Sans Mono',consolas,'Courier New',monospace\">Step: 39424 Done count: 594\n",
       "</pre>\n"
      ],
      "text/plain": [
       "Step: 39424 Done count: 594\n"
      ]
     },
     "metadata": {},
     "output_type": "display_data"
    },
    {
     "data": {
      "text/html": [
       "<pre style=\"white-space:pre;overflow-x:auto;line-height:normal;font-family:Menlo,'DejaVu Sans Mono',consolas,'Courier New',monospace\">Step: 39936 Done count: 618\n",
       "</pre>\n"
      ],
      "text/plain": [
       "Step: 39936 Done count: 618\n"
      ]
     },
     "metadata": {},
     "output_type": "display_data"
    },
    {
     "data": {
      "text/html": [
       "<pre style=\"white-space:pre;overflow-x:auto;line-height:normal;font-family:Menlo,'DejaVu Sans Mono',consolas,'Courier New',monospace\">Step: 40448 Done count: 645\n",
       "</pre>\n"
      ],
      "text/plain": [
       "Step: 40448 Done count: 645\n"
      ]
     },
     "metadata": {},
     "output_type": "display_data"
    },
    {
     "data": {
      "text/html": [
       "<pre style=\"white-space:pre;overflow-x:auto;line-height:normal;font-family:Menlo,'DejaVu Sans Mono',consolas,'Courier New',monospace\">Step: 40960 Done count: 664\n",
       "</pre>\n"
      ],
      "text/plain": [
       "Step: 40960 Done count: 664\n"
      ]
     },
     "metadata": {},
     "output_type": "display_data"
    },
    {
     "name": "stdout",
     "output_type": "stream",
     "text": [
      "-----------------------------------------\n",
      "| rollout/                |             |\n",
      "|    ep_len_mean          | 5.85        |\n",
      "|    ep_rew_mean          | 2.64        |\n",
      "| time/                   |             |\n",
      "|    fps                  | 6           |\n",
      "|    iterations           | 10          |\n",
      "|    time_elapsed         | 6813        |\n",
      "|    total_timesteps      | 40960       |\n",
      "| train/                  |             |\n",
      "|    approx_kl            | 0.008691657 |\n",
      "|    clip_fraction        | 0.123       |\n",
      "|    clip_range           | 0.196       |\n",
      "|    entropy_loss         | -2.8        |\n",
      "|    explained_variance   | 0.607       |\n",
      "|    learning_rate        | 0.000129    |\n",
      "|    loss                 | 0.419       |\n",
      "|    n_updates            | 27          |\n",
      "|    policy_gradient_loss | -0.00849    |\n",
      "|    std                  | 0.981       |\n",
      "|    value_loss           | 0.75        |\n",
      "-----------------------------------------\n"
     ]
    },
    {
     "data": {
      "text/html": [
       "<pre style=\"white-space:pre;overflow-x:auto;line-height:normal;font-family:Menlo,'DejaVu Sans Mono',consolas,'Courier New',monospace\">Step: 41472 Done count: 669\n",
       "</pre>\n"
      ],
      "text/plain": [
       "Step: 41472 Done count: 669\n"
      ]
     },
     "metadata": {},
     "output_type": "display_data"
    },
    {
     "data": {
      "text/html": [
       "<pre style=\"white-space:pre;overflow-x:auto;line-height:normal;font-family:Menlo,'DejaVu Sans Mono',consolas,'Courier New',monospace\">Step: 41984 Done count: 678\n",
       "</pre>\n"
      ],
      "text/plain": [
       "Step: 41984 Done count: 678\n"
      ]
     },
     "metadata": {},
     "output_type": "display_data"
    },
    {
     "data": {
      "text/html": [
       "<pre style=\"white-space:pre;overflow-x:auto;line-height:normal;font-family:Menlo,'DejaVu Sans Mono',consolas,'Courier New',monospace\">Step: 42496 Done count: 687\n",
       "</pre>\n"
      ],
      "text/plain": [
       "Step: 42496 Done count: 687\n"
      ]
     },
     "metadata": {},
     "output_type": "display_data"
    },
    {
     "data": {
      "text/html": [
       "<pre style=\"white-space:pre;overflow-x:auto;line-height:normal;font-family:Menlo,'DejaVu Sans Mono',consolas,'Courier New',monospace\">Step: 43008 Done count: 700\n",
       "</pre>\n"
      ],
      "text/plain": [
       "Step: 43008 Done count: 700\n"
      ]
     },
     "metadata": {},
     "output_type": "display_data"
    },
    {
     "data": {
      "text/html": [
       "<pre style=\"white-space:pre;overflow-x:auto;line-height:normal;font-family:Menlo,'DejaVu Sans Mono',consolas,'Courier New',monospace\">Step: 43520 Done count: 716\n",
       "</pre>\n"
      ],
      "text/plain": [
       "Step: 43520 Done count: 716\n"
      ]
     },
     "metadata": {},
     "output_type": "display_data"
    },
    {
     "data": {
      "text/html": [
       "<pre style=\"white-space:pre;overflow-x:auto;line-height:normal;font-family:Menlo,'DejaVu Sans Mono',consolas,'Courier New',monospace\">Step: 44032 Done count: 749\n",
       "</pre>\n"
      ],
      "text/plain": [
       "Step: 44032 Done count: 749\n"
      ]
     },
     "metadata": {},
     "output_type": "display_data"
    },
    {
     "data": {
      "text/html": [
       "<pre style=\"white-space:pre;overflow-x:auto;line-height:normal;font-family:Menlo,'DejaVu Sans Mono',consolas,'Courier New',monospace\">Step: 44544 Done count: 779\n",
       "</pre>\n"
      ],
      "text/plain": [
       "Step: 44544 Done count: 779\n"
      ]
     },
     "metadata": {},
     "output_type": "display_data"
    },
    {
     "data": {
      "text/html": [
       "<pre style=\"white-space:pre;overflow-x:auto;line-height:normal;font-family:Menlo,'DejaVu Sans Mono',consolas,'Courier New',monospace\">Step: 45056 Done count: 792\n",
       "</pre>\n"
      ],
      "text/plain": [
       "Step: 45056 Done count: 792\n"
      ]
     },
     "metadata": {},
     "output_type": "display_data"
    },
    {
     "name": "stdout",
     "output_type": "stream",
     "text": [
      "-----------------------------------------\n",
      "| rollout/                |             |\n",
      "|    ep_len_mean          | 7           |\n",
      "|    ep_rew_mean          | 2.55        |\n",
      "| time/                   |             |\n",
      "|    fps                  | 5           |\n",
      "|    iterations           | 11          |\n",
      "|    time_elapsed         | 7610        |\n",
      "|    total_timesteps      | 45056       |\n",
      "| train/                  |             |\n",
      "|    approx_kl            | 0.008711154 |\n",
      "|    clip_fraction        | 0.132       |\n",
      "|    clip_range           | 0.196       |\n",
      "|    entropy_loss         | -2.79       |\n",
      "|    explained_variance   | 0.707       |\n",
      "|    learning_rate        | 0.000129    |\n",
      "|    loss                 | 0.307       |\n",
      "|    n_updates            | 30          |\n",
      "|    policy_gradient_loss | -0.0105     |\n",
      "|    std                  | 0.976       |\n",
      "|    value_loss           | 0.627       |\n",
      "-----------------------------------------\n"
     ]
    },
    {
     "data": {
      "text/html": [
       "<pre style=\"white-space:pre;overflow-x:auto;line-height:normal;font-family:Menlo,'DejaVu Sans Mono',consolas,'Courier New',monospace\">Step: 45568 Done count: 808\n",
       "</pre>\n"
      ],
      "text/plain": [
       "Step: 45568 Done count: 808\n"
      ]
     },
     "metadata": {},
     "output_type": "display_data"
    },
    {
     "data": {
      "text/html": [
       "<pre style=\"white-space:pre;overflow-x:auto;line-height:normal;font-family:Menlo,'DejaVu Sans Mono',consolas,'Courier New',monospace\">Step: 46080 Done count: 816\n",
       "</pre>\n"
      ],
      "text/plain": [
       "Step: 46080 Done count: 816\n"
      ]
     },
     "metadata": {},
     "output_type": "display_data"
    },
    {
     "data": {
      "text/html": [
       "<pre style=\"white-space:pre;overflow-x:auto;line-height:normal;font-family:Menlo,'DejaVu Sans Mono',consolas,'Courier New',monospace\">Step: 46592 Done count: 854\n",
       "</pre>\n"
      ],
      "text/plain": [
       "Step: 46592 Done count: 854\n"
      ]
     },
     "metadata": {},
     "output_type": "display_data"
    },
    {
     "data": {
      "text/html": [
       "<pre style=\"white-space:pre;overflow-x:auto;line-height:normal;font-family:Menlo,'DejaVu Sans Mono',consolas,'Courier New',monospace\">Step: 47104 Done count: 870\n",
       "</pre>\n"
      ],
      "text/plain": [
       "Step: 47104 Done count: 870\n"
      ]
     },
     "metadata": {},
     "output_type": "display_data"
    },
    {
     "data": {
      "text/html": [
       "<pre style=\"white-space:pre;overflow-x:auto;line-height:normal;font-family:Menlo,'DejaVu Sans Mono',consolas,'Courier New',monospace\">Step: 47616 Done count: 899\n",
       "</pre>\n"
      ],
      "text/plain": [
       "Step: 47616 Done count: 899\n"
      ]
     },
     "metadata": {},
     "output_type": "display_data"
    },
    {
     "data": {
      "text/html": [
       "<pre style=\"white-space:pre;overflow-x:auto;line-height:normal;font-family:Menlo,'DejaVu Sans Mono',consolas,'Courier New',monospace\">Step: 48128 Done count: 913\n",
       "</pre>\n"
      ],
      "text/plain": [
       "Step: 48128 Done count: 913\n"
      ]
     },
     "metadata": {},
     "output_type": "display_data"
    },
    {
     "data": {
      "text/html": [
       "<pre style=\"white-space:pre;overflow-x:auto;line-height:normal;font-family:Menlo,'DejaVu Sans Mono',consolas,'Courier New',monospace\">Step: 48640 Done count: 926\n",
       "</pre>\n"
      ],
      "text/plain": [
       "Step: 48640 Done count: 926\n"
      ]
     },
     "metadata": {},
     "output_type": "display_data"
    },
    {
     "data": {
      "text/html": [
       "<pre style=\"white-space:pre;overflow-x:auto;line-height:normal;font-family:Menlo,'DejaVu Sans Mono',consolas,'Courier New',monospace\">Step: 49152 Done count: 941\n",
       "</pre>\n"
      ],
      "text/plain": [
       "Step: 49152 Done count: 941\n"
      ]
     },
     "metadata": {},
     "output_type": "display_data"
    },
    {
     "name": "stdout",
     "output_type": "stream",
     "text": [
      "------------------------------------------\n",
      "| rollout/                |              |\n",
      "|    ep_len_mean          | 6.19         |\n",
      "|    ep_rew_mean          | 2.53         |\n",
      "| time/                   |              |\n",
      "|    fps                  | 5            |\n",
      "|    iterations           | 12           |\n",
      "|    time_elapsed         | 8475         |\n",
      "|    total_timesteps      | 49152        |\n",
      "| train/                  |              |\n",
      "|    approx_kl            | 0.0066757295 |\n",
      "|    clip_fraction        | 0.0644       |\n",
      "|    clip_range           | 0.196        |\n",
      "|    entropy_loss         | -2.78        |\n",
      "|    explained_variance   | 0.709        |\n",
      "|    learning_rate        | 0.000129     |\n",
      "|    loss                 | 0.314        |\n",
      "|    n_updates            | 33           |\n",
      "|    policy_gradient_loss | -0.00438     |\n",
      "|    std                  | 0.972        |\n",
      "|    value_loss           | 0.544        |\n",
      "------------------------------------------\n"
     ]
    },
    {
     "data": {
      "text/html": [
       "<pre style=\"white-space:pre;overflow-x:auto;line-height:normal;font-family:Menlo,'DejaVu Sans Mono',consolas,'Courier New',monospace\">Step: 49664 Done count: 958\n",
       "</pre>\n"
      ],
      "text/plain": [
       "Step: 49664 Done count: 958\n"
      ]
     },
     "metadata": {},
     "output_type": "display_data"
    },
    {
     "data": {
      "text/html": [
       "<pre style=\"white-space:pre;overflow-x:auto;line-height:normal;font-family:Menlo,'DejaVu Sans Mono',consolas,'Courier New',monospace\">Step: 50176 Done count: 995\n",
       "</pre>\n"
      ],
      "text/plain": [
       "Step: 50176 Done count: 995\n"
      ]
     },
     "metadata": {},
     "output_type": "display_data"
    },
    {
     "data": {
      "text/html": [
       "<pre style=\"white-space:pre;overflow-x:auto;line-height:normal;font-family:Menlo,'DejaVu Sans Mono',consolas,'Courier New',monospace\">Step: 50688 Done count: 1029\n",
       "</pre>\n"
      ],
      "text/plain": [
       "Step: 50688 Done count: 1029\n"
      ]
     },
     "metadata": {},
     "output_type": "display_data"
    },
    {
     "data": {
      "text/html": [
       "<pre style=\"white-space:pre;overflow-x:auto;line-height:normal;font-family:Menlo,'DejaVu Sans Mono',consolas,'Courier New',monospace\">Step: 51200 Done count: 1043\n",
       "</pre>\n"
      ],
      "text/plain": [
       "Step: 51200 Done count: 1043\n"
      ]
     },
     "metadata": {},
     "output_type": "display_data"
    },
    {
     "data": {
      "text/html": [
       "<pre style=\"white-space:pre;overflow-x:auto;line-height:normal;font-family:Menlo,'DejaVu Sans Mono',consolas,'Courier New',monospace\">Step: 51712 Done count: 1069\n",
       "</pre>\n"
      ],
      "text/plain": [
       "Step: 51712 Done count: 1069\n"
      ]
     },
     "metadata": {},
     "output_type": "display_data"
    },
    {
     "data": {
      "text/html": [
       "<pre style=\"white-space:pre;overflow-x:auto;line-height:normal;font-family:Menlo,'DejaVu Sans Mono',consolas,'Courier New',monospace\">Step: 52224 Done count: 1097\n",
       "</pre>\n"
      ],
      "text/plain": [
       "Step: 52224 Done count: 1097\n"
      ]
     },
     "metadata": {},
     "output_type": "display_data"
    },
    {
     "data": {
      "text/html": [
       "<pre style=\"white-space:pre;overflow-x:auto;line-height:normal;font-family:Menlo,'DejaVu Sans Mono',consolas,'Courier New',monospace\">Step: 52736 Done count: 1121\n",
       "</pre>\n"
      ],
      "text/plain": [
       "Step: 52736 Done count: 1121\n"
      ]
     },
     "metadata": {},
     "output_type": "display_data"
    },
    {
     "data": {
      "text/html": [
       "<pre style=\"white-space:pre;overflow-x:auto;line-height:normal;font-family:Menlo,'DejaVu Sans Mono',consolas,'Courier New',monospace\">Step: 53248 Done count: 1156\n",
       "</pre>\n"
      ],
      "text/plain": [
       "Step: 53248 Done count: 1156\n"
      ]
     },
     "metadata": {},
     "output_type": "display_data"
    },
    {
     "name": "stdout",
     "output_type": "stream",
     "text": [
      "-----------------------------------------\n",
      "| rollout/                |             |\n",
      "|    ep_len_mean          | 4.63        |\n",
      "|    ep_rew_mean          | 2.53        |\n",
      "| time/                   |             |\n",
      "|    fps                  | 5           |\n",
      "|    iterations           | 13          |\n",
      "|    time_elapsed         | 9378        |\n",
      "|    total_timesteps      | 53248       |\n",
      "| train/                  |             |\n",
      "|    approx_kl            | 0.009898895 |\n",
      "|    clip_fraction        | 0.129       |\n",
      "|    clip_range           | 0.196       |\n",
      "|    entropy_loss         | -2.78       |\n",
      "|    explained_variance   | 0.677       |\n",
      "|    learning_rate        | 0.000129    |\n",
      "|    loss                 | 0.259       |\n",
      "|    n_updates            | 36          |\n",
      "|    policy_gradient_loss | -0.00551    |\n",
      "|    std                  | 0.971       |\n",
      "|    value_loss           | 0.746       |\n",
      "-----------------------------------------\n"
     ]
    },
    {
     "data": {
      "text/html": [
       "<pre style=\"white-space:pre;overflow-x:auto;line-height:normal;font-family:Menlo,'DejaVu Sans Mono',consolas,'Courier New',monospace\">Step: 53760 Done count: 1183\n",
       "</pre>\n"
      ],
      "text/plain": [
       "Step: 53760 Done count: 1183\n"
      ]
     },
     "metadata": {},
     "output_type": "display_data"
    },
    {
     "data": {
      "text/html": [
       "<pre style=\"white-space:pre;overflow-x:auto;line-height:normal;font-family:Menlo,'DejaVu Sans Mono',consolas,'Courier New',monospace\">Step: 54272 Done count: 1194\n",
       "</pre>\n"
      ],
      "text/plain": [
       "Step: 54272 Done count: 1194\n"
      ]
     },
     "metadata": {},
     "output_type": "display_data"
    },
    {
     "data": {
      "text/html": [
       "<pre style=\"white-space:pre;overflow-x:auto;line-height:normal;font-family:Menlo,'DejaVu Sans Mono',consolas,'Courier New',monospace\">Step: 54784 Done count: 1216\n",
       "</pre>\n"
      ],
      "text/plain": [
       "Step: 54784 Done count: 1216\n"
      ]
     },
     "metadata": {},
     "output_type": "display_data"
    },
    {
     "data": {
      "text/html": [
       "<pre style=\"white-space:pre;overflow-x:auto;line-height:normal;font-family:Menlo,'DejaVu Sans Mono',consolas,'Courier New',monospace\">Step: 55296 Done count: 1246\n",
       "</pre>\n"
      ],
      "text/plain": [
       "Step: 55296 Done count: 1246\n"
      ]
     },
     "metadata": {},
     "output_type": "display_data"
    },
    {
     "data": {
      "text/html": [
       "<pre style=\"white-space:pre;overflow-x:auto;line-height:normal;font-family:Menlo,'DejaVu Sans Mono',consolas,'Courier New',monospace\">Step: 55808 Done count: 1280\n",
       "</pre>\n"
      ],
      "text/plain": [
       "Step: 55808 Done count: 1280\n"
      ]
     },
     "metadata": {},
     "output_type": "display_data"
    },
    {
     "data": {
      "text/html": [
       "<pre style=\"white-space:pre;overflow-x:auto;line-height:normal;font-family:Menlo,'DejaVu Sans Mono',consolas,'Courier New',monospace\">Step: 56320 Done count: 1318\n",
       "</pre>\n"
      ],
      "text/plain": [
       "Step: 56320 Done count: 1318\n"
      ]
     },
     "metadata": {},
     "output_type": "display_data"
    },
    {
     "data": {
      "text/html": [
       "<pre style=\"white-space:pre;overflow-x:auto;line-height:normal;font-family:Menlo,'DejaVu Sans Mono',consolas,'Courier New',monospace\">Step: 56832 Done count: 1352\n",
       "</pre>\n"
      ],
      "text/plain": [
       "Step: 56832 Done count: 1352\n"
      ]
     },
     "metadata": {},
     "output_type": "display_data"
    },
    {
     "data": {
      "text/html": [
       "<pre style=\"white-space:pre;overflow-x:auto;line-height:normal;font-family:Menlo,'DejaVu Sans Mono',consolas,'Courier New',monospace\">Step: 57344 Done count: 1375\n",
       "</pre>\n"
      ],
      "text/plain": [
       "Step: 57344 Done count: 1375\n"
      ]
     },
     "metadata": {},
     "output_type": "display_data"
    },
    {
     "name": "stdout",
     "output_type": "stream",
     "text": [
      "-----------------------------------------\n",
      "| rollout/                |             |\n",
      "|    ep_len_mean          | 4.6         |\n",
      "|    ep_rew_mean          | 2.55        |\n",
      "| time/                   |             |\n",
      "|    fps                  | 5           |\n",
      "|    iterations           | 14          |\n",
      "|    time_elapsed         | 10328       |\n",
      "|    total_timesteps      | 57344       |\n",
      "| train/                  |             |\n",
      "|    approx_kl            | 0.006448323 |\n",
      "|    clip_fraction        | 0.0736      |\n",
      "|    clip_range           | 0.196       |\n",
      "|    entropy_loss         | -2.78       |\n",
      "|    explained_variance   | 0.693       |\n",
      "|    learning_rate        | 0.000129    |\n",
      "|    loss                 | 0.204       |\n",
      "|    n_updates            | 39          |\n",
      "|    policy_gradient_loss | -0.00475    |\n",
      "|    std                  | 0.969       |\n",
      "|    value_loss           | 0.662       |\n",
      "-----------------------------------------\n"
     ]
    },
    {
     "data": {
      "text/html": [
       "<pre style=\"white-space:pre;overflow-x:auto;line-height:normal;font-family:Menlo,'DejaVu Sans Mono',consolas,'Courier New',monospace\">Step: 57856 Done count: 1401\n",
       "</pre>\n"
      ],
      "text/plain": [
       "Step: 57856 Done count: 1401\n"
      ]
     },
     "metadata": {},
     "output_type": "display_data"
    },
    {
     "data": {
      "text/html": [
       "<pre style=\"white-space:pre;overflow-x:auto;line-height:normal;font-family:Menlo,'DejaVu Sans Mono',consolas,'Courier New',monospace\">Step: 58368 Done count: 1439\n",
       "</pre>\n"
      ],
      "text/plain": [
       "Step: 58368 Done count: 1439\n"
      ]
     },
     "metadata": {},
     "output_type": "display_data"
    },
    {
     "data": {
      "text/html": [
       "<pre style=\"white-space:pre;overflow-x:auto;line-height:normal;font-family:Menlo,'DejaVu Sans Mono',consolas,'Courier New',monospace\">Step: 58880 Done count: 1484\n",
       "</pre>\n"
      ],
      "text/plain": [
       "Step: 58880 Done count: 1484\n"
      ]
     },
     "metadata": {},
     "output_type": "display_data"
    },
    {
     "data": {
      "text/html": [
       "<pre style=\"white-space:pre;overflow-x:auto;line-height:normal;font-family:Menlo,'DejaVu Sans Mono',consolas,'Courier New',monospace\">Step: 59392 Done count: 1523\n",
       "</pre>\n"
      ],
      "text/plain": [
       "Step: 59392 Done count: 1523\n"
      ]
     },
     "metadata": {},
     "output_type": "display_data"
    },
    {
     "data": {
      "text/html": [
       "<pre style=\"white-space:pre;overflow-x:auto;line-height:normal;font-family:Menlo,'DejaVu Sans Mono',consolas,'Courier New',monospace\">Step: 59904 Done count: 1549\n",
       "</pre>\n"
      ],
      "text/plain": [
       "Step: 59904 Done count: 1549\n"
      ]
     },
     "metadata": {},
     "output_type": "display_data"
    },
    {
     "data": {
      "text/html": [
       "<pre style=\"white-space:pre;overflow-x:auto;line-height:normal;font-family:Menlo,'DejaVu Sans Mono',consolas,'Courier New',monospace\">Step: 60416 Done count: 1586\n",
       "</pre>\n"
      ],
      "text/plain": [
       "Step: 60416 Done count: 1586\n"
      ]
     },
     "metadata": {},
     "output_type": "display_data"
    },
    {
     "data": {
      "text/html": [
       "<pre style=\"white-space:pre;overflow-x:auto;line-height:normal;font-family:Menlo,'DejaVu Sans Mono',consolas,'Courier New',monospace\">Step: 60928 Done count: 1619\n",
       "</pre>\n"
      ],
      "text/plain": [
       "Step: 60928 Done count: 1619\n"
      ]
     },
     "metadata": {},
     "output_type": "display_data"
    },
    {
     "data": {
      "text/html": [
       "<pre style=\"white-space:pre;overflow-x:auto;line-height:normal;font-family:Menlo,'DejaVu Sans Mono',consolas,'Courier New',monospace\">Step: 61440 Done count: 1654\n",
       "</pre>\n"
      ],
      "text/plain": [
       "Step: 61440 Done count: 1654\n"
      ]
     },
     "metadata": {},
     "output_type": "display_data"
    },
    {
     "name": "stdout",
     "output_type": "stream",
     "text": [
      "-----------------------------------------\n",
      "| rollout/                |             |\n",
      "|    ep_len_mean          | 4.62        |\n",
      "|    ep_rew_mean          | 2.4         |\n",
      "| time/                   |             |\n",
      "|    fps                  | 5           |\n",
      "|    iterations           | 15          |\n",
      "|    time_elapsed         | 11304       |\n",
      "|    total_timesteps      | 61440       |\n",
      "| train/                  |             |\n",
      "|    approx_kl            | 0.004974899 |\n",
      "|    clip_fraction        | 0.0637      |\n",
      "|    clip_range           | 0.196       |\n",
      "|    entropy_loss         | -2.77       |\n",
      "|    explained_variance   | 0.682       |\n",
      "|    learning_rate        | 0.000129    |\n",
      "|    loss                 | 0.357       |\n",
      "|    n_updates            | 42          |\n",
      "|    policy_gradient_loss | -0.0028     |\n",
      "|    std                  | 0.97        |\n",
      "|    value_loss           | 0.671       |\n",
      "-----------------------------------------\n"
     ]
    },
    {
     "data": {
      "text/html": [
       "<pre style=\"white-space:pre;overflow-x:auto;line-height:normal;font-family:Menlo,'DejaVu Sans Mono',consolas,'Courier New',monospace\">Step: 61952 Done count: 1681\n",
       "</pre>\n"
      ],
      "text/plain": [
       "Step: 61952 Done count: 1681\n"
      ]
     },
     "metadata": {},
     "output_type": "display_data"
    },
    {
     "data": {
      "text/html": [
       "<pre style=\"white-space:pre;overflow-x:auto;line-height:normal;font-family:Menlo,'DejaVu Sans Mono',consolas,'Courier New',monospace\">Step: 62464 Done count: 1721\n",
       "</pre>\n"
      ],
      "text/plain": [
       "Step: 62464 Done count: 1721\n"
      ]
     },
     "metadata": {},
     "output_type": "display_data"
    },
    {
     "data": {
      "text/html": [
       "<pre style=\"white-space:pre;overflow-x:auto;line-height:normal;font-family:Menlo,'DejaVu Sans Mono',consolas,'Courier New',monospace\">Step: 62976 Done count: 1754\n",
       "</pre>\n"
      ],
      "text/plain": [
       "Step: 62976 Done count: 1754\n"
      ]
     },
     "metadata": {},
     "output_type": "display_data"
    },
    {
     "data": {
      "text/html": [
       "<pre style=\"white-space:pre;overflow-x:auto;line-height:normal;font-family:Menlo,'DejaVu Sans Mono',consolas,'Courier New',monospace\">Step: 63488 Done count: 1779\n",
       "</pre>\n"
      ],
      "text/plain": [
       "Step: 63488 Done count: 1779\n"
      ]
     },
     "metadata": {},
     "output_type": "display_data"
    },
    {
     "data": {
      "text/html": [
       "<pre style=\"white-space:pre;overflow-x:auto;line-height:normal;font-family:Menlo,'DejaVu Sans Mono',consolas,'Courier New',monospace\">Step: 64000 Done count: 1813\n",
       "</pre>\n"
      ],
      "text/plain": [
       "Step: 64000 Done count: 1813\n"
      ]
     },
     "metadata": {},
     "output_type": "display_data"
    },
    {
     "data": {
      "text/html": [
       "<pre style=\"white-space:pre;overflow-x:auto;line-height:normal;font-family:Menlo,'DejaVu Sans Mono',consolas,'Courier New',monospace\">Step: 64512 Done count: 1849\n",
       "</pre>\n"
      ],
      "text/plain": [
       "Step: 64512 Done count: 1849\n"
      ]
     },
     "metadata": {},
     "output_type": "display_data"
    },
    {
     "data": {
      "text/html": [
       "<pre style=\"white-space:pre;overflow-x:auto;line-height:normal;font-family:Menlo,'DejaVu Sans Mono',consolas,'Courier New',monospace\">Step: 65024 Done count: 1879\n",
       "</pre>\n"
      ],
      "text/plain": [
       "Step: 65024 Done count: 1879\n"
      ]
     },
     "metadata": {},
     "output_type": "display_data"
    },
    {
     "data": {
      "text/html": [
       "<pre style=\"white-space:pre;overflow-x:auto;line-height:normal;font-family:Menlo,'DejaVu Sans Mono',consolas,'Courier New',monospace\">Step: 65536 Done count: 1913\n",
       "</pre>\n"
      ],
      "text/plain": [
       "Step: 65536 Done count: 1913\n"
      ]
     },
     "metadata": {},
     "output_type": "display_data"
    },
    {
     "name": "stdout",
     "output_type": "stream",
     "text": [
      "------------------------------------------\n",
      "| rollout/                |              |\n",
      "|    ep_len_mean          | 4.15         |\n",
      "|    ep_rew_mean          | 2.43         |\n",
      "| time/                   |              |\n",
      "|    fps                  | 5            |\n",
      "|    iterations           | 16           |\n",
      "|    time_elapsed         | 12318        |\n",
      "|    total_timesteps      | 65536        |\n",
      "| train/                  |              |\n",
      "|    approx_kl            | 0.0066414922 |\n",
      "|    clip_fraction        | 0.0702       |\n",
      "|    clip_range           | 0.196        |\n",
      "|    entropy_loss         | -2.77        |\n",
      "|    explained_variance   | 0.655        |\n",
      "|    learning_rate        | 0.000129     |\n",
      "|    loss                 | 0.258        |\n",
      "|    n_updates            | 45           |\n",
      "|    policy_gradient_loss | -0.00234     |\n",
      "|    std                  | 0.966        |\n",
      "|    value_loss           | 0.702        |\n",
      "------------------------------------------\n"
     ]
    },
    {
     "data": {
      "text/html": [
       "<pre style=\"white-space:pre;overflow-x:auto;line-height:normal;font-family:Menlo,'DejaVu Sans Mono',consolas,'Courier New',monospace\">Step: 66048 Done count: 1954\n",
       "</pre>\n"
      ],
      "text/plain": [
       "Step: 66048 Done count: 1954\n"
      ]
     },
     "metadata": {},
     "output_type": "display_data"
    },
    {
     "data": {
      "text/html": [
       "<pre style=\"white-space:pre;overflow-x:auto;line-height:normal;font-family:Menlo,'DejaVu Sans Mono',consolas,'Courier New',monospace\">Step: 66560 Done count: 1993\n",
       "</pre>\n"
      ],
      "text/plain": [
       "Step: 66560 Done count: 1993\n"
      ]
     },
     "metadata": {},
     "output_type": "display_data"
    },
    {
     "data": {
      "text/html": [
       "<pre style=\"white-space:pre;overflow-x:auto;line-height:normal;font-family:Menlo,'DejaVu Sans Mono',consolas,'Courier New',monospace\">Step: 67072 Done count: 2027\n",
       "</pre>\n"
      ],
      "text/plain": [
       "Step: 67072 Done count: 2027\n"
      ]
     },
     "metadata": {},
     "output_type": "display_data"
    },
    {
     "data": {
      "text/html": [
       "<pre style=\"white-space:pre;overflow-x:auto;line-height:normal;font-family:Menlo,'DejaVu Sans Mono',consolas,'Courier New',monospace\">Step: 67584 Done count: 2068\n",
       "</pre>\n"
      ],
      "text/plain": [
       "Step: 67584 Done count: 2068\n"
      ]
     },
     "metadata": {},
     "output_type": "display_data"
    },
    {
     "data": {
      "text/html": [
       "<pre style=\"white-space:pre;overflow-x:auto;line-height:normal;font-family:Menlo,'DejaVu Sans Mono',consolas,'Courier New',monospace\">Step: 68096 Done count: 2101\n",
       "</pre>\n"
      ],
      "text/plain": [
       "Step: 68096 Done count: 2101\n"
      ]
     },
     "metadata": {},
     "output_type": "display_data"
    },
    {
     "data": {
      "text/html": [
       "<pre style=\"white-space:pre;overflow-x:auto;line-height:normal;font-family:Menlo,'DejaVu Sans Mono',consolas,'Courier New',monospace\">Step: 68608 Done count: 2146\n",
       "</pre>\n"
      ],
      "text/plain": [
       "Step: 68608 Done count: 2146\n"
      ]
     },
     "metadata": {},
     "output_type": "display_data"
    },
    {
     "data": {
      "text/html": [
       "<pre style=\"white-space:pre;overflow-x:auto;line-height:normal;font-family:Menlo,'DejaVu Sans Mono',consolas,'Courier New',monospace\">Step: 69120 Done count: 2192\n",
       "</pre>\n"
      ],
      "text/plain": [
       "Step: 69120 Done count: 2192\n"
      ]
     },
     "metadata": {},
     "output_type": "display_data"
    },
    {
     "data": {
      "text/html": [
       "<pre style=\"white-space:pre;overflow-x:auto;line-height:normal;font-family:Menlo,'DejaVu Sans Mono',consolas,'Courier New',monospace\">Step: 69632 Done count: 2233\n",
       "</pre>\n"
      ],
      "text/plain": [
       "Step: 69632 Done count: 2233\n"
      ]
     },
     "metadata": {},
     "output_type": "display_data"
    },
    {
     "name": "stdout",
     "output_type": "stream",
     "text": [
      "----------------------------------------\n",
      "| rollout/                |            |\n",
      "|    ep_len_mean          | 3.64       |\n",
      "|    ep_rew_mean          | 2.7        |\n",
      "| time/                   |            |\n",
      "|    fps                  | 5          |\n",
      "|    iterations           | 17         |\n",
      "|    time_elapsed         | 13354      |\n",
      "|    total_timesteps      | 69632      |\n",
      "| train/                  |            |\n",
      "|    approx_kl            | 0.00542242 |\n",
      "|    clip_fraction        | 0.064      |\n",
      "|    clip_range           | 0.196      |\n",
      "|    entropy_loss         | -2.76      |\n",
      "|    explained_variance   | 0.634      |\n",
      "|    learning_rate        | 0.000129   |\n",
      "|    loss                 | 0.401      |\n",
      "|    n_updates            | 48         |\n",
      "|    policy_gradient_loss | -0.000427  |\n",
      "|    std                  | 0.963      |\n",
      "|    value_loss           | 0.726      |\n",
      "----------------------------------------\n"
     ]
    },
    {
     "data": {
      "text/html": [
       "<pre style=\"white-space:pre;overflow-x:auto;line-height:normal;font-family:Menlo,'DejaVu Sans Mono',consolas,'Courier New',monospace\">Step: 70144 Done count: 2274\n",
       "</pre>\n"
      ],
      "text/plain": [
       "Step: 70144 Done count: 2274\n"
      ]
     },
     "metadata": {},
     "output_type": "display_data"
    },
    {
     "data": {
      "text/html": [
       "<pre style=\"white-space:pre;overflow-x:auto;line-height:normal;font-family:Menlo,'DejaVu Sans Mono',consolas,'Courier New',monospace\">Step: 70656 Done count: 2312\n",
       "</pre>\n"
      ],
      "text/plain": [
       "Step: 70656 Done count: 2312\n"
      ]
     },
     "metadata": {},
     "output_type": "display_data"
    },
    {
     "data": {
      "text/html": [
       "<pre style=\"white-space:pre;overflow-x:auto;line-height:normal;font-family:Menlo,'DejaVu Sans Mono',consolas,'Courier New',monospace\">Step: 71168 Done count: 2348\n",
       "</pre>\n"
      ],
      "text/plain": [
       "Step: 71168 Done count: 2348\n"
      ]
     },
     "metadata": {},
     "output_type": "display_data"
    },
    {
     "data": {
      "text/html": [
       "<pre style=\"white-space:pre;overflow-x:auto;line-height:normal;font-family:Menlo,'DejaVu Sans Mono',consolas,'Courier New',monospace\">Step: 71680 Done count: 2384\n",
       "</pre>\n"
      ],
      "text/plain": [
       "Step: 71680 Done count: 2384\n"
      ]
     },
     "metadata": {},
     "output_type": "display_data"
    },
    {
     "data": {
      "text/html": [
       "<pre style=\"white-space:pre;overflow-x:auto;line-height:normal;font-family:Menlo,'DejaVu Sans Mono',consolas,'Courier New',monospace\">Step: 72192 Done count: 2421\n",
       "</pre>\n"
      ],
      "text/plain": [
       "Step: 72192 Done count: 2421\n"
      ]
     },
     "metadata": {},
     "output_type": "display_data"
    },
    {
     "data": {
      "text/html": [
       "<pre style=\"white-space:pre;overflow-x:auto;line-height:normal;font-family:Menlo,'DejaVu Sans Mono',consolas,'Courier New',monospace\">Step: 72704 Done count: 2455\n",
       "</pre>\n"
      ],
      "text/plain": [
       "Step: 72704 Done count: 2455\n"
      ]
     },
     "metadata": {},
     "output_type": "display_data"
    },
    {
     "data": {
      "text/html": [
       "<pre style=\"white-space:pre;overflow-x:auto;line-height:normal;font-family:Menlo,'DejaVu Sans Mono',consolas,'Courier New',monospace\">Step: 73216 Done count: 2477\n",
       "</pre>\n"
      ],
      "text/plain": [
       "Step: 73216 Done count: 2477\n"
      ]
     },
     "metadata": {},
     "output_type": "display_data"
    },
    {
     "data": {
      "text/html": [
       "<pre style=\"white-space:pre;overflow-x:auto;line-height:normal;font-family:Menlo,'DejaVu Sans Mono',consolas,'Courier New',monospace\">Step: 73728 Done count: 2513\n",
       "</pre>\n"
      ],
      "text/plain": [
       "Step: 73728 Done count: 2513\n"
      ]
     },
     "metadata": {},
     "output_type": "display_data"
    },
    {
     "data": {
      "text/html": [
       "<pre style=\"white-space:pre;overflow-x:auto;line-height:normal;font-family:Menlo,'DejaVu Sans Mono',consolas,'Courier New',monospace\">Step: 74240 Done count: 2546\n",
       "</pre>\n"
      ],
      "text/plain": [
       "Step: 74240 Done count: 2546\n"
      ]
     },
     "metadata": {},
     "output_type": "display_data"
    },
    {
     "data": {
      "text/html": [
       "<pre style=\"white-space:pre;overflow-x:auto;line-height:normal;font-family:Menlo,'DejaVu Sans Mono',consolas,'Courier New',monospace\">Step: 74752 Done count: 2578\n",
       "</pre>\n"
      ],
      "text/plain": [
       "Step: 74752 Done count: 2578\n"
      ]
     },
     "metadata": {},
     "output_type": "display_data"
    },
    {
     "data": {
      "text/html": [
       "<pre style=\"white-space:pre;overflow-x:auto;line-height:normal;font-family:Menlo,'DejaVu Sans Mono',consolas,'Courier New',monospace\">Step: 75264 Done count: 2614\n",
       "</pre>\n"
      ],
      "text/plain": [
       "Step: 75264 Done count: 2614\n"
      ]
     },
     "metadata": {},
     "output_type": "display_data"
    },
    {
     "data": {
      "text/html": [
       "<pre style=\"white-space:pre;overflow-x:auto;line-height:normal;font-family:Menlo,'DejaVu Sans Mono',consolas,'Courier New',monospace\">Step: 75776 Done count: 2638\n",
       "</pre>\n"
      ],
      "text/plain": [
       "Step: 75776 Done count: 2638\n"
      ]
     },
     "metadata": {},
     "output_type": "display_data"
    },
    {
     "data": {
      "text/html": [
       "<pre style=\"white-space:pre;overflow-x:auto;line-height:normal;font-family:Menlo,'DejaVu Sans Mono',consolas,'Courier New',monospace\">Step: 76288 Done count: 2674\n",
       "</pre>\n"
      ],
      "text/plain": [
       "Step: 76288 Done count: 2674\n"
      ]
     },
     "metadata": {},
     "output_type": "display_data"
    },
    {
     "data": {
      "text/html": [
       "<pre style=\"white-space:pre;overflow-x:auto;line-height:normal;font-family:Menlo,'DejaVu Sans Mono',consolas,'Courier New',monospace\">Step: 76800 Done count: 2708\n",
       "</pre>\n"
      ],
      "text/plain": [
       "Step: 76800 Done count: 2708\n"
      ]
     },
     "metadata": {},
     "output_type": "display_data"
    },
    {
     "data": {
      "text/html": [
       "<pre style=\"white-space:pre;overflow-x:auto;line-height:normal;font-family:Menlo,'DejaVu Sans Mono',consolas,'Courier New',monospace\">Step: 77312 Done count: 2747\n",
       "</pre>\n"
      ],
      "text/plain": [
       "Step: 77312 Done count: 2747\n"
      ]
     },
     "metadata": {},
     "output_type": "display_data"
    },
    {
     "data": {
      "text/html": [
       "<pre style=\"white-space:pre;overflow-x:auto;line-height:normal;font-family:Menlo,'DejaVu Sans Mono',consolas,'Courier New',monospace\">Step: 77824 Done count: 2780\n",
       "</pre>\n"
      ],
      "text/plain": [
       "Step: 77824 Done count: 2780\n"
      ]
     },
     "metadata": {},
     "output_type": "display_data"
    },
    {
     "name": "stdout",
     "output_type": "stream",
     "text": [
      "------------------------------------------\n",
      "| rollout/                |              |\n",
      "|    ep_len_mean          | 3.66         |\n",
      "|    ep_rew_mean          | 2.64         |\n",
      "| time/                   |              |\n",
      "|    fps                  | 5            |\n",
      "|    iterations           | 19           |\n",
      "|    time_elapsed         | 15447        |\n",
      "|    total_timesteps      | 77824        |\n",
      "| train/                  |              |\n",
      "|    approx_kl            | 0.0064499495 |\n",
      "|    clip_fraction        | 0.0864       |\n",
      "|    clip_range           | 0.196        |\n",
      "|    entropy_loss         | -2.75        |\n",
      "|    explained_variance   | 0.645        |\n",
      "|    learning_rate        | 0.000129     |\n",
      "|    loss                 | 0.303        |\n",
      "|    n_updates            | 54           |\n",
      "|    policy_gradient_loss | -0.000321    |\n",
      "|    std                  | 0.959        |\n",
      "|    value_loss           | 0.652        |\n",
      "------------------------------------------\n"
     ]
    },
    {
     "data": {
      "text/html": [
       "<pre style=\"white-space:pre;overflow-x:auto;line-height:normal;font-family:Menlo,'DejaVu Sans Mono',consolas,'Courier New',monospace\">Step: 78336 Done count: 2824\n",
       "</pre>\n"
      ],
      "text/plain": [
       "Step: 78336 Done count: 2824\n"
      ]
     },
     "metadata": {},
     "output_type": "display_data"
    },
    {
     "data": {
      "text/html": [
       "<pre style=\"white-space:pre;overflow-x:auto;line-height:normal;font-family:Menlo,'DejaVu Sans Mono',consolas,'Courier New',monospace\">Step: 78848 Done count: 2852\n",
       "</pre>\n"
      ],
      "text/plain": [
       "Step: 78848 Done count: 2852\n"
      ]
     },
     "metadata": {},
     "output_type": "display_data"
    },
    {
     "data": {
      "text/html": [
       "<pre style=\"white-space:pre;overflow-x:auto;line-height:normal;font-family:Menlo,'DejaVu Sans Mono',consolas,'Courier New',monospace\">Step: 79360 Done count: 2888\n",
       "</pre>\n"
      ],
      "text/plain": [
       "Step: 79360 Done count: 2888\n"
      ]
     },
     "metadata": {},
     "output_type": "display_data"
    },
    {
     "data": {
      "text/html": [
       "<pre style=\"white-space:pre;overflow-x:auto;line-height:normal;font-family:Menlo,'DejaVu Sans Mono',consolas,'Courier New',monospace\">Step: 79872 Done count: 2930\n",
       "</pre>\n"
      ],
      "text/plain": [
       "Step: 79872 Done count: 2930\n"
      ]
     },
     "metadata": {},
     "output_type": "display_data"
    },
    {
     "data": {
      "text/html": [
       "<pre style=\"white-space:pre;overflow-x:auto;line-height:normal;font-family:Menlo,'DejaVu Sans Mono',consolas,'Courier New',monospace\">Step: 80384 Done count: 2977\n",
       "</pre>\n"
      ],
      "text/plain": [
       "Step: 80384 Done count: 2977\n"
      ]
     },
     "metadata": {},
     "output_type": "display_data"
    },
    {
     "data": {
      "text/html": [
       "<pre style=\"white-space:pre;overflow-x:auto;line-height:normal;font-family:Menlo,'DejaVu Sans Mono',consolas,'Courier New',monospace\">Step: 80896 Done count: 3014\n",
       "</pre>\n"
      ],
      "text/plain": [
       "Step: 80896 Done count: 3014\n"
      ]
     },
     "metadata": {},
     "output_type": "display_data"
    },
    {
     "data": {
      "text/html": [
       "<pre style=\"white-space:pre;overflow-x:auto;line-height:normal;font-family:Menlo,'DejaVu Sans Mono',consolas,'Courier New',monospace\">Step: 81408 Done count: 3056\n",
       "</pre>\n"
      ],
      "text/plain": [
       "Step: 81408 Done count: 3056\n"
      ]
     },
     "metadata": {},
     "output_type": "display_data"
    },
    {
     "data": {
      "text/html": [
       "<pre style=\"white-space:pre;overflow-x:auto;line-height:normal;font-family:Menlo,'DejaVu Sans Mono',consolas,'Courier New',monospace\">Step: 81920 Done count: 3097\n",
       "</pre>\n"
      ],
      "text/plain": [
       "Step: 81920 Done count: 3097\n"
      ]
     },
     "metadata": {},
     "output_type": "display_data"
    },
    {
     "name": "stdout",
     "output_type": "stream",
     "text": [
      "-----------------------------------------\n",
      "| rollout/                |             |\n",
      "|    ep_len_mean          | 4.13        |\n",
      "|    ep_rew_mean          | 2.64        |\n",
      "| time/                   |             |\n",
      "|    fps                  | 4           |\n",
      "|    iterations           | 20          |\n",
      "|    time_elapsed         | 16504       |\n",
      "|    total_timesteps      | 81920       |\n",
      "| train/                  |             |\n",
      "|    approx_kl            | 0.005632909 |\n",
      "|    clip_fraction        | 0.0818      |\n",
      "|    clip_range           | 0.196       |\n",
      "|    entropy_loss         | -2.75       |\n",
      "|    explained_variance   | 0.617       |\n",
      "|    learning_rate        | 0.000129    |\n",
      "|    loss                 | 0.334       |\n",
      "|    n_updates            | 57          |\n",
      "|    policy_gradient_loss | 0.00081     |\n",
      "|    std                  | 0.957       |\n",
      "|    value_loss           | 0.734       |\n",
      "-----------------------------------------\n"
     ]
    },
    {
     "data": {
      "text/html": [
       "<pre style=\"white-space:pre;overflow-x:auto;line-height:normal;font-family:Menlo,'DejaVu Sans Mono',consolas,'Courier New',monospace\">Step: 82432 Done count: 3133\n",
       "</pre>\n"
      ],
      "text/plain": [
       "Step: 82432 Done count: 3133\n"
      ]
     },
     "metadata": {},
     "output_type": "display_data"
    },
    {
     "data": {
      "text/html": [
       "<pre style=\"white-space:pre;overflow-x:auto;line-height:normal;font-family:Menlo,'DejaVu Sans Mono',consolas,'Courier New',monospace\">Step: 82944 Done count: 3166\n",
       "</pre>\n"
      ],
      "text/plain": [
       "Step: 82944 Done count: 3166\n"
      ]
     },
     "metadata": {},
     "output_type": "display_data"
    },
    {
     "data": {
      "text/html": [
       "<pre style=\"white-space:pre;overflow-x:auto;line-height:normal;font-family:Menlo,'DejaVu Sans Mono',consolas,'Courier New',monospace\">Step: 83456 Done count: 3198\n",
       "</pre>\n"
      ],
      "text/plain": [
       "Step: 83456 Done count: 3198\n"
      ]
     },
     "metadata": {},
     "output_type": "display_data"
    },
    {
     "data": {
      "text/html": [
       "<pre style=\"white-space:pre;overflow-x:auto;line-height:normal;font-family:Menlo,'DejaVu Sans Mono',consolas,'Courier New',monospace\">Step: 83968 Done count: 3238\n",
       "</pre>\n"
      ],
      "text/plain": [
       "Step: 83968 Done count: 3238\n"
      ]
     },
     "metadata": {},
     "output_type": "display_data"
    },
    {
     "data": {
      "text/html": [
       "<pre style=\"white-space:pre;overflow-x:auto;line-height:normal;font-family:Menlo,'DejaVu Sans Mono',consolas,'Courier New',monospace\">Step: 84480 Done count: 3274\n",
       "</pre>\n"
      ],
      "text/plain": [
       "Step: 84480 Done count: 3274\n"
      ]
     },
     "metadata": {},
     "output_type": "display_data"
    },
    {
     "data": {
      "text/html": [
       "<pre style=\"white-space:pre;overflow-x:auto;line-height:normal;font-family:Menlo,'DejaVu Sans Mono',consolas,'Courier New',monospace\">Step: 84992 Done count: 3317\n",
       "</pre>\n"
      ],
      "text/plain": [
       "Step: 84992 Done count: 3317\n"
      ]
     },
     "metadata": {},
     "output_type": "display_data"
    },
    {
     "data": {
      "text/html": [
       "<pre style=\"white-space:pre;overflow-x:auto;line-height:normal;font-family:Menlo,'DejaVu Sans Mono',consolas,'Courier New',monospace\">Step: 85504 Done count: 3360\n",
       "</pre>\n"
      ],
      "text/plain": [
       "Step: 85504 Done count: 3360\n"
      ]
     },
     "metadata": {},
     "output_type": "display_data"
    },
    {
     "data": {
      "text/html": [
       "<pre style=\"white-space:pre;overflow-x:auto;line-height:normal;font-family:Menlo,'DejaVu Sans Mono',consolas,'Courier New',monospace\">Step: 86016 Done count: 3393\n",
       "</pre>\n"
      ],
      "text/plain": [
       "Step: 86016 Done count: 3393\n"
      ]
     },
     "metadata": {},
     "output_type": "display_data"
    },
    {
     "name": "stdout",
     "output_type": "stream",
     "text": [
      "-----------------------------------------\n",
      "| rollout/                |             |\n",
      "|    ep_len_mean          | 3.4         |\n",
      "|    ep_rew_mean          | 2.64        |\n",
      "| time/                   |             |\n",
      "|    fps                  | 4           |\n",
      "|    iterations           | 21          |\n",
      "|    time_elapsed         | 17588       |\n",
      "|    total_timesteps      | 86016       |\n",
      "| train/                  |             |\n",
      "|    approx_kl            | 0.006206074 |\n",
      "|    clip_fraction        | 0.0726      |\n",
      "|    clip_range           | 0.196       |\n",
      "|    entropy_loss         | -2.74       |\n",
      "|    explained_variance   | 0.67        |\n",
      "|    learning_rate        | 0.000129    |\n",
      "|    loss                 | 0.21        |\n",
      "|    n_updates            | 60          |\n",
      "|    policy_gradient_loss | 0.000657    |\n",
      "|    std                  | 0.955       |\n",
      "|    value_loss           | 0.601       |\n",
      "-----------------------------------------\n"
     ]
    },
    {
     "data": {
      "text/html": [
       "<pre style=\"white-space:pre;overflow-x:auto;line-height:normal;font-family:Menlo,'DejaVu Sans Mono',consolas,'Courier New',monospace\">Step: 86528 Done count: 3429\n",
       "</pre>\n"
      ],
      "text/plain": [
       "Step: 86528 Done count: 3429\n"
      ]
     },
     "metadata": {},
     "output_type": "display_data"
    },
    {
     "data": {
      "text/html": [
       "<pre style=\"white-space:pre;overflow-x:auto;line-height:normal;font-family:Menlo,'DejaVu Sans Mono',consolas,'Courier New',monospace\">Step: 87040 Done count: 3476\n",
       "</pre>\n"
      ],
      "text/plain": [
       "Step: 87040 Done count: 3476\n"
      ]
     },
     "metadata": {},
     "output_type": "display_data"
    },
    {
     "data": {
      "text/html": [
       "<pre style=\"white-space:pre;overflow-x:auto;line-height:normal;font-family:Menlo,'DejaVu Sans Mono',consolas,'Courier New',monospace\">Step: 87552 Done count: 3506\n",
       "</pre>\n"
      ],
      "text/plain": [
       "Step: 87552 Done count: 3506\n"
      ]
     },
     "metadata": {},
     "output_type": "display_data"
    },
    {
     "data": {
      "text/html": [
       "<pre style=\"white-space:pre;overflow-x:auto;line-height:normal;font-family:Menlo,'DejaVu Sans Mono',consolas,'Courier New',monospace\">Step: 88064 Done count: 3554\n",
       "</pre>\n"
      ],
      "text/plain": [
       "Step: 88064 Done count: 3554\n"
      ]
     },
     "metadata": {},
     "output_type": "display_data"
    },
    {
     "data": {
      "text/html": [
       "<pre style=\"white-space:pre;overflow-x:auto;line-height:normal;font-family:Menlo,'DejaVu Sans Mono',consolas,'Courier New',monospace\">Step: 88576 Done count: 3591\n",
       "</pre>\n"
      ],
      "text/plain": [
       "Step: 88576 Done count: 3591\n"
      ]
     },
     "metadata": {},
     "output_type": "display_data"
    },
    {
     "data": {
      "text/html": [
       "<pre style=\"white-space:pre;overflow-x:auto;line-height:normal;font-family:Menlo,'DejaVu Sans Mono',consolas,'Courier New',monospace\">Step: 89088 Done count: 3630\n",
       "</pre>\n"
      ],
      "text/plain": [
       "Step: 89088 Done count: 3630\n"
      ]
     },
     "metadata": {},
     "output_type": "display_data"
    },
    {
     "data": {
      "text/html": [
       "<pre style=\"white-space:pre;overflow-x:auto;line-height:normal;font-family:Menlo,'DejaVu Sans Mono',consolas,'Courier New',monospace\">Step: 89600 Done count: 3663\n",
       "</pre>\n"
      ],
      "text/plain": [
       "Step: 89600 Done count: 3663\n"
      ]
     },
     "metadata": {},
     "output_type": "display_data"
    },
    {
     "data": {
      "text/html": [
       "<pre style=\"white-space:pre;overflow-x:auto;line-height:normal;font-family:Menlo,'DejaVu Sans Mono',consolas,'Courier New',monospace\">Step: 90112 Done count: 3705\n",
       "</pre>\n"
      ],
      "text/plain": [
       "Step: 90112 Done count: 3705\n"
      ]
     },
     "metadata": {},
     "output_type": "display_data"
    },
    {
     "name": "stdout",
     "output_type": "stream",
     "text": [
      "-----------------------------------------\n",
      "| rollout/                |             |\n",
      "|    ep_len_mean          | 3.39        |\n",
      "|    ep_rew_mean          | 2.73        |\n",
      "| time/                   |             |\n",
      "|    fps                  | 4           |\n",
      "|    iterations           | 22          |\n",
      "|    time_elapsed         | 18642       |\n",
      "|    total_timesteps      | 90112       |\n",
      "| train/                  |             |\n",
      "|    approx_kl            | 0.005960165 |\n",
      "|    clip_fraction        | 0.0653      |\n",
      "|    clip_range           | 0.196       |\n",
      "|    entropy_loss         | -2.74       |\n",
      "|    explained_variance   | 0.635       |\n",
      "|    learning_rate        | 0.000129    |\n",
      "|    loss                 | 0.302       |\n",
      "|    n_updates            | 63          |\n",
      "|    policy_gradient_loss | 0.00245     |\n",
      "|    std                  | 0.953       |\n",
      "|    value_loss           | 0.67        |\n",
      "-----------------------------------------\n"
     ]
    },
    {
     "data": {
      "text/html": [
       "<pre style=\"white-space:pre;overflow-x:auto;line-height:normal;font-family:Menlo,'DejaVu Sans Mono',consolas,'Courier New',monospace\">Step: 90624 Done count: 3746\n",
       "</pre>\n"
      ],
      "text/plain": [
       "Step: 90624 Done count: 3746\n"
      ]
     },
     "metadata": {},
     "output_type": "display_data"
    },
    {
     "data": {
      "text/html": [
       "<pre style=\"white-space:pre;overflow-x:auto;line-height:normal;font-family:Menlo,'DejaVu Sans Mono',consolas,'Courier New',monospace\">Step: 91136 Done count: 3786\n",
       "</pre>\n"
      ],
      "text/plain": [
       "Step: 91136 Done count: 3786\n"
      ]
     },
     "metadata": {},
     "output_type": "display_data"
    },
    {
     "data": {
      "text/html": [
       "<pre style=\"white-space:pre;overflow-x:auto;line-height:normal;font-family:Menlo,'DejaVu Sans Mono',consolas,'Courier New',monospace\">Step: 91648 Done count: 3836\n",
       "</pre>\n"
      ],
      "text/plain": [
       "Step: 91648 Done count: 3836\n"
      ]
     },
     "metadata": {},
     "output_type": "display_data"
    },
    {
     "data": {
      "text/html": [
       "<pre style=\"white-space:pre;overflow-x:auto;line-height:normal;font-family:Menlo,'DejaVu Sans Mono',consolas,'Courier New',monospace\">Step: 92160 Done count: 3870\n",
       "</pre>\n"
      ],
      "text/plain": [
       "Step: 92160 Done count: 3870\n"
      ]
     },
     "metadata": {},
     "output_type": "display_data"
    },
    {
     "data": {
      "text/html": [
       "<pre style=\"white-space:pre;overflow-x:auto;line-height:normal;font-family:Menlo,'DejaVu Sans Mono',consolas,'Courier New',monospace\">Step: 92672 Done count: 3900\n",
       "</pre>\n"
      ],
      "text/plain": [
       "Step: 92672 Done count: 3900\n"
      ]
     },
     "metadata": {},
     "output_type": "display_data"
    },
    {
     "data": {
      "text/html": [
       "<pre style=\"white-space:pre;overflow-x:auto;line-height:normal;font-family:Menlo,'DejaVu Sans Mono',consolas,'Courier New',monospace\">Step: 93184 Done count: 3934\n",
       "</pre>\n"
      ],
      "text/plain": [
       "Step: 93184 Done count: 3934\n"
      ]
     },
     "metadata": {},
     "output_type": "display_data"
    },
    {
     "data": {
      "text/html": [
       "<pre style=\"white-space:pre;overflow-x:auto;line-height:normal;font-family:Menlo,'DejaVu Sans Mono',consolas,'Courier New',monospace\">Step: 93696 Done count: 3973\n",
       "</pre>\n"
      ],
      "text/plain": [
       "Step: 93696 Done count: 3973\n"
      ]
     },
     "metadata": {},
     "output_type": "display_data"
    },
    {
     "data": {
      "text/html": [
       "<pre style=\"white-space:pre;overflow-x:auto;line-height:normal;font-family:Menlo,'DejaVu Sans Mono',consolas,'Courier New',monospace\">Step: 94208 Done count: 4021\n",
       "</pre>\n"
      ],
      "text/plain": [
       "Step: 94208 Done count: 4021\n"
      ]
     },
     "metadata": {},
     "output_type": "display_data"
    },
    {
     "name": "stdout",
     "output_type": "stream",
     "text": [
      "-----------------------------------------\n",
      "| rollout/                |             |\n",
      "|    ep_len_mean          | 2.9         |\n",
      "|    ep_rew_mean          | 2.74        |\n",
      "| time/                   |             |\n",
      "|    fps                  | 4           |\n",
      "|    iterations           | 23          |\n",
      "|    time_elapsed         | 19754       |\n",
      "|    total_timesteps      | 94208       |\n",
      "| train/                  |             |\n",
      "|    approx_kl            | 0.005342002 |\n",
      "|    clip_fraction        | 0.0676      |\n",
      "|    clip_range           | 0.196       |\n",
      "|    entropy_loss         | -2.74       |\n",
      "|    explained_variance   | 0.638       |\n",
      "|    learning_rate        | 0.000129    |\n",
      "|    loss                 | 0.353       |\n",
      "|    n_updates            | 66          |\n",
      "|    policy_gradient_loss | 8.04e-06    |\n",
      "|    std                  | 0.953       |\n",
      "|    value_loss           | 0.646       |\n",
      "-----------------------------------------\n"
     ]
    },
    {
     "data": {
      "text/html": [
       "<pre style=\"white-space:pre;overflow-x:auto;line-height:normal;font-family:Menlo,'DejaVu Sans Mono',consolas,'Courier New',monospace\">Step: 94720 Done count: 4065\n",
       "</pre>\n"
      ],
      "text/plain": [
       "Step: 94720 Done count: 4065\n"
      ]
     },
     "metadata": {},
     "output_type": "display_data"
    },
    {
     "data": {
      "text/html": [
       "<pre style=\"white-space:pre;overflow-x:auto;line-height:normal;font-family:Menlo,'DejaVu Sans Mono',consolas,'Courier New',monospace\">Step: 95232 Done count: 4113\n",
       "</pre>\n"
      ],
      "text/plain": [
       "Step: 95232 Done count: 4113\n"
      ]
     },
     "metadata": {},
     "output_type": "display_data"
    },
    {
     "data": {
      "text/html": [
       "<pre style=\"white-space:pre;overflow-x:auto;line-height:normal;font-family:Menlo,'DejaVu Sans Mono',consolas,'Courier New',monospace\">Step: 95744 Done count: 4150\n",
       "</pre>\n"
      ],
      "text/plain": [
       "Step: 95744 Done count: 4150\n"
      ]
     },
     "metadata": {},
     "output_type": "display_data"
    },
    {
     "data": {
      "text/html": [
       "<pre style=\"white-space:pre;overflow-x:auto;line-height:normal;font-family:Menlo,'DejaVu Sans Mono',consolas,'Courier New',monospace\">Step: 96256 Done count: 4189\n",
       "</pre>\n"
      ],
      "text/plain": [
       "Step: 96256 Done count: 4189\n"
      ]
     },
     "metadata": {},
     "output_type": "display_data"
    },
    {
     "data": {
      "text/html": [
       "<pre style=\"white-space:pre;overflow-x:auto;line-height:normal;font-family:Menlo,'DejaVu Sans Mono',consolas,'Courier New',monospace\">Step: 96768 Done count: 4232\n",
       "</pre>\n"
      ],
      "text/plain": [
       "Step: 96768 Done count: 4232\n"
      ]
     },
     "metadata": {},
     "output_type": "display_data"
    },
    {
     "data": {
      "text/html": [
       "<pre style=\"white-space:pre;overflow-x:auto;line-height:normal;font-family:Menlo,'DejaVu Sans Mono',consolas,'Courier New',monospace\">Step: 97280 Done count: 4272\n",
       "</pre>\n"
      ],
      "text/plain": [
       "Step: 97280 Done count: 4272\n"
      ]
     },
     "metadata": {},
     "output_type": "display_data"
    },
    {
     "data": {
      "text/html": [
       "<pre style=\"white-space:pre;overflow-x:auto;line-height:normal;font-family:Menlo,'DejaVu Sans Mono',consolas,'Courier New',monospace\">Step: 97792 Done count: 4309\n",
       "</pre>\n"
      ],
      "text/plain": [
       "Step: 97792 Done count: 4309\n"
      ]
     },
     "metadata": {},
     "output_type": "display_data"
    },
    {
     "data": {
      "text/html": [
       "<pre style=\"white-space:pre;overflow-x:auto;line-height:normal;font-family:Menlo,'DejaVu Sans Mono',consolas,'Courier New',monospace\">Step: 98304 Done count: 4351\n",
       "</pre>\n"
      ],
      "text/plain": [
       "Step: 98304 Done count: 4351\n"
      ]
     },
     "metadata": {},
     "output_type": "display_data"
    },
    {
     "name": "stdout",
     "output_type": "stream",
     "text": [
      "----------------------------------------\n",
      "| rollout/                |            |\n",
      "|    ep_len_mean          | 3.12       |\n",
      "|    ep_rew_mean          | 2.73       |\n",
      "| time/                   |            |\n",
      "|    fps                  | 4          |\n",
      "|    iterations           | 24         |\n",
      "|    time_elapsed         | 20868      |\n",
      "|    total_timesteps      | 98304      |\n",
      "| train/                  |            |\n",
      "|    approx_kl            | 0.00521592 |\n",
      "|    clip_fraction        | 0.0699     |\n",
      "|    clip_range           | 0.196      |\n",
      "|    entropy_loss         | -2.74      |\n",
      "|    explained_variance   | 0.593      |\n",
      "|    learning_rate        | 0.000129   |\n",
      "|    loss                 | 0.282      |\n",
      "|    n_updates            | 69         |\n",
      "|    policy_gradient_loss | 0.00144    |\n",
      "|    std                  | 0.953      |\n",
      "|    value_loss           | 0.656      |\n",
      "----------------------------------------\n"
     ]
    },
    {
     "data": {
      "text/html": [
       "<pre style=\"white-space:pre;overflow-x:auto;line-height:normal;font-family:Menlo,'DejaVu Sans Mono',consolas,'Courier New',monospace\">Step: 98816 Done count: 4393\n",
       "</pre>\n"
      ],
      "text/plain": [
       "Step: 98816 Done count: 4393\n"
      ]
     },
     "metadata": {},
     "output_type": "display_data"
    },
    {
     "data": {
      "text/html": [
       "<pre style=\"white-space:pre;overflow-x:auto;line-height:normal;font-family:Menlo,'DejaVu Sans Mono',consolas,'Courier New',monospace\">Step: 99328 Done count: 4435\n",
       "</pre>\n"
      ],
      "text/plain": [
       "Step: 99328 Done count: 4435\n"
      ]
     },
     "metadata": {},
     "output_type": "display_data"
    },
    {
     "data": {
      "text/html": [
       "<pre style=\"white-space:pre;overflow-x:auto;line-height:normal;font-family:Menlo,'DejaVu Sans Mono',consolas,'Courier New',monospace\">Step: 99840 Done count: 4474\n",
       "</pre>\n"
      ],
      "text/plain": [
       "Step: 99840 Done count: 4474\n"
      ]
     },
     "metadata": {},
     "output_type": "display_data"
    },
    {
     "data": {
      "text/html": [
       "<pre style=\"white-space:pre;overflow-x:auto;line-height:normal;font-family:Menlo,'DejaVu Sans Mono',consolas,'Courier New',monospace\">Step: 100352 Done count: 4518\n",
       "</pre>\n"
      ],
      "text/plain": [
       "Step: 100352 Done count: 4518\n"
      ]
     },
     "metadata": {},
     "output_type": "display_data"
    },
    {
     "data": {
      "text/html": [
       "<pre style=\"white-space:pre;overflow-x:auto;line-height:normal;font-family:Menlo,'DejaVu Sans Mono',consolas,'Courier New',monospace\">Step: 100864 Done count: 4560\n",
       "</pre>\n"
      ],
      "text/plain": [
       "Step: 100864 Done count: 4560\n"
      ]
     },
     "metadata": {},
     "output_type": "display_data"
    },
    {
     "data": {
      "text/html": [
       "<pre style=\"white-space:pre;overflow-x:auto;line-height:normal;font-family:Menlo,'DejaVu Sans Mono',consolas,'Courier New',monospace\">Step: 101376 Done count: 4604\n",
       "</pre>\n"
      ],
      "text/plain": [
       "Step: 101376 Done count: 4604\n"
      ]
     },
     "metadata": {},
     "output_type": "display_data"
    },
    {
     "data": {
      "text/html": [
       "<pre style=\"white-space:pre;overflow-x:auto;line-height:normal;font-family:Menlo,'DejaVu Sans Mono',consolas,'Courier New',monospace\">Step: 101888 Done count: 4648\n",
       "</pre>\n"
      ],
      "text/plain": [
       "Step: 101888 Done count: 4648\n"
      ]
     },
     "metadata": {},
     "output_type": "display_data"
    },
    {
     "data": {
      "text/html": [
       "<pre style=\"white-space:pre;overflow-x:auto;line-height:normal;font-family:Menlo,'DejaVu Sans Mono',consolas,'Courier New',monospace\">Step: 102400 Done count: 4683\n",
       "</pre>\n"
      ],
      "text/plain": [
       "Step: 102400 Done count: 4683\n"
      ]
     },
     "metadata": {},
     "output_type": "display_data"
    },
    {
     "name": "stdout",
     "output_type": "stream",
     "text": [
      "-----------------------------------------\n",
      "| rollout/                |             |\n",
      "|    ep_len_mean          | 3.13        |\n",
      "|    ep_rew_mean          | 2.73        |\n",
      "| time/                   |             |\n",
      "|    fps                  | 4           |\n",
      "|    iterations           | 25          |\n",
      "|    time_elapsed         | 21995       |\n",
      "|    total_timesteps      | 102400      |\n",
      "| train/                  |             |\n",
      "|    approx_kl            | 0.007946489 |\n",
      "|    clip_fraction        | 0.0778      |\n",
      "|    clip_range           | 0.196       |\n",
      "|    entropy_loss         | -2.74       |\n",
      "|    explained_variance   | 0.59        |\n",
      "|    learning_rate        | 0.000129    |\n",
      "|    loss                 | 0.324       |\n",
      "|    n_updates            | 72          |\n",
      "|    policy_gradient_loss | 0.000431    |\n",
      "|    std                  | 0.953       |\n",
      "|    value_loss           | 0.659       |\n",
      "-----------------------------------------\n"
     ]
    },
    {
     "data": {
      "text/html": [
       "<pre style=\"white-space:pre;overflow-x:auto;line-height:normal;font-family:Menlo,'DejaVu Sans Mono',consolas,'Courier New',monospace\">Step: 102912 Done count: 4724\n",
       "</pre>\n"
      ],
      "text/plain": [
       "Step: 102912 Done count: 4724\n"
      ]
     },
     "metadata": {},
     "output_type": "display_data"
    },
    {
     "data": {
      "text/html": [
       "<pre style=\"white-space:pre;overflow-x:auto;line-height:normal;font-family:Menlo,'DejaVu Sans Mono',consolas,'Courier New',monospace\">Step: 103424 Done count: 4767\n",
       "</pre>\n"
      ],
      "text/plain": [
       "Step: 103424 Done count: 4767\n"
      ]
     },
     "metadata": {},
     "output_type": "display_data"
    },
    {
     "data": {
      "text/html": [
       "<pre style=\"white-space:pre;overflow-x:auto;line-height:normal;font-family:Menlo,'DejaVu Sans Mono',consolas,'Courier New',monospace\">Step: 103936 Done count: 4801\n",
       "</pre>\n"
      ],
      "text/plain": [
       "Step: 103936 Done count: 4801\n"
      ]
     },
     "metadata": {},
     "output_type": "display_data"
    },
    {
     "data": {
      "text/html": [
       "<pre style=\"white-space:pre;overflow-x:auto;line-height:normal;font-family:Menlo,'DejaVu Sans Mono',consolas,'Courier New',monospace\">Step: 104448 Done count: 4842\n",
       "</pre>\n"
      ],
      "text/plain": [
       "Step: 104448 Done count: 4842\n"
      ]
     },
     "metadata": {},
     "output_type": "display_data"
    },
    {
     "data": {
      "text/html": [
       "<pre style=\"white-space:pre;overflow-x:auto;line-height:normal;font-family:Menlo,'DejaVu Sans Mono',consolas,'Courier New',monospace\">Step: 104960 Done count: 4879\n",
       "</pre>\n"
      ],
      "text/plain": [
       "Step: 104960 Done count: 4879\n"
      ]
     },
     "metadata": {},
     "output_type": "display_data"
    },
    {
     "data": {
      "text/html": [
       "<pre style=\"white-space:pre;overflow-x:auto;line-height:normal;font-family:Menlo,'DejaVu Sans Mono',consolas,'Courier New',monospace\">Step: 105472 Done count: 4921\n",
       "</pre>\n"
      ],
      "text/plain": [
       "Step: 105472 Done count: 4921\n"
      ]
     },
     "metadata": {},
     "output_type": "display_data"
    },
    {
     "data": {
      "text/html": [
       "<pre style=\"white-space:pre;overflow-x:auto;line-height:normal;font-family:Menlo,'DejaVu Sans Mono',consolas,'Courier New',monospace\">Step: 105984 Done count: 4963\n",
       "</pre>\n"
      ],
      "text/plain": [
       "Step: 105984 Done count: 4963\n"
      ]
     },
     "metadata": {},
     "output_type": "display_data"
    },
    {
     "data": {
      "text/html": [
       "<pre style=\"white-space:pre;overflow-x:auto;line-height:normal;font-family:Menlo,'DejaVu Sans Mono',consolas,'Courier New',monospace\">Step: 106496 Done count: 5008\n",
       "</pre>\n"
      ],
      "text/plain": [
       "Step: 106496 Done count: 5008\n"
      ]
     },
     "metadata": {},
     "output_type": "display_data"
    },
    {
     "name": "stdout",
     "output_type": "stream",
     "text": [
      "------------------------------------------\n",
      "| rollout/                |              |\n",
      "|    ep_len_mean          | 3.27         |\n",
      "|    ep_rew_mean          | 2.7          |\n",
      "| time/                   |              |\n",
      "|    fps                  | 4            |\n",
      "|    iterations           | 26           |\n",
      "|    time_elapsed         | 23138        |\n",
      "|    total_timesteps      | 106496       |\n",
      "| train/                  |              |\n",
      "|    approx_kl            | 0.0073560127 |\n",
      "|    clip_fraction        | 0.0817       |\n",
      "|    clip_range           | 0.196        |\n",
      "|    entropy_loss         | -2.74        |\n",
      "|    explained_variance   | 0.583        |\n",
      "|    learning_rate        | 0.000129     |\n",
      "|    loss                 | 0.283        |\n",
      "|    n_updates            | 75           |\n",
      "|    policy_gradient_loss | -0.00131     |\n",
      "|    std                  | 0.954        |\n",
      "|    value_loss           | 0.649        |\n",
      "------------------------------------------\n"
     ]
    },
    {
     "data": {
      "text/html": [
       "<pre style=\"white-space:pre;overflow-x:auto;line-height:normal;font-family:Menlo,'DejaVu Sans Mono',consolas,'Courier New',monospace\">Step: 107008 Done count: 5050\n",
       "</pre>\n"
      ],
      "text/plain": [
       "Step: 107008 Done count: 5050\n"
      ]
     },
     "metadata": {},
     "output_type": "display_data"
    },
    {
     "data": {
      "text/html": [
       "<pre style=\"white-space:pre;overflow-x:auto;line-height:normal;font-family:Menlo,'DejaVu Sans Mono',consolas,'Courier New',monospace\">Step: 107520 Done count: 5092\n",
       "</pre>\n"
      ],
      "text/plain": [
       "Step: 107520 Done count: 5092\n"
      ]
     },
     "metadata": {},
     "output_type": "display_data"
    },
    {
     "data": {
      "text/html": [
       "<pre style=\"white-space:pre;overflow-x:auto;line-height:normal;font-family:Menlo,'DejaVu Sans Mono',consolas,'Courier New',monospace\">Step: 108032 Done count: 5138\n",
       "</pre>\n"
      ],
      "text/plain": [
       "Step: 108032 Done count: 5138\n"
      ]
     },
     "metadata": {},
     "output_type": "display_data"
    },
    {
     "data": {
      "text/html": [
       "<pre style=\"white-space:pre;overflow-x:auto;line-height:normal;font-family:Menlo,'DejaVu Sans Mono',consolas,'Courier New',monospace\">Step: 108544 Done count: 5183\n",
       "</pre>\n"
      ],
      "text/plain": [
       "Step: 108544 Done count: 5183\n"
      ]
     },
     "metadata": {},
     "output_type": "display_data"
    },
    {
     "data": {
      "text/html": [
       "<pre style=\"white-space:pre;overflow-x:auto;line-height:normal;font-family:Menlo,'DejaVu Sans Mono',consolas,'Courier New',monospace\">Step: 109056 Done count: 5230\n",
       "</pre>\n"
      ],
      "text/plain": [
       "Step: 109056 Done count: 5230\n"
      ]
     },
     "metadata": {},
     "output_type": "display_data"
    },
    {
     "data": {
      "text/html": [
       "<pre style=\"white-space:pre;overflow-x:auto;line-height:normal;font-family:Menlo,'DejaVu Sans Mono',consolas,'Courier New',monospace\">Step: 109568 Done count: 5273\n",
       "</pre>\n"
      ],
      "text/plain": [
       "Step: 109568 Done count: 5273\n"
      ]
     },
     "metadata": {},
     "output_type": "display_data"
    },
    {
     "data": {
      "text/html": [
       "<pre style=\"white-space:pre;overflow-x:auto;line-height:normal;font-family:Menlo,'DejaVu Sans Mono',consolas,'Courier New',monospace\">Step: 110080 Done count: 5314\n",
       "</pre>\n"
      ],
      "text/plain": [
       "Step: 110080 Done count: 5314\n"
      ]
     },
     "metadata": {},
     "output_type": "display_data"
    },
    {
     "data": {
      "text/html": [
       "<pre style=\"white-space:pre;overflow-x:auto;line-height:normal;font-family:Menlo,'DejaVu Sans Mono',consolas,'Courier New',monospace\">Step: 110592 Done count: 5359\n",
       "</pre>\n"
      ],
      "text/plain": [
       "Step: 110592 Done count: 5359\n"
      ]
     },
     "metadata": {},
     "output_type": "display_data"
    },
    {
     "name": "stdout",
     "output_type": "stream",
     "text": [
      "-----------------------------------------\n",
      "| rollout/                |             |\n",
      "|    ep_len_mean          | 3.05        |\n",
      "|    ep_rew_mean          | 2.73        |\n",
      "| time/                   |             |\n",
      "|    fps                  | 4           |\n",
      "|    iterations           | 27          |\n",
      "|    time_elapsed         | 24296       |\n",
      "|    total_timesteps      | 110592      |\n",
      "| train/                  |             |\n",
      "|    approx_kl            | 0.012229144 |\n",
      "|    clip_fraction        | 0.109       |\n",
      "|    clip_range           | 0.196       |\n",
      "|    entropy_loss         | -2.74       |\n",
      "|    explained_variance   | 0.593       |\n",
      "|    learning_rate        | 0.000129    |\n",
      "|    loss                 | 0.416       |\n",
      "|    n_updates            | 78          |\n",
      "|    policy_gradient_loss | 0.00123     |\n",
      "|    std                  | 0.954       |\n",
      "|    value_loss           | 0.635       |\n",
      "-----------------------------------------\n"
     ]
    },
    {
     "data": {
      "text/html": [
       "<pre style=\"white-space:pre;overflow-x:auto;line-height:normal;font-family:Menlo,'DejaVu Sans Mono',consolas,'Courier New',monospace\">Step: 111104 Done count: 5404\n",
       "</pre>\n"
      ],
      "text/plain": [
       "Step: 111104 Done count: 5404\n"
      ]
     },
     "metadata": {},
     "output_type": "display_data"
    },
    {
     "data": {
      "text/html": [
       "<pre style=\"white-space:pre;overflow-x:auto;line-height:normal;font-family:Menlo,'DejaVu Sans Mono',consolas,'Courier New',monospace\">Step: 111616 Done count: 5454\n",
       "</pre>\n"
      ],
      "text/plain": [
       "Step: 111616 Done count: 5454\n"
      ]
     },
     "metadata": {},
     "output_type": "display_data"
    },
    {
     "data": {
      "text/html": [
       "<pre style=\"white-space:pre;overflow-x:auto;line-height:normal;font-family:Menlo,'DejaVu Sans Mono',consolas,'Courier New',monospace\">Step: 112128 Done count: 5496\n",
       "</pre>\n"
      ],
      "text/plain": [
       "Step: 112128 Done count: 5496\n"
      ]
     },
     "metadata": {},
     "output_type": "display_data"
    },
    {
     "data": {
      "text/html": [
       "<pre style=\"white-space:pre;overflow-x:auto;line-height:normal;font-family:Menlo,'DejaVu Sans Mono',consolas,'Courier New',monospace\">Step: 112640 Done count: 5544\n",
       "</pre>\n"
      ],
      "text/plain": [
       "Step: 112640 Done count: 5544\n"
      ]
     },
     "metadata": {},
     "output_type": "display_data"
    },
    {
     "data": {
      "text/html": [
       "<pre style=\"white-space:pre;overflow-x:auto;line-height:normal;font-family:Menlo,'DejaVu Sans Mono',consolas,'Courier New',monospace\">Step: 113152 Done count: 5591\n",
       "</pre>\n"
      ],
      "text/plain": [
       "Step: 113152 Done count: 5591\n"
      ]
     },
     "metadata": {},
     "output_type": "display_data"
    },
    {
     "data": {
      "text/html": [
       "<pre style=\"white-space:pre;overflow-x:auto;line-height:normal;font-family:Menlo,'DejaVu Sans Mono',consolas,'Courier New',monospace\">Step: 113664 Done count: 5633\n",
       "</pre>\n"
      ],
      "text/plain": [
       "Step: 113664 Done count: 5633\n"
      ]
     },
     "metadata": {},
     "output_type": "display_data"
    },
    {
     "data": {
      "text/html": [
       "<pre style=\"white-space:pre;overflow-x:auto;line-height:normal;font-family:Menlo,'DejaVu Sans Mono',consolas,'Courier New',monospace\">Step: 114176 Done count: 5675\n",
       "</pre>\n"
      ],
      "text/plain": [
       "Step: 114176 Done count: 5675\n"
      ]
     },
     "metadata": {},
     "output_type": "display_data"
    },
    {
     "data": {
      "text/html": [
       "<pre style=\"white-space:pre;overflow-x:auto;line-height:normal;font-family:Menlo,'DejaVu Sans Mono',consolas,'Courier New',monospace\">Step: 114688 Done count: 5719\n",
       "</pre>\n"
      ],
      "text/plain": [
       "Step: 114688 Done count: 5719\n"
      ]
     },
     "metadata": {},
     "output_type": "display_data"
    },
    {
     "name": "stdout",
     "output_type": "stream",
     "text": [
      "-----------------------------------------\n",
      "| rollout/                |             |\n",
      "|    ep_len_mean          | 2.97        |\n",
      "|    ep_rew_mean          | 2.7         |\n",
      "| time/                   |             |\n",
      "|    fps                  | 4           |\n",
      "|    iterations           | 28          |\n",
      "|    time_elapsed         | 25470       |\n",
      "|    total_timesteps      | 114688      |\n",
      "| train/                  |             |\n",
      "|    approx_kl            | 0.012198249 |\n",
      "|    clip_fraction        | 0.122       |\n",
      "|    clip_range           | 0.196       |\n",
      "|    entropy_loss         | -2.74       |\n",
      "|    explained_variance   | 0.536       |\n",
      "|    learning_rate        | 0.000129    |\n",
      "|    loss                 | 0.33        |\n",
      "|    n_updates            | 81          |\n",
      "|    policy_gradient_loss | -0.00227    |\n",
      "|    std                  | 0.954       |\n",
      "|    value_loss           | 0.715       |\n",
      "-----------------------------------------\n"
     ]
    },
    {
     "data": {
      "text/html": [
       "<pre style=\"white-space:pre;overflow-x:auto;line-height:normal;font-family:Menlo,'DejaVu Sans Mono',consolas,'Courier New',monospace\">Step: 115200 Done count: 5754\n",
       "</pre>\n"
      ],
      "text/plain": [
       "Step: 115200 Done count: 5754\n"
      ]
     },
     "metadata": {},
     "output_type": "display_data"
    },
    {
     "data": {
      "text/html": [
       "<pre style=\"white-space:pre;overflow-x:auto;line-height:normal;font-family:Menlo,'DejaVu Sans Mono',consolas,'Courier New',monospace\">Step: 115712 Done count: 5800\n",
       "</pre>\n"
      ],
      "text/plain": [
       "Step: 115712 Done count: 5800\n"
      ]
     },
     "metadata": {},
     "output_type": "display_data"
    },
    {
     "data": {
      "text/html": [
       "<pre style=\"white-space:pre;overflow-x:auto;line-height:normal;font-family:Menlo,'DejaVu Sans Mono',consolas,'Courier New',monospace\">Step: 116224 Done count: 5841\n",
       "</pre>\n"
      ],
      "text/plain": [
       "Step: 116224 Done count: 5841\n"
      ]
     },
     "metadata": {},
     "output_type": "display_data"
    },
    {
     "data": {
      "text/html": [
       "<pre style=\"white-space:pre;overflow-x:auto;line-height:normal;font-family:Menlo,'DejaVu Sans Mono',consolas,'Courier New',monospace\">Step: 116736 Done count: 5887\n",
       "</pre>\n"
      ],
      "text/plain": [
       "Step: 116736 Done count: 5887\n"
      ]
     },
     "metadata": {},
     "output_type": "display_data"
    },
    {
     "data": {
      "text/html": [
       "<pre style=\"white-space:pre;overflow-x:auto;line-height:normal;font-family:Menlo,'DejaVu Sans Mono',consolas,'Courier New',monospace\">Step: 117248 Done count: 5927\n",
       "</pre>\n"
      ],
      "text/plain": [
       "Step: 117248 Done count: 5927\n"
      ]
     },
     "metadata": {},
     "output_type": "display_data"
    },
    {
     "data": {
      "text/html": [
       "<pre style=\"white-space:pre;overflow-x:auto;line-height:normal;font-family:Menlo,'DejaVu Sans Mono',consolas,'Courier New',monospace\">Step: 117760 Done count: 5969\n",
       "</pre>\n"
      ],
      "text/plain": [
       "Step: 117760 Done count: 5969\n"
      ]
     },
     "metadata": {},
     "output_type": "display_data"
    },
    {
     "data": {
      "text/html": [
       "<pre style=\"white-space:pre;overflow-x:auto;line-height:normal;font-family:Menlo,'DejaVu Sans Mono',consolas,'Courier New',monospace\">Step: 118272 Done count: 6015\n",
       "</pre>\n"
      ],
      "text/plain": [
       "Step: 118272 Done count: 6015\n"
      ]
     },
     "metadata": {},
     "output_type": "display_data"
    },
    {
     "data": {
      "text/html": [
       "<pre style=\"white-space:pre;overflow-x:auto;line-height:normal;font-family:Menlo,'DejaVu Sans Mono',consolas,'Courier New',monospace\">Step: 118784 Done count: 6060\n",
       "</pre>\n"
      ],
      "text/plain": [
       "Step: 118784 Done count: 6060\n"
      ]
     },
     "metadata": {},
     "output_type": "display_data"
    },
    {
     "name": "stdout",
     "output_type": "stream",
     "text": [
      "-----------------------------------------\n",
      "| rollout/                |             |\n",
      "|    ep_len_mean          | 3           |\n",
      "|    ep_rew_mean          | 2.64        |\n",
      "| time/                   |             |\n",
      "|    fps                  | 4           |\n",
      "|    iterations           | 29          |\n",
      "|    time_elapsed         | 26657       |\n",
      "|    total_timesteps      | 118784      |\n",
      "| train/                  |             |\n",
      "|    approx_kl            | 0.005871655 |\n",
      "|    clip_fraction        | 0.0684      |\n",
      "|    clip_range           | 0.196       |\n",
      "|    entropy_loss         | -2.74       |\n",
      "|    explained_variance   | 0.587       |\n",
      "|    learning_rate        | 0.000129    |\n",
      "|    loss                 | 0.311       |\n",
      "|    n_updates            | 84          |\n",
      "|    policy_gradient_loss | -0.00259    |\n",
      "|    std                  | 0.953       |\n",
      "|    value_loss           | 0.611       |\n",
      "-----------------------------------------\n"
     ]
    },
    {
     "data": {
      "text/html": [
       "<pre style=\"white-space:pre;overflow-x:auto;line-height:normal;font-family:Menlo,'DejaVu Sans Mono',consolas,'Courier New',monospace\">Step: 119296 Done count: 6099\n",
       "</pre>\n"
      ],
      "text/plain": [
       "Step: 119296 Done count: 6099\n"
      ]
     },
     "metadata": {},
     "output_type": "display_data"
    },
    {
     "data": {
      "text/html": [
       "<pre style=\"white-space:pre;overflow-x:auto;line-height:normal;font-family:Menlo,'DejaVu Sans Mono',consolas,'Courier New',monospace\">Step: 119808 Done count: 6144\n",
       "</pre>\n"
      ],
      "text/plain": [
       "Step: 119808 Done count: 6144\n"
      ]
     },
     "metadata": {},
     "output_type": "display_data"
    },
    {
     "data": {
      "text/html": [
       "<pre style=\"white-space:pre;overflow-x:auto;line-height:normal;font-family:Menlo,'DejaVu Sans Mono',consolas,'Courier New',monospace\">Step: 120320 Done count: 6188\n",
       "</pre>\n"
      ],
      "text/plain": [
       "Step: 120320 Done count: 6188\n"
      ]
     },
     "metadata": {},
     "output_type": "display_data"
    },
    {
     "data": {
      "text/html": [
       "<pre style=\"white-space:pre;overflow-x:auto;line-height:normal;font-family:Menlo,'DejaVu Sans Mono',consolas,'Courier New',monospace\">Step: 120832 Done count: 6234\n",
       "</pre>\n"
      ],
      "text/plain": [
       "Step: 120832 Done count: 6234\n"
      ]
     },
     "metadata": {},
     "output_type": "display_data"
    },
    {
     "data": {
      "text/html": [
       "<pre style=\"white-space:pre;overflow-x:auto;line-height:normal;font-family:Menlo,'DejaVu Sans Mono',consolas,'Courier New',monospace\">Step: 121344 Done count: 6280\n",
       "</pre>\n"
      ],
      "text/plain": [
       "Step: 121344 Done count: 6280\n"
      ]
     },
     "metadata": {},
     "output_type": "display_data"
    },
    {
     "data": {
      "text/html": [
       "<pre style=\"white-space:pre;overflow-x:auto;line-height:normal;font-family:Menlo,'DejaVu Sans Mono',consolas,'Courier New',monospace\">Step: 121856 Done count: 6328\n",
       "</pre>\n"
      ],
      "text/plain": [
       "Step: 121856 Done count: 6328\n"
      ]
     },
     "metadata": {},
     "output_type": "display_data"
    },
    {
     "data": {
      "text/html": [
       "<pre style=\"white-space:pre;overflow-x:auto;line-height:normal;font-family:Menlo,'DejaVu Sans Mono',consolas,'Courier New',monospace\">Step: 122368 Done count: 6370\n",
       "</pre>\n"
      ],
      "text/plain": [
       "Step: 122368 Done count: 6370\n"
      ]
     },
     "metadata": {},
     "output_type": "display_data"
    },
    {
     "data": {
      "text/html": [
       "<pre style=\"white-space:pre;overflow-x:auto;line-height:normal;font-family:Menlo,'DejaVu Sans Mono',consolas,'Courier New',monospace\">Step: 122880 Done count: 6412\n",
       "</pre>\n"
      ],
      "text/plain": [
       "Step: 122880 Done count: 6412\n"
      ]
     },
     "metadata": {},
     "output_type": "display_data"
    },
    {
     "name": "stdout",
     "output_type": "stream",
     "text": [
      "------------------------------------------\n",
      "| rollout/                |              |\n",
      "|    ep_len_mean          | 2.95         |\n",
      "|    ep_rew_mean          | 2.74         |\n",
      "| time/                   |              |\n",
      "|    fps                  | 4            |\n",
      "|    iterations           | 30           |\n",
      "|    time_elapsed         | 27848        |\n",
      "|    total_timesteps      | 122880       |\n",
      "| train/                  |              |\n",
      "|    approx_kl            | 0.0066474825 |\n",
      "|    clip_fraction        | 0.1          |\n",
      "|    clip_range           | 0.196        |\n",
      "|    entropy_loss         | -2.74        |\n",
      "|    explained_variance   | 0.579        |\n",
      "|    learning_rate        | 0.000129     |\n",
      "|    loss                 | 0.309        |\n",
      "|    n_updates            | 87           |\n",
      "|    policy_gradient_loss | 0.000966     |\n",
      "|    std                  | 0.952        |\n",
      "|    value_loss           | 0.604        |\n",
      "------------------------------------------\n"
     ]
    },
    {
     "data": {
      "text/html": [
       "<pre style=\"white-space:pre;overflow-x:auto;line-height:normal;font-family:Menlo,'DejaVu Sans Mono',consolas,'Courier New',monospace\">Step: 123392 Done count: 6453\n",
       "</pre>\n"
      ],
      "text/plain": [
       "Step: 123392 Done count: 6453\n"
      ]
     },
     "metadata": {},
     "output_type": "display_data"
    },
    {
     "data": {
      "text/html": [
       "<pre style=\"white-space:pre;overflow-x:auto;line-height:normal;font-family:Menlo,'DejaVu Sans Mono',consolas,'Courier New',monospace\">Step: 123904 Done count: 6501\n",
       "</pre>\n"
      ],
      "text/plain": [
       "Step: 123904 Done count: 6501\n"
      ]
     },
     "metadata": {},
     "output_type": "display_data"
    },
    {
     "data": {
      "text/html": [
       "<pre style=\"white-space:pre;overflow-x:auto;line-height:normal;font-family:Menlo,'DejaVu Sans Mono',consolas,'Courier New',monospace\">Step: 124416 Done count: 6541\n",
       "</pre>\n"
      ],
      "text/plain": [
       "Step: 124416 Done count: 6541\n"
      ]
     },
     "metadata": {},
     "output_type": "display_data"
    },
    {
     "data": {
      "text/html": [
       "<pre style=\"white-space:pre;overflow-x:auto;line-height:normal;font-family:Menlo,'DejaVu Sans Mono',consolas,'Courier New',monospace\">Step: 124928 Done count: 6587\n",
       "</pre>\n"
      ],
      "text/plain": [
       "Step: 124928 Done count: 6587\n"
      ]
     },
     "metadata": {},
     "output_type": "display_data"
    },
    {
     "data": {
      "text/html": [
       "<pre style=\"white-space:pre;overflow-x:auto;line-height:normal;font-family:Menlo,'DejaVu Sans Mono',consolas,'Courier New',monospace\">Step: 125440 Done count: 6626\n",
       "</pre>\n"
      ],
      "text/plain": [
       "Step: 125440 Done count: 6626\n"
      ]
     },
     "metadata": {},
     "output_type": "display_data"
    },
    {
     "data": {
      "text/html": [
       "<pre style=\"white-space:pre;overflow-x:auto;line-height:normal;font-family:Menlo,'DejaVu Sans Mono',consolas,'Courier New',monospace\">Step: 125952 Done count: 6674\n",
       "</pre>\n"
      ],
      "text/plain": [
       "Step: 125952 Done count: 6674\n"
      ]
     },
     "metadata": {},
     "output_type": "display_data"
    },
    {
     "data": {
      "text/html": [
       "<pre style=\"white-space:pre;overflow-x:auto;line-height:normal;font-family:Menlo,'DejaVu Sans Mono',consolas,'Courier New',monospace\">Step: 126464 Done count: 6709\n",
       "</pre>\n"
      ],
      "text/plain": [
       "Step: 126464 Done count: 6709\n"
      ]
     },
     "metadata": {},
     "output_type": "display_data"
    },
    {
     "data": {
      "text/html": [
       "<pre style=\"white-space:pre;overflow-x:auto;line-height:normal;font-family:Menlo,'DejaVu Sans Mono',consolas,'Courier New',monospace\">Step: 126976 Done count: 6746\n",
       "</pre>\n"
      ],
      "text/plain": [
       "Step: 126976 Done count: 6746\n"
      ]
     },
     "metadata": {},
     "output_type": "display_data"
    },
    {
     "name": "stdout",
     "output_type": "stream",
     "text": [
      "-----------------------------------------\n",
      "| rollout/                |             |\n",
      "|    ep_len_mean          | 2.84        |\n",
      "|    ep_rew_mean          | 2.76        |\n",
      "| time/                   |             |\n",
      "|    fps                  | 4           |\n",
      "|    iterations           | 31          |\n",
      "|    time_elapsed         | 29022       |\n",
      "|    total_timesteps      | 126976      |\n",
      "| train/                  |             |\n",
      "|    approx_kl            | 0.006161052 |\n",
      "|    clip_fraction        | 0.0657      |\n",
      "|    clip_range           | 0.196       |\n",
      "|    entropy_loss         | -2.73       |\n",
      "|    explained_variance   | 0.586       |\n",
      "|    learning_rate        | 0.000129    |\n",
      "|    loss                 | 0.428       |\n",
      "|    n_updates            | 90          |\n",
      "|    policy_gradient_loss | 0.00239     |\n",
      "|    std                  | 0.952       |\n",
      "|    value_loss           | 0.61        |\n",
      "-----------------------------------------\n"
     ]
    },
    {
     "data": {
      "text/html": [
       "<pre style=\"white-space:pre;overflow-x:auto;line-height:normal;font-family:Menlo,'DejaVu Sans Mono',consolas,'Courier New',monospace\">Step: 127488 Done count: 6798\n",
       "</pre>\n"
      ],
      "text/plain": [
       "Step: 127488 Done count: 6798\n"
      ]
     },
     "metadata": {},
     "output_type": "display_data"
    },
    {
     "data": {
      "text/html": [
       "<pre style=\"white-space:pre;overflow-x:auto;line-height:normal;font-family:Menlo,'DejaVu Sans Mono',consolas,'Courier New',monospace\">Step: 128000 Done count: 6846\n",
       "</pre>\n"
      ],
      "text/plain": [
       "Step: 128000 Done count: 6846\n"
      ]
     },
     "metadata": {},
     "output_type": "display_data"
    },
    {
     "data": {
      "text/html": [
       "<pre style=\"white-space:pre;overflow-x:auto;line-height:normal;font-family:Menlo,'DejaVu Sans Mono',consolas,'Courier New',monospace\">Step: 128512 Done count: 6889\n",
       "</pre>\n"
      ],
      "text/plain": [
       "Step: 128512 Done count: 6889\n"
      ]
     },
     "metadata": {},
     "output_type": "display_data"
    },
    {
     "data": {
      "text/html": [
       "<pre style=\"white-space:pre;overflow-x:auto;line-height:normal;font-family:Menlo,'DejaVu Sans Mono',consolas,'Courier New',monospace\">Step: 129024 Done count: 6934\n",
       "</pre>\n"
      ],
      "text/plain": [
       "Step: 129024 Done count: 6934\n"
      ]
     },
     "metadata": {},
     "output_type": "display_data"
    },
    {
     "data": {
      "text/html": [
       "<pre style=\"white-space:pre;overflow-x:auto;line-height:normal;font-family:Menlo,'DejaVu Sans Mono',consolas,'Courier New',monospace\">Step: 129536 Done count: 6977\n",
       "</pre>\n"
      ],
      "text/plain": [
       "Step: 129536 Done count: 6977\n"
      ]
     },
     "metadata": {},
     "output_type": "display_data"
    },
    {
     "data": {
      "text/html": [
       "<pre style=\"white-space:pre;overflow-x:auto;line-height:normal;font-family:Menlo,'DejaVu Sans Mono',consolas,'Courier New',monospace\">Step: 130048 Done count: 7025\n",
       "</pre>\n"
      ],
      "text/plain": [
       "Step: 130048 Done count: 7025\n"
      ]
     },
     "metadata": {},
     "output_type": "display_data"
    },
    {
     "data": {
      "text/html": [
       "<pre style=\"white-space:pre;overflow-x:auto;line-height:normal;font-family:Menlo,'DejaVu Sans Mono',consolas,'Courier New',monospace\">Step: 130560 Done count: 7061\n",
       "</pre>\n"
      ],
      "text/plain": [
       "Step: 130560 Done count: 7061\n"
      ]
     },
     "metadata": {},
     "output_type": "display_data"
    },
    {
     "data": {
      "text/html": [
       "<pre style=\"white-space:pre;overflow-x:auto;line-height:normal;font-family:Menlo,'DejaVu Sans Mono',consolas,'Courier New',monospace\">Step: 131072 Done count: 7106\n",
       "</pre>\n"
      ],
      "text/plain": [
       "Step: 131072 Done count: 7106\n"
      ]
     },
     "metadata": {},
     "output_type": "display_data"
    },
    {
     "name": "stdout",
     "output_type": "stream",
     "text": [
      "-----------------------------------------\n",
      "| rollout/                |             |\n",
      "|    ep_len_mean          | 2.86        |\n",
      "|    ep_rew_mean          | 2.7         |\n",
      "| time/                   |             |\n",
      "|    fps                  | 4           |\n",
      "|    iterations           | 32          |\n",
      "|    time_elapsed         | 30228       |\n",
      "|    total_timesteps      | 131072      |\n",
      "| train/                  |             |\n",
      "|    approx_kl            | 0.007457679 |\n",
      "|    clip_fraction        | 0.095       |\n",
      "|    clip_range           | 0.196       |\n",
      "|    entropy_loss         | -2.73       |\n",
      "|    explained_variance   | 0.602       |\n",
      "|    learning_rate        | 0.000129    |\n",
      "|    loss                 | 0.337       |\n",
      "|    n_updates            | 93          |\n",
      "|    policy_gradient_loss | 0.000287    |\n",
      "|    std                  | 0.952       |\n",
      "|    value_loss           | 0.638       |\n",
      "-----------------------------------------\n"
     ]
    },
    {
     "data": {
      "text/html": [
       "<pre style=\"white-space:pre;overflow-x:auto;line-height:normal;font-family:Menlo,'DejaVu Sans Mono',consolas,'Courier New',monospace\">Step: 131584 Done count: 7147\n",
       "</pre>\n"
      ],
      "text/plain": [
       "Step: 131584 Done count: 7147\n"
      ]
     },
     "metadata": {},
     "output_type": "display_data"
    },
    {
     "data": {
      "text/html": [
       "<pre style=\"white-space:pre;overflow-x:auto;line-height:normal;font-family:Menlo,'DejaVu Sans Mono',consolas,'Courier New',monospace\">Step: 132096 Done count: 7192\n",
       "</pre>\n"
      ],
      "text/plain": [
       "Step: 132096 Done count: 7192\n"
      ]
     },
     "metadata": {},
     "output_type": "display_data"
    },
    {
     "data": {
      "text/html": [
       "<pre style=\"white-space:pre;overflow-x:auto;line-height:normal;font-family:Menlo,'DejaVu Sans Mono',consolas,'Courier New',monospace\">Step: 132608 Done count: 7234\n",
       "</pre>\n"
      ],
      "text/plain": [
       "Step: 132608 Done count: 7234\n"
      ]
     },
     "metadata": {},
     "output_type": "display_data"
    },
    {
     "data": {
      "text/html": [
       "<pre style=\"white-space:pre;overflow-x:auto;line-height:normal;font-family:Menlo,'DejaVu Sans Mono',consolas,'Courier New',monospace\">Step: 133120 Done count: 7282\n",
       "</pre>\n"
      ],
      "text/plain": [
       "Step: 133120 Done count: 7282\n"
      ]
     },
     "metadata": {},
     "output_type": "display_data"
    },
    {
     "data": {
      "text/html": [
       "<pre style=\"white-space:pre;overflow-x:auto;line-height:normal;font-family:Menlo,'DejaVu Sans Mono',consolas,'Courier New',monospace\">Step: 133632 Done count: 7334\n",
       "</pre>\n"
      ],
      "text/plain": [
       "Step: 133632 Done count: 7334\n"
      ]
     },
     "metadata": {},
     "output_type": "display_data"
    },
    {
     "data": {
      "text/html": [
       "<pre style=\"white-space:pre;overflow-x:auto;line-height:normal;font-family:Menlo,'DejaVu Sans Mono',consolas,'Courier New',monospace\">Step: 134144 Done count: 7380\n",
       "</pre>\n"
      ],
      "text/plain": [
       "Step: 134144 Done count: 7380\n"
      ]
     },
     "metadata": {},
     "output_type": "display_data"
    },
    {
     "data": {
      "text/html": [
       "<pre style=\"white-space:pre;overflow-x:auto;line-height:normal;font-family:Menlo,'DejaVu Sans Mono',consolas,'Courier New',monospace\">Step: 134656 Done count: 7424\n",
       "</pre>\n"
      ],
      "text/plain": [
       "Step: 134656 Done count: 7424\n"
      ]
     },
     "metadata": {},
     "output_type": "display_data"
    },
    {
     "data": {
      "text/html": [
       "<pre style=\"white-space:pre;overflow-x:auto;line-height:normal;font-family:Menlo,'DejaVu Sans Mono',consolas,'Courier New',monospace\">Step: 135168 Done count: 7468\n",
       "</pre>\n"
      ],
      "text/plain": [
       "Step: 135168 Done count: 7468\n"
      ]
     },
     "metadata": {},
     "output_type": "display_data"
    },
    {
     "name": "stdout",
     "output_type": "stream",
     "text": [
      "------------------------------------------\n",
      "| rollout/                |              |\n",
      "|    ep_len_mean          | 2.57         |\n",
      "|    ep_rew_mean          | 2.79         |\n",
      "| time/                   |              |\n",
      "|    fps                  | 4            |\n",
      "|    iterations           | 33           |\n",
      "|    time_elapsed         | 31435        |\n",
      "|    total_timesteps      | 135168       |\n",
      "| train/                  |              |\n",
      "|    approx_kl            | 0.0061129835 |\n",
      "|    clip_fraction        | 0.0771       |\n",
      "|    clip_range           | 0.196        |\n",
      "|    entropy_loss         | -2.73        |\n",
      "|    explained_variance   | 0.612        |\n",
      "|    learning_rate        | 0.000129     |\n",
      "|    loss                 | 0.207        |\n",
      "|    n_updates            | 96           |\n",
      "|    policy_gradient_loss | 0.000515     |\n",
      "|    std                  | 0.951        |\n",
      "|    value_loss           | 0.594        |\n",
      "------------------------------------------\n"
     ]
    },
    {
     "data": {
      "text/html": [
       "<pre style=\"white-space:pre;overflow-x:auto;line-height:normal;font-family:Menlo,'DejaVu Sans Mono',consolas,'Courier New',monospace\">Step: 135680 Done count: 7517\n",
       "</pre>\n"
      ],
      "text/plain": [
       "Step: 135680 Done count: 7517\n"
      ]
     },
     "metadata": {},
     "output_type": "display_data"
    },
    {
     "data": {
      "text/html": [
       "<pre style=\"white-space:pre;overflow-x:auto;line-height:normal;font-family:Menlo,'DejaVu Sans Mono',consolas,'Courier New',monospace\">Step: 136192 Done count: 7559\n",
       "</pre>\n"
      ],
      "text/plain": [
       "Step: 136192 Done count: 7559\n"
      ]
     },
     "metadata": {},
     "output_type": "display_data"
    },
    {
     "data": {
      "text/html": [
       "<pre style=\"white-space:pre;overflow-x:auto;line-height:normal;font-family:Menlo,'DejaVu Sans Mono',consolas,'Courier New',monospace\">Step: 136704 Done count: 7591\n",
       "</pre>\n"
      ],
      "text/plain": [
       "Step: 136704 Done count: 7591\n"
      ]
     },
     "metadata": {},
     "output_type": "display_data"
    },
    {
     "data": {
      "text/html": [
       "<pre style=\"white-space:pre;overflow-x:auto;line-height:normal;font-family:Menlo,'DejaVu Sans Mono',consolas,'Courier New',monospace\">Step: 137216 Done count: 7634\n",
       "</pre>\n"
      ],
      "text/plain": [
       "Step: 137216 Done count: 7634\n"
      ]
     },
     "metadata": {},
     "output_type": "display_data"
    },
    {
     "data": {
      "text/html": [
       "<pre style=\"white-space:pre;overflow-x:auto;line-height:normal;font-family:Menlo,'DejaVu Sans Mono',consolas,'Courier New',monospace\">Step: 137728 Done count: 7668\n",
       "</pre>\n"
      ],
      "text/plain": [
       "Step: 137728 Done count: 7668\n"
      ]
     },
     "metadata": {},
     "output_type": "display_data"
    },
    {
     "data": {
      "text/html": [
       "<pre style=\"white-space:pre;overflow-x:auto;line-height:normal;font-family:Menlo,'DejaVu Sans Mono',consolas,'Courier New',monospace\">Step: 138240 Done count: 7718\n",
       "</pre>\n"
      ],
      "text/plain": [
       "Step: 138240 Done count: 7718\n"
      ]
     },
     "metadata": {},
     "output_type": "display_data"
    },
    {
     "data": {
      "text/html": [
       "<pre style=\"white-space:pre;overflow-x:auto;line-height:normal;font-family:Menlo,'DejaVu Sans Mono',consolas,'Courier New',monospace\">Step: 138752 Done count: 7762\n",
       "</pre>\n"
      ],
      "text/plain": [
       "Step: 138752 Done count: 7762\n"
      ]
     },
     "metadata": {},
     "output_type": "display_data"
    },
    {
     "data": {
      "text/html": [
       "<pre style=\"white-space:pre;overflow-x:auto;line-height:normal;font-family:Menlo,'DejaVu Sans Mono',consolas,'Courier New',monospace\">Step: 139264 Done count: 7810\n",
       "</pre>\n"
      ],
      "text/plain": [
       "Step: 139264 Done count: 7810\n"
      ]
     },
     "metadata": {},
     "output_type": "display_data"
    },
    {
     "name": "stdout",
     "output_type": "stream",
     "text": [
      "-----------------------------------------\n",
      "| rollout/                |             |\n",
      "|    ep_len_mean          | 2.8         |\n",
      "|    ep_rew_mean          | 2.67        |\n",
      "| time/                   |             |\n",
      "|    fps                  | 4           |\n",
      "|    iterations           | 34          |\n",
      "|    time_elapsed         | 32638       |\n",
      "|    total_timesteps      | 139264      |\n",
      "| train/                  |             |\n",
      "|    approx_kl            | 0.008442799 |\n",
      "|    clip_fraction        | 0.102       |\n",
      "|    clip_range           | 0.196       |\n",
      "|    entropy_loss         | -2.73       |\n",
      "|    explained_variance   | 0.612       |\n",
      "|    learning_rate        | 0.000129    |\n",
      "|    loss                 | 0.179       |\n",
      "|    n_updates            | 99          |\n",
      "|    policy_gradient_loss | 0.00179     |\n",
      "|    std                  | 0.95        |\n",
      "|    value_loss           | 0.579       |\n",
      "-----------------------------------------\n"
     ]
    },
    {
     "data": {
      "text/html": [
       "<pre style=\"white-space:pre;overflow-x:auto;line-height:normal;font-family:Menlo,'DejaVu Sans Mono',consolas,'Courier New',monospace\">Step: 139776 Done count: 7857\n",
       "</pre>\n"
      ],
      "text/plain": [
       "Step: 139776 Done count: 7857\n"
      ]
     },
     "metadata": {},
     "output_type": "display_data"
    },
    {
     "data": {
      "text/html": [
       "<pre style=\"white-space:pre;overflow-x:auto;line-height:normal;font-family:Menlo,'DejaVu Sans Mono',consolas,'Courier New',monospace\">Step: 140288 Done count: 7892\n",
       "</pre>\n"
      ],
      "text/plain": [
       "Step: 140288 Done count: 7892\n"
      ]
     },
     "metadata": {},
     "output_type": "display_data"
    }
   ],
   "source": [
    "# callback = DoneCallback(check_freq=128)\n",
    "callback = DoneCallback(check_freq=128, save_freq=2500, save_path=\"./models/optuna_last_chance_\")\n",
    "# model.set_env(env)\n",
    "model.learn(total_timesteps=512*1000,callback=callback, progress_bar=True)\n",
    "model.save(\"test_PPO_intersection_matthias5_4\")"
   ]
  },
  {
   "cell_type": "code",
   "execution_count": 21,
   "metadata": {},
   "outputs": [
    {
     "name": "stdout",
     "output_type": "stream",
     "text": [
      "Mean reward: 3.1 +/- 0.30\n"
     ]
    }
   ],
   "source": [
    "# Evaluate the trained agent\n",
    "mean_reward, std_reward = evaluate_policy(model, eval_env, n_eval_episodes=10)\n",
    "print(f\"Mean reward: {mean_reward} +/- {std_reward:.2f}\")"
   ]
  },
  {
   "cell_type": "code",
   "execution_count": 1,
   "metadata": {},
   "outputs": [
    {
     "ename": "NameError",
     "evalue": "name 'eval_env' is not defined",
     "output_type": "error",
     "traceback": [
      "\u001b[1;31m---------------------------------------------------------------------------\u001b[0m",
      "\u001b[1;31mNameError\u001b[0m                                 Traceback (most recent call last)",
      "Cell \u001b[1;32mIn[1], line 6\u001b[0m\n\u001b[0;32m      4\u001b[0m \u001b[38;5;28;01mwhile\u001b[39;00m \u001b[38;5;28;01mTrue\u001b[39;00m:\n\u001b[0;32m      5\u001b[0m   done \u001b[38;5;241m=\u001b[39m truncated \u001b[38;5;241m=\u001b[39m \u001b[38;5;28;01mFalse\u001b[39;00m\n\u001b[1;32m----> 6\u001b[0m   obs, info \u001b[38;5;241m=\u001b[39m \u001b[43meval_env\u001b[49m\u001b[38;5;241m.\u001b[39mreset()\n\u001b[0;32m      7\u001b[0m   \u001b[38;5;28;01mwhile\u001b[39;00m \u001b[38;5;129;01mnot\u001b[39;00m (done \u001b[38;5;129;01mor\u001b[39;00m truncated):\n\u001b[0;32m      8\u001b[0m     action, _states \u001b[38;5;241m=\u001b[39m model\u001b[38;5;241m.\u001b[39mpredict(obs, deterministic\u001b[38;5;241m=\u001b[39m\u001b[38;5;28;01mTrue\u001b[39;00m)\n",
      "\u001b[1;31mNameError\u001b[0m: name 'eval_env' is not defined"
     ]
    }
   ],
   "source": [
    "%matplotlib inline\n",
    "import matplotlib.pyplot as plt\n",
    "\n",
    "while True:\n",
    "  done = truncated = False\n",
    "  obs, info = eval_env.reset()\n",
    "  while not (done or truncated):\n",
    "    action, _states = model.predict(obs, deterministic=True)\n",
    "    obs, reward, done, truncated, info = eval_env.step(action)\n",
    "    eval_env.render()\n",
    "\n"
   ]
  },
  {
   "cell_type": "code",
   "execution_count": null,
   "metadata": {},
   "outputs": [],
   "source": [
    "env = gym.make('highway-fast-v0', render_mode='rgb_array')\n",
    "env = record_videos(env)\n",
    "for episode in trange(3, desc='Test episodes'):\n",
    "    (obs, info), done = env.reset(), False\n",
    "    while not done:\n",
    "        action, _ = model.predict(obs, deterministic=True)\n",
    "        obs, reward, done, truncated, info = env.step(int(action))\n",
    "env.close()\n",
    "show_videos()"
   ]
  }
 ],
 "metadata": {
  "kernelspec": {
   "display_name": "Python 3",
   "language": "python",
   "name": "python3"
  },
  "language_info": {
   "codemirror_mode": {
    "name": "ipython",
    "version": 3
   },
   "file_extension": ".py",
   "mimetype": "text/x-python",
   "name": "python",
   "nbconvert_exporter": "python",
   "pygments_lexer": "ipython3",
   "version": "3.11.7"
  }
 },
 "nbformat": 4,
 "nbformat_minor": 2
}
